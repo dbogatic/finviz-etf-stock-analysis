{
 "metadata": {
  "language_info": {
   "codemirror_mode": {
    "name": "ipython",
    "version": 3
   },
   "file_extension": ".py",
   "mimetype": "text/x-python",
   "name": "python",
   "nbconvert_exporter": "python",
   "pygments_lexer": "ipython3",
   "version": "3.8.5"
  },
  "orig_nbformat": 2,
  "kernelspec": {
   "name": "python385jvsc74a57bd0d40f52b9c5fff22e0e411ce66cb8a8127750f0b358a6e9dd1afb39a420e48ccf",
   "display_name": "Python 3.8.5 64-bit ('base': conda)"
  }
 },
 "nbformat": 4,
 "nbformat_minor": 2,
 "cells": [
  {
   "cell_type": "code",
   "execution_count": 109,
   "metadata": {},
   "outputs": [
    {
     "output_type": "execute_result",
     "data": {
      "text/plain": [
       "'\\nSource: https://medium.datadriveninvestor.com/scraping-live-stock-fundamental-ratios-news-and-more-with-python-a716329e0493\\n\\n'"
      ]
     },
     "metadata": {},
     "execution_count": 109
    }
   ],
   "source": [
    "'''\n",
    "Source: https://medium.datadriveninvestor.com/scraping-live-stock-fundamental-ratios-news-and-more-with-python-a716329e0493\n",
    "\n",
    "'''"
   ]
  },
  {
   "cell_type": "code",
   "execution_count": 110,
   "metadata": {},
   "outputs": [],
   "source": [
    "import requests\n",
    "import pandas as pd\n",
    "from bs4 import BeautifulSoup as soup\n",
    "from urllib.request import urlopen, Request"
   ]
  },
  {
   "cell_type": "code",
   "execution_count": 111,
   "metadata": {},
   "outputs": [],
   "source": [
    "# Input symbol\n",
    "symbol = 'TSLA'\n",
    "\n",
    "# Set up scraper\n",
    "url = (\"http://finviz.com/quote.ashx?t=\" + symbol.lower())\n",
    "req = Request(url, headers={'User-Agent': 'Mozilla/5.0'})\n",
    "webpage = urlopen(req).read()\n",
    "html = soup(webpage, \"html.parser\")"
   ]
  },
  {
   "cell_type": "code",
   "execution_count": 112,
   "metadata": {},
   "outputs": [],
   "source": [
    "# Locate fundamentals table\n",
    "fundamentals = pd.read_html(str(html), attrs = {'class': 'snapshot-table2'})[0]"
   ]
  },
  {
   "cell_type": "code",
   "execution_count": 113,
   "metadata": {},
   "outputs": [
    {
     "output_type": "execute_result",
     "data": {
      "text/plain": [
       "    Fundamentals    Values\n",
       "0          Index   S&P 500\n",
       "1            P/E   1088.42\n",
       "2      EPS (ttm)      0.62\n",
       "3    Insider Own     0.10%\n",
       "4   Shs Outstand   959.85M\n",
       "..           ...       ...\n",
       "67         SMA20    -4.54%\n",
       "68         SMA50    -1.89%\n",
       "69        SMA200    20.13%\n",
       "70        Volume  28711915\n",
       "71        Change    -2.51%\n",
       "\n",
       "[72 rows x 2 columns]"
      ],
      "text/html": "<div>\n<style scoped>\n    .dataframe tbody tr th:only-of-type {\n        vertical-align: middle;\n    }\n\n    .dataframe tbody tr th {\n        vertical-align: top;\n    }\n\n    .dataframe thead th {\n        text-align: right;\n    }\n</style>\n<table border=\"1\" class=\"dataframe\">\n  <thead>\n    <tr style=\"text-align: right;\">\n      <th></th>\n      <th>Fundamentals</th>\n      <th>Values</th>\n    </tr>\n  </thead>\n  <tbody>\n    <tr>\n      <th>0</th>\n      <td>Index</td>\n      <td>S&amp;P 500</td>\n    </tr>\n    <tr>\n      <th>1</th>\n      <td>P/E</td>\n      <td>1088.42</td>\n    </tr>\n    <tr>\n      <th>2</th>\n      <td>EPS (ttm)</td>\n      <td>0.62</td>\n    </tr>\n    <tr>\n      <th>3</th>\n      <td>Insider Own</td>\n      <td>0.10%</td>\n    </tr>\n    <tr>\n      <th>4</th>\n      <td>Shs Outstand</td>\n      <td>959.85M</td>\n    </tr>\n    <tr>\n      <th>...</th>\n      <td>...</td>\n      <td>...</td>\n    </tr>\n    <tr>\n      <th>67</th>\n      <td>SMA20</td>\n      <td>-4.54%</td>\n    </tr>\n    <tr>\n      <th>68</th>\n      <td>SMA50</td>\n      <td>-1.89%</td>\n    </tr>\n    <tr>\n      <th>69</th>\n      <td>SMA200</td>\n      <td>20.13%</td>\n    </tr>\n    <tr>\n      <th>70</th>\n      <td>Volume</td>\n      <td>28711915</td>\n    </tr>\n    <tr>\n      <th>71</th>\n      <td>Change</td>\n      <td>-2.51%</td>\n    </tr>\n  </tbody>\n</table>\n<p>72 rows × 2 columns</p>\n</div>"
     },
     "metadata": {},
     "execution_count": 113
    }
   ],
   "source": [
    "# Reshape dataframe to get two columns dataframe and change column names\n",
    "columns = fundamentals.values.reshape(-1,2)\n",
    "fundamentals = pd.DataFrame(columns)\n",
    "fundamentals['Fundamentals'] = fundamentals[0]\n",
    "fundamentals['Values'] = fundamentals[1]\n",
    "fundamentals = fundamentals.drop(fundamentals.columns[[0,1]], axis=1)\n",
    "fundamentals"
   ]
  },
  {
   "cell_type": "code",
   "execution_count": 114,
   "metadata": {},
   "outputs": [],
   "source": [
    "# Locate news table\n",
    "news = pd.read_html(str(html), attrs = {'class': 'fullview-news-outer'})[0]"
   ]
  },
  {
   "cell_type": "code",
   "execution_count": 115,
   "metadata": {},
   "outputs": [
    {
     "output_type": "execute_result",
     "data": {
      "text/plain": [
       "                Date                                              Title\n",
       "0  Apr-29-21 10:21PM  Dow Jones Futures: Amazon, Apple Suppliers, Ni...\n",
       "1            08:36PM  Nio Earnings Mixed As Q2 Deliveries Seen Nearl...\n",
       "2            05:10PM  Straddle Option Price Useful For Earnings Move...\n",
       "3            04:40PM  ARK Invest Stocks To Buy And Watch: 6 Stocks T...\n",
       "4            01:35PM  Tesla slips below 10% of Cathie Wood's flagshi..."
      ],
      "text/html": "<div>\n<style scoped>\n    .dataframe tbody tr th:only-of-type {\n        vertical-align: middle;\n    }\n\n    .dataframe tbody tr th {\n        vertical-align: top;\n    }\n\n    .dataframe thead th {\n        text-align: right;\n    }\n</style>\n<table border=\"1\" class=\"dataframe\">\n  <thead>\n    <tr style=\"text-align: right;\">\n      <th></th>\n      <th>Date</th>\n      <th>Title</th>\n    </tr>\n  </thead>\n  <tbody>\n    <tr>\n      <th>0</th>\n      <td>Apr-29-21 10:21PM</td>\n      <td>Dow Jones Futures: Amazon, Apple Suppliers, Ni...</td>\n    </tr>\n    <tr>\n      <th>1</th>\n      <td>08:36PM</td>\n      <td>Nio Earnings Mixed As Q2 Deliveries Seen Nearl...</td>\n    </tr>\n    <tr>\n      <th>2</th>\n      <td>05:10PM</td>\n      <td>Straddle Option Price Useful For Earnings Move...</td>\n    </tr>\n    <tr>\n      <th>3</th>\n      <td>04:40PM</td>\n      <td>ARK Invest Stocks To Buy And Watch: 6 Stocks T...</td>\n    </tr>\n    <tr>\n      <th>4</th>\n      <td>01:35PM</td>\n      <td>Tesla slips below 10% of Cathie Wood's flagshi...</td>\n    </tr>\n  </tbody>\n</table>\n</div>"
     },
     "metadata": {},
     "execution_count": 115
    }
   ],
   "source": [
    "# Change column names \n",
    "news['Date'] = news[0]\n",
    "news['Title'] = news[1]\n",
    "news = news.drop(news.columns[[0,1]], axis=1)\n",
    "news.head()"
   ]
  },
  {
   "cell_type": "code",
   "execution_count": 116,
   "metadata": {},
   "outputs": [
    {
     "output_type": "execute_result",
     "data": {
      "text/plain": [
       "                                                Link\n",
       "0  https://www.investors.com/market-trend/stock-m...\n",
       "1  https://www.investors.com/news/nio-stock-nio-e...\n",
       "2  https://www.investors.com/research/options/str...\n",
       "3  https://www.investors.com/research/ark-invest-...\n",
       "4  https://finance.yahoo.com/news/tesla-slips-bel..."
      ],
      "text/html": "<div>\n<style scoped>\n    .dataframe tbody tr th:only-of-type {\n        vertical-align: middle;\n    }\n\n    .dataframe tbody tr th {\n        vertical-align: top;\n    }\n\n    .dataframe thead th {\n        text-align: right;\n    }\n</style>\n<table border=\"1\" class=\"dataframe\">\n  <thead>\n    <tr style=\"text-align: right;\">\n      <th></th>\n      <th>Link</th>\n    </tr>\n  </thead>\n  <tbody>\n    <tr>\n      <th>0</th>\n      <td>https://www.investors.com/market-trend/stock-m...</td>\n    </tr>\n    <tr>\n      <th>1</th>\n      <td>https://www.investors.com/news/nio-stock-nio-e...</td>\n    </tr>\n    <tr>\n      <th>2</th>\n      <td>https://www.investors.com/research/options/str...</td>\n    </tr>\n    <tr>\n      <th>3</th>\n      <td>https://www.investors.com/research/ark-invest-...</td>\n    </tr>\n    <tr>\n      <th>4</th>\n      <td>https://finance.yahoo.com/news/tesla-slips-bel...</td>\n    </tr>\n  </tbody>\n</table>\n</div>"
     },
     "metadata": {},
     "execution_count": 116
    }
   ],
   "source": [
    "# Locate href (news url) in news table and create a dataframe of  news links\n",
    "news_link = html.find_all('a', class_ ='tab-link-news')\n",
    "links = []\n",
    "for a in news_link:\n",
    "    links.append(a['href'])\n",
    "links = pd.DataFrame(links)\n",
    "links['Link'] = links\n",
    "links = links.drop(links.columns[0], axis=1)\n",
    "links.head()"
   ]
  },
  {
   "cell_type": "code",
   "execution_count": 117,
   "metadata": {},
   "outputs": [
    {
     "output_type": "execute_result",
     "data": {
      "text/plain": [
       "                                                               Title  \\\n",
       "Date                                                                   \n",
       "Apr-29-21 10:21PM  Dow Jones Futures: Amazon, Apple Suppliers, Ni...   \n",
       "08:36PM            Nio Earnings Mixed As Q2 Deliveries Seen Nearl...   \n",
       "05:10PM            Straddle Option Price Useful For Earnings Move...   \n",
       "04:40PM            ARK Invest Stocks To Buy And Watch: 6 Stocks T...   \n",
       "01:35PM            Tesla slips below 10% of Cathie Wood's flagshi...   \n",
       "\n",
       "                                                                Link  \n",
       "Date                                                                  \n",
       "Apr-29-21 10:21PM  https://www.investors.com/market-trend/stock-m...  \n",
       "08:36PM            https://www.investors.com/news/nio-stock-nio-e...  \n",
       "05:10PM            https://www.investors.com/research/options/str...  \n",
       "04:40PM            https://www.investors.com/research/ark-invest-...  \n",
       "01:35PM            https://finance.yahoo.com/news/tesla-slips-bel...  "
      ],
      "text/html": "<div>\n<style scoped>\n    .dataframe tbody tr th:only-of-type {\n        vertical-align: middle;\n    }\n\n    .dataframe tbody tr th {\n        vertical-align: top;\n    }\n\n    .dataframe thead th {\n        text-align: right;\n    }\n</style>\n<table border=\"1\" class=\"dataframe\">\n  <thead>\n    <tr style=\"text-align: right;\">\n      <th></th>\n      <th>Title</th>\n      <th>Link</th>\n    </tr>\n    <tr>\n      <th>Date</th>\n      <th></th>\n      <th></th>\n    </tr>\n  </thead>\n  <tbody>\n    <tr>\n      <th>Apr-29-21 10:21PM</th>\n      <td>Dow Jones Futures: Amazon, Apple Suppliers, Ni...</td>\n      <td>https://www.investors.com/market-trend/stock-m...</td>\n    </tr>\n    <tr>\n      <th>08:36PM</th>\n      <td>Nio Earnings Mixed As Q2 Deliveries Seen Nearl...</td>\n      <td>https://www.investors.com/news/nio-stock-nio-e...</td>\n    </tr>\n    <tr>\n      <th>05:10PM</th>\n      <td>Straddle Option Price Useful For Earnings Move...</td>\n      <td>https://www.investors.com/research/options/str...</td>\n    </tr>\n    <tr>\n      <th>04:40PM</th>\n      <td>ARK Invest Stocks To Buy And Watch: 6 Stocks T...</td>\n      <td>https://www.investors.com/research/ark-invest-...</td>\n    </tr>\n    <tr>\n      <th>01:35PM</th>\n      <td>Tesla slips below 10% of Cathie Wood's flagshi...</td>\n      <td>https://finance.yahoo.com/news/tesla-slips-bel...</td>\n    </tr>\n  </tbody>\n</table>\n</div>"
     },
     "metadata": {},
     "execution_count": 117
    }
   ],
   "source": [
    "# Concat news titles and news links into one dataframe, set date as index\n",
    "news = pd.concat([news, links], join='inner', axis=1)\n",
    "news = news.set_index('Date')\n",
    "news.head()"
   ]
  },
  {
   "cell_type": "code",
   "execution_count": 118,
   "metadata": {},
   "outputs": [
    {
     "output_type": "execute_result",
     "data": {
      "text/plain": [
       "0   Insider Trading                    Relationship    Date      Transaction  \\\n",
       "1  Baglino Andrew D  SVP Powertrain and Energy Eng.  Apr 27  Option Exercise   \n",
       "2  Baglino Andrew D  SVP Powertrain and Energy Eng.  Apr 27             Sale   \n",
       "3   DENHOLM ROBYN M                        Director  Apr 26  Option Exercise   \n",
       "4   DENHOLM ROBYN M                        Director  Apr 26             Sale   \n",
       "5  Kirkhorn Zachary         Chief Financial Officer  Apr 19             Sale   \n",
       "\n",
       "0    Cost #Shares Value ($) #Shares Total       SEC Form 4  \n",
       "1   41.57    1000     41570         20114  Apr 29 08:20 PM  \n",
       "2  717.17    1500   1075755         18614  Apr 29 08:20 PM  \n",
       "3   52.38   62500   3273750         67500  Apr 28 09:41 PM  \n",
       "4  740.97   62500  46310388          5000  Apr 28 09:41 PM  \n",
       "5  718.00    1250    897500         55984  Apr 21 08:23 PM  "
      ],
      "text/html": "<div>\n<style scoped>\n    .dataframe tbody tr th:only-of-type {\n        vertical-align: middle;\n    }\n\n    .dataframe tbody tr th {\n        vertical-align: top;\n    }\n\n    .dataframe thead th {\n        text-align: right;\n    }\n</style>\n<table border=\"1\" class=\"dataframe\">\n  <thead>\n    <tr style=\"text-align: right;\">\n      <th></th>\n      <th>Insider Trading</th>\n      <th>Relationship</th>\n      <th>Date</th>\n      <th>Transaction</th>\n      <th>Cost</th>\n      <th>#Shares</th>\n      <th>Value ($)</th>\n      <th>#Shares Total</th>\n      <th>SEC Form 4</th>\n    </tr>\n  </thead>\n  <tbody>\n    <tr>\n      <th>1</th>\n      <td>Baglino Andrew D</td>\n      <td>SVP Powertrain and Energy Eng.</td>\n      <td>Apr 27</td>\n      <td>Option Exercise</td>\n      <td>41.57</td>\n      <td>1000</td>\n      <td>41570</td>\n      <td>20114</td>\n      <td>Apr 29 08:20 PM</td>\n    </tr>\n    <tr>\n      <th>2</th>\n      <td>Baglino Andrew D</td>\n      <td>SVP Powertrain and Energy Eng.</td>\n      <td>Apr 27</td>\n      <td>Sale</td>\n      <td>717.17</td>\n      <td>1500</td>\n      <td>1075755</td>\n      <td>18614</td>\n      <td>Apr 29 08:20 PM</td>\n    </tr>\n    <tr>\n      <th>3</th>\n      <td>DENHOLM ROBYN M</td>\n      <td>Director</td>\n      <td>Apr 26</td>\n      <td>Option Exercise</td>\n      <td>52.38</td>\n      <td>62500</td>\n      <td>3273750</td>\n      <td>67500</td>\n      <td>Apr 28 09:41 PM</td>\n    </tr>\n    <tr>\n      <th>4</th>\n      <td>DENHOLM ROBYN M</td>\n      <td>Director</td>\n      <td>Apr 26</td>\n      <td>Sale</td>\n      <td>740.97</td>\n      <td>62500</td>\n      <td>46310388</td>\n      <td>5000</td>\n      <td>Apr 28 09:41 PM</td>\n    </tr>\n    <tr>\n      <th>5</th>\n      <td>Kirkhorn Zachary</td>\n      <td>Chief Financial Officer</td>\n      <td>Apr 19</td>\n      <td>Sale</td>\n      <td>718.00</td>\n      <td>1250</td>\n      <td>897500</td>\n      <td>55984</td>\n      <td>Apr 21 08:23 PM</td>\n    </tr>\n  </tbody>\n</table>\n</div>"
     },
     "metadata": {},
     "execution_count": 118
    }
   ],
   "source": [
    "# Locate insider trading table, and set the first row as column title\n",
    "insider_trading = pd.read_html(str(html), attrs = {'class':'body-table'})[0]\n",
    "insider_trading.columns = insider_trading.iloc[0]\n",
    "insider_trading = insider_trading.drop([0], axis=0)\n",
    "insider_trading.head()"
   ]
  }
 ]
}