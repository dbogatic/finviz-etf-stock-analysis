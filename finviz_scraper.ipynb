{
 "metadata": {
  "language_info": {
   "codemirror_mode": {
    "name": "ipython",
    "version": 3
   },
   "file_extension": ".py",
   "mimetype": "text/x-python",
   "name": "python",
   "nbconvert_exporter": "python",
   "pygments_lexer": "ipython3",
   "version": "3.8.5"
  },
  "orig_nbformat": 2,
  "kernelspec": {
   "name": "python385jvsc74a57bd0183bbf6827d058c2a2fb0f4acdc0420849dda2b4380af0e437e38c64d798d8b7",
   "display_name": "Python 3.8.5 64-bit ('base': conda)"
  }
 },
 "nbformat": 4,
 "nbformat_minor": 2,
 "cells": [
  {
   "cell_type": "code",
   "execution_count": 2,
   "metadata": {},
   "outputs": [
    {
     "output_type": "execute_result",
     "data": {
      "text/plain": [
       "'\\nSource: https://medium.datadriveninvestor.com/scraping-live-stock-fundamental-ratios-news-and-more-with-python-a716329e0493\\n\\n'"
      ]
     },
     "metadata": {},
     "execution_count": 2
    }
   ],
   "source": [
    "'''\n",
    "Source: https://medium.datadriveninvestor.com/scraping-live-stock-fundamental-ratios-news-and-more-with-python-a716329e0493\n",
    "\n",
    "'''"
   ]
  },
  {
   "cell_type": "code",
   "execution_count": 162,
   "metadata": {},
   "outputs": [],
   "source": [
    "import requests\n",
    "import pandas as pd\n",
    "from bs4 import BeautifulSoup as soup\n",
    "from urllib.request import urlopen, Request"
   ]
  },
  {
   "cell_type": "code",
   "execution_count": 163,
   "metadata": {},
   "outputs": [],
   "source": [
    "# Input symbol\n",
    "symbol = 'TSLA'\n",
    "\n",
    "# Set up scraper\n",
    "url = (\"http://finviz.com/quote.ashx?t=\" + symbol.lower())\n",
    "req = Request(url, headers={'User-Agent': 'Mozilla/5.0'})\n",
    "webpage = urlopen(req).read()\n",
    "html = soup(webpage, \"html.parser\")"
   ]
  },
  {
   "cell_type": "code",
   "execution_count": 214,
   "metadata": {},
   "outputs": [
    {
     "output_type": "execute_result",
     "data": {
      "text/plain": [
       "           0        1            2        3           4        5   \\\n",
       "0       Index  S&P 500          P/E  1116.40   EPS (ttm)     0.62   \n",
       "1  Market Cap  666.52B  Forward P/E   117.36  EPS next Y     5.92   \n",
       "2      Income  690.00M          PEG    31.27  EPS next Q     0.79   \n",
       "3       Sales   31.54B          P/S    21.14  EPS this Y  165.00%   \n",
       "4     Book/sh    23.37          P/B    29.71  EPS next Y   36.97%   \n",
       "\n",
       "              6        7             8        9             10       11  \n",
       "0    Insider Own    0.10%  Shs Outstand  959.85M     Perf Week   -6.68%  \n",
       "1  Insider Trans  -33.54%     Shs Float  770.38M    Perf Month   13.60%  \n",
       "2       Inst Own   46.00%   Short Float    6.64%  Perf Quarter  -19.64%  \n",
       "3     Inst Trans    0.10%   Short Ratio     1.50   Perf Half Y   65.22%  \n",
       "4            ROA    1.60%  Target Price   650.81     Perf Year  351.43%  "
      ],
      "text/html": "<div>\n<style scoped>\n    .dataframe tbody tr th:only-of-type {\n        vertical-align: middle;\n    }\n\n    .dataframe tbody tr th {\n        vertical-align: top;\n    }\n\n    .dataframe thead th {\n        text-align: right;\n    }\n</style>\n<table border=\"1\" class=\"dataframe\">\n  <thead>\n    <tr style=\"text-align: right;\">\n      <th></th>\n      <th>0</th>\n      <th>1</th>\n      <th>2</th>\n      <th>3</th>\n      <th>4</th>\n      <th>5</th>\n      <th>6</th>\n      <th>7</th>\n      <th>8</th>\n      <th>9</th>\n      <th>10</th>\n      <th>11</th>\n    </tr>\n  </thead>\n  <tbody>\n    <tr>\n      <th>0</th>\n      <td>Index</td>\n      <td>S&amp;P 500</td>\n      <td>P/E</td>\n      <td>1116.40</td>\n      <td>EPS (ttm)</td>\n      <td>0.62</td>\n      <td>Insider Own</td>\n      <td>0.10%</td>\n      <td>Shs Outstand</td>\n      <td>959.85M</td>\n      <td>Perf Week</td>\n      <td>-6.68%</td>\n    </tr>\n    <tr>\n      <th>1</th>\n      <td>Market Cap</td>\n      <td>666.52B</td>\n      <td>Forward P/E</td>\n      <td>117.36</td>\n      <td>EPS next Y</td>\n      <td>5.92</td>\n      <td>Insider Trans</td>\n      <td>-33.54%</td>\n      <td>Shs Float</td>\n      <td>770.38M</td>\n      <td>Perf Month</td>\n      <td>13.60%</td>\n    </tr>\n    <tr>\n      <th>2</th>\n      <td>Income</td>\n      <td>690.00M</td>\n      <td>PEG</td>\n      <td>31.27</td>\n      <td>EPS next Q</td>\n      <td>0.79</td>\n      <td>Inst Own</td>\n      <td>46.00%</td>\n      <td>Short Float</td>\n      <td>6.64%</td>\n      <td>Perf Quarter</td>\n      <td>-19.64%</td>\n    </tr>\n    <tr>\n      <th>3</th>\n      <td>Sales</td>\n      <td>31.54B</td>\n      <td>P/S</td>\n      <td>21.14</td>\n      <td>EPS this Y</td>\n      <td>165.00%</td>\n      <td>Inst Trans</td>\n      <td>0.10%</td>\n      <td>Short Ratio</td>\n      <td>1.50</td>\n      <td>Perf Half Y</td>\n      <td>65.22%</td>\n    </tr>\n    <tr>\n      <th>4</th>\n      <td>Book/sh</td>\n      <td>23.37</td>\n      <td>P/B</td>\n      <td>29.71</td>\n      <td>EPS next Y</td>\n      <td>36.97%</td>\n      <td>ROA</td>\n      <td>1.60%</td>\n      <td>Target Price</td>\n      <td>650.81</td>\n      <td>Perf Year</td>\n      <td>351.43%</td>\n    </tr>\n  </tbody>\n</table>\n</div>"
     },
     "metadata": {},
     "execution_count": 214
    }
   ],
   "source": [
    "# Locate fundamentals table\n",
    "fundamentals = pd.read_html(str(html), attrs = {'class': 'snapshot-table2'})[0]\n",
    "fundamentals.head()"
   ]
  },
  {
   "cell_type": "code",
   "execution_count": 215,
   "metadata": {},
   "outputs": [
    {
     "output_type": "execute_result",
     "data": {
      "text/plain": [
       "    Fundamentals    Values\n",
       "0          Index   S&P 500\n",
       "1            P/E   1116.40\n",
       "2      EPS (ttm)      0.62\n",
       "3    Insider Own     0.10%\n",
       "4   Shs Outstand   959.85M\n",
       "..           ...       ...\n",
       "67         SMA20    -1.68%\n",
       "68         SMA50     0.34%\n",
       "69        SMA200    23.65%\n",
       "70        Volume  21795135\n",
       "71        Change    -1.47%\n",
       "\n",
       "[72 rows x 2 columns]"
      ],
      "text/html": "<div>\n<style scoped>\n    .dataframe tbody tr th:only-of-type {\n        vertical-align: middle;\n    }\n\n    .dataframe tbody tr th {\n        vertical-align: top;\n    }\n\n    .dataframe thead th {\n        text-align: right;\n    }\n</style>\n<table border=\"1\" class=\"dataframe\">\n  <thead>\n    <tr style=\"text-align: right;\">\n      <th></th>\n      <th>Fundamentals</th>\n      <th>Values</th>\n    </tr>\n  </thead>\n  <tbody>\n    <tr>\n      <th>0</th>\n      <td>Index</td>\n      <td>S&amp;P 500</td>\n    </tr>\n    <tr>\n      <th>1</th>\n      <td>P/E</td>\n      <td>1116.40</td>\n    </tr>\n    <tr>\n      <th>2</th>\n      <td>EPS (ttm)</td>\n      <td>0.62</td>\n    </tr>\n    <tr>\n      <th>3</th>\n      <td>Insider Own</td>\n      <td>0.10%</td>\n    </tr>\n    <tr>\n      <th>4</th>\n      <td>Shs Outstand</td>\n      <td>959.85M</td>\n    </tr>\n    <tr>\n      <th>...</th>\n      <td>...</td>\n      <td>...</td>\n    </tr>\n    <tr>\n      <th>67</th>\n      <td>SMA20</td>\n      <td>-1.68%</td>\n    </tr>\n    <tr>\n      <th>68</th>\n      <td>SMA50</td>\n      <td>0.34%</td>\n    </tr>\n    <tr>\n      <th>69</th>\n      <td>SMA200</td>\n      <td>23.65%</td>\n    </tr>\n    <tr>\n      <th>70</th>\n      <td>Volume</td>\n      <td>21795135</td>\n    </tr>\n    <tr>\n      <th>71</th>\n      <td>Change</td>\n      <td>-1.47%</td>\n    </tr>\n  </tbody>\n</table>\n<p>72 rows × 2 columns</p>\n</div>"
     },
     "metadata": {},
     "execution_count": 215
    }
   ],
   "source": [
    "# Reshape dataframe to get two columns dataframe and change column names\n",
    "columns = fundamentals.values.reshape(-1,2)\n",
    "fundamentals = pd.DataFrame(columns)\n",
    "fundamentals['Fundamentals'] = fundamentals[0]\n",
    "fundamentals['Values'] = fundamentals[1]\n",
    "fundamentals = fundamentals.drop(fundamentals.columns[[0,1]], axis=1)\n",
    "fundamentals"
   ]
  },
  {
   "cell_type": "code",
   "execution_count": 201,
   "metadata": {},
   "outputs": [
    {
     "output_type": "execute_result",
     "data": {
      "text/plain": [
       "                                                               Title\n",
       "Date                                                                \n",
       "Apr-28-21 10:20PM  Dow Jones Futures Extend Gains As Biden Touts ...\n",
       "09:02PM                  Teslas Earnings Note a New Risk Barrons.com\n",
       "08:53PM            ARK Invest Stocks To Buy And Watch: 6 Stocks T...\n",
       "08:11PM            Auto Chip Shortage Crisis Worsens With BMW, Fo...\n",
       "06:53PM            UPDATE 1-U.S. safety board to release report o...\n",
       "...                                                              ...\n",
       "04:12PM            Tesla edges past Wall Street revenue target, b...\n",
       "04:10PM            Tesla posts Q1 earnings that top estimates, do...\n",
       "04:05PM            Tesla Releases First Quarter 2021 Financial Re...\n",
       "04:00PM            US STOCKS-S&P 500, Nasdaq close at record high...\n",
       "03:40PM            All Eyes on Tesla Stock Ahead of Earnings Toda...\n",
       "\n",
       "[100 rows x 1 columns]"
      ],
      "text/html": "<div>\n<style scoped>\n    .dataframe tbody tr th:only-of-type {\n        vertical-align: middle;\n    }\n\n    .dataframe tbody tr th {\n        vertical-align: top;\n    }\n\n    .dataframe thead th {\n        text-align: right;\n    }\n</style>\n<table border=\"1\" class=\"dataframe\">\n  <thead>\n    <tr style=\"text-align: right;\">\n      <th></th>\n      <th>Title</th>\n    </tr>\n    <tr>\n      <th>Date</th>\n      <th></th>\n    </tr>\n  </thead>\n  <tbody>\n    <tr>\n      <th>Apr-28-21 10:20PM</th>\n      <td>Dow Jones Futures Extend Gains As Biden Touts ...</td>\n    </tr>\n    <tr>\n      <th>09:02PM</th>\n      <td>Teslas Earnings Note a New Risk Barrons.com</td>\n    </tr>\n    <tr>\n      <th>08:53PM</th>\n      <td>ARK Invest Stocks To Buy And Watch: 6 Stocks T...</td>\n    </tr>\n    <tr>\n      <th>08:11PM</th>\n      <td>Auto Chip Shortage Crisis Worsens With BMW, Fo...</td>\n    </tr>\n    <tr>\n      <th>06:53PM</th>\n      <td>UPDATE 1-U.S. safety board to release report o...</td>\n    </tr>\n    <tr>\n      <th>...</th>\n      <td>...</td>\n    </tr>\n    <tr>\n      <th>04:12PM</th>\n      <td>Tesla edges past Wall Street revenue target, b...</td>\n    </tr>\n    <tr>\n      <th>04:10PM</th>\n      <td>Tesla posts Q1 earnings that top estimates, do...</td>\n    </tr>\n    <tr>\n      <th>04:05PM</th>\n      <td>Tesla Releases First Quarter 2021 Financial Re...</td>\n    </tr>\n    <tr>\n      <th>04:00PM</th>\n      <td>US STOCKS-S&amp;P 500, Nasdaq close at record high...</td>\n    </tr>\n    <tr>\n      <th>03:40PM</th>\n      <td>All Eyes on Tesla Stock Ahead of Earnings Toda...</td>\n    </tr>\n  </tbody>\n</table>\n<p>100 rows × 1 columns</p>\n</div>"
     },
     "metadata": {},
     "execution_count": 201
    }
   ],
   "source": [
    "# Locate news table, change column names and set date as index\n",
    "news = pd.read_html(str(html), attrs = {'class': 'fullview-news-outer'})[0]\n",
    "news['Date'] = news[0]\n",
    "news['Title'] = news[1]\n",
    "news = news.drop(news.columns[[0,1]], axis=1)\n",
    "news = news.set_index('Date')\n",
    "news"
   ]
  },
  {
   "cell_type": "code",
   "execution_count": 248,
   "metadata": {},
   "outputs": [
    {
     "output_type": "execute_result",
     "data": {
      "text/plain": [
       "0   Insider Trading               Relationship    Date      Transaction  \\\n",
       "1   DENHOLM ROBYN M                   Director  Apr 26  Option Exercise   \n",
       "2   DENHOLM ROBYN M                   Director  Apr 26             Sale   \n",
       "3  Kirkhorn Zachary    Chief Financial Officer  Apr 19             Sale   \n",
       "4  Guillen Jerome M  President, Heavy Trucking  Apr 12  Option Exercise   \n",
       "5  Guillen Jerome M  President, Heavy Trucking  Apr 12             Sale   \n",
       "\n",
       "0    Cost #Shares Value ($) #Shares Total       SEC Form 4  \n",
       "1   52.38   62500   3273750         67500  Apr 28 09:41 PM  \n",
       "2  740.97   62500  46310388          5000  Apr 28 09:41 PM  \n",
       "3  718.00    1250    897500         55984  Apr 21 08:23 PM  \n",
       "4   55.32   10000    553200         60598  Apr 14 07:13 PM  \n",
       "5  697.87   10000   6978659         50598  Apr 14 07:13 PM  "
      ],
      "text/html": "<div>\n<style scoped>\n    .dataframe tbody tr th:only-of-type {\n        vertical-align: middle;\n    }\n\n    .dataframe tbody tr th {\n        vertical-align: top;\n    }\n\n    .dataframe thead th {\n        text-align: right;\n    }\n</style>\n<table border=\"1\" class=\"dataframe\">\n  <thead>\n    <tr style=\"text-align: right;\">\n      <th></th>\n      <th>Insider Trading</th>\n      <th>Relationship</th>\n      <th>Date</th>\n      <th>Transaction</th>\n      <th>Cost</th>\n      <th>#Shares</th>\n      <th>Value ($)</th>\n      <th>#Shares Total</th>\n      <th>SEC Form 4</th>\n    </tr>\n  </thead>\n  <tbody>\n    <tr>\n      <th>1</th>\n      <td>DENHOLM ROBYN M</td>\n      <td>Director</td>\n      <td>Apr 26</td>\n      <td>Option Exercise</td>\n      <td>52.38</td>\n      <td>62500</td>\n      <td>3273750</td>\n      <td>67500</td>\n      <td>Apr 28 09:41 PM</td>\n    </tr>\n    <tr>\n      <th>2</th>\n      <td>DENHOLM ROBYN M</td>\n      <td>Director</td>\n      <td>Apr 26</td>\n      <td>Sale</td>\n      <td>740.97</td>\n      <td>62500</td>\n      <td>46310388</td>\n      <td>5000</td>\n      <td>Apr 28 09:41 PM</td>\n    </tr>\n    <tr>\n      <th>3</th>\n      <td>Kirkhorn Zachary</td>\n      <td>Chief Financial Officer</td>\n      <td>Apr 19</td>\n      <td>Sale</td>\n      <td>718.00</td>\n      <td>1250</td>\n      <td>897500</td>\n      <td>55984</td>\n      <td>Apr 21 08:23 PM</td>\n    </tr>\n    <tr>\n      <th>4</th>\n      <td>Guillen Jerome M</td>\n      <td>President, Heavy Trucking</td>\n      <td>Apr 12</td>\n      <td>Option Exercise</td>\n      <td>55.32</td>\n      <td>10000</td>\n      <td>553200</td>\n      <td>60598</td>\n      <td>Apr 14 07:13 PM</td>\n    </tr>\n    <tr>\n      <th>5</th>\n      <td>Guillen Jerome M</td>\n      <td>President, Heavy Trucking</td>\n      <td>Apr 12</td>\n      <td>Sale</td>\n      <td>697.87</td>\n      <td>10000</td>\n      <td>6978659</td>\n      <td>50598</td>\n      <td>Apr 14 07:13 PM</td>\n    </tr>\n  </tbody>\n</table>\n</div>"
     },
     "metadata": {},
     "execution_count": 248
    }
   ],
   "source": [
    "# Locate insider trading table, and set the first row as column title\n",
    "insider_trading = pd.read_html(str(html), attrs = {'class':'body-table'})[0]\n",
    "insider_trading.columns = insider_trading.iloc[0]\n",
    "insider_trading = insider_trading.drop([0], axis=0)\n",
    "insider_trading.head()"
   ]
  }
 ]
}