{
 "metadata": {
  "language_info": {
   "codemirror_mode": {
    "name": "ipython",
    "version": 3
   },
   "file_extension": ".py",
   "mimetype": "text/x-python",
   "name": "python",
   "nbconvert_exporter": "python",
   "pygments_lexer": "ipython3",
   "version": "3.7.9"
  },
  "orig_nbformat": 2,
  "kernelspec": {
   "name": "python379jvsc74a57bd01d1365bc7bea9ca53bbaaff2a498c5cc15b63a6fcc47bade387e2edfe7e7b068",
   "display_name": "Python 3.7.9 64-bit ('algotrading': conda)"
  }
 },
 "nbformat": 4,
 "nbformat_minor": 2,
 "cells": [
  {
   "cell_type": "code",
   "execution_count": 1,
   "metadata": {},
   "outputs": [
    {
     "output_type": "execute_result",
     "data": {
      "text/plain": [
       "'\\nSource: https://medium.datadriveninvestor.com/scraping-live-stock-fundamental-ratios-news-and-more-with-python-a716329e0493\\n\\n'"
      ]
     },
     "metadata": {},
     "execution_count": 1
    }
   ],
   "source": [
    "'''\n",
    "Source: https://medium.datadriveninvestor.com/scraping-live-stock-fundamental-ratios-news-and-more-with-python-a716329e0493\n",
    "\n",
    "'''"
   ]
  },
  {
   "cell_type": "code",
   "execution_count": 2,
   "metadata": {},
   "outputs": [],
   "source": [
    "import requests\n",
    "import pandas as pd\n",
    "from lxml import html\n",
    "import lxml.html\n",
    "from lxml import etree\n",
    "from bs4 import BeautifulSoup as soup\n",
    "from bs4 import SoupStrainer\n",
    "from urllib.request import urlopen, Request"
   ]
  },
  {
   "cell_type": "code",
   "execution_count": 3,
   "metadata": {},
   "outputs": [],
   "source": [
    "symbol='aapl'\n",
    "url = (\"https://finviz.com/news.ashx?t=/forms/post\" + symbol.lower())\n",
    "r = requests.get(url, headers={'User-Agent': 'Mozilla/5.0'})\n",
    "content = r.content"
   ]
  },
  {
   "cell_type": "code",
   "execution_count": 4,
   "metadata": {},
   "outputs": [
    {
     "output_type": "execute_result",
     "data": {
      "text/plain": [
       "<Element html at 0x7fb2c9342dd0>"
      ]
     },
     "metadata": {},
     "execution_count": 4
    }
   ],
   "source": [
    "tree = html.fromstring(content)\n",
    "tree"
   ]
  },
  {
   "cell_type": "code",
   "execution_count": 7,
   "metadata": {},
   "outputs": [
    {
     "output_type": "stream",
     "name": "stdout",
     "text": [
      "Element: input \n\tvalues(): ['Search ticker, company or profile', 'text', ''] \n\tattrib: {'placeholder': 'Search ticker, company or profile', 'type': 'text', 'value': ''} \n\titems(): [('placeholder', 'Search ticker, company or profile'), ('type', 'text'), ('value', '')] \n\tkeys(): ['placeholder', 'type', 'value']\n\n\n"
     ]
    }
   ],
   "source": [
    "for element in tree.iter('input'):\n",
    "     print(\"Element: %s \\n\\tvalues(): %s \\n\\tattrib: %s \\n\\titems(): %s \\n\\tkeys(): %s\"%\n",
    "     (element.tag, element.values(),element.attrib,element.items(),element.keys()))\n",
    "     print(\"\\n\")"
   ]
  },
  {
   "source": [],
   "cell_type": "markdown",
   "metadata": {}
  }
 ]
}