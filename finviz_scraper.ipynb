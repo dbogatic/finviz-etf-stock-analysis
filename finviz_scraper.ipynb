{
 "metadata": {
  "language_info": {
   "codemirror_mode": {
    "name": "ipython",
    "version": 3
   },
   "file_extension": ".py",
   "mimetype": "text/x-python",
   "name": "python",
   "nbconvert_exporter": "python",
   "pygments_lexer": "ipython3",
   "version": "3.8.5"
  },
  "orig_nbformat": 2,
  "kernelspec": {
   "name": "python385jvsc74a57bd0d40f52b9c5fff22e0e411ce66cb8a8127750f0b358a6e9dd1afb39a420e48ccf",
   "display_name": "Python 3.8.5 64-bit ('base': conda)"
  }
 },
 "nbformat": 4,
 "nbformat_minor": 2,
 "cells": [
  {
   "cell_type": "code",
   "execution_count": 2,
   "metadata": {},
   "outputs": [
    {
     "output_type": "execute_result",
     "data": {
      "text/plain": [
       "'\\nSource: https://medium.datadriveninvestor.com/scraping-live-stock-fundamental-ratios-news-and-more-with-python-a716329e0493\\n\\n'"
      ]
     },
     "metadata": {},
     "execution_count": 2
    }
   ],
   "source": [
    "'''\n",
    "Source: https://medium.datadriveninvestor.com/scraping-live-stock-fundamental-ratios-news-and-more-with-python-a716329e0493\n",
    "\n",
    "'''"
   ]
  },
  {
   "cell_type": "code",
   "execution_count": 57,
   "metadata": {},
   "outputs": [],
   "source": [
    "import requests\n",
    "import pandas as pd\n",
    "from lxml import html\n",
    "import lxml.html\n",
    "from lxml import etree\n",
    "from bs4 import BeautifulSoup as soup\n",
    "from bs4 import SoupStrainer\n",
    "from urllib.request import urlopen, Request"
   ]
  },
  {
   "cell_type": "code",
   "execution_count": 58,
   "metadata": {},
   "outputs": [],
   "source": [
    "# Input symbol\n",
    "symbol = 'TSLA'\n",
    "\n",
    "# Set up scraper\n",
    "url = (\"http://finviz.com/quote.ashx?t=\" + symbol.lower())\n",
    "req = Request(url, headers={'User-Agent': 'Mozilla/5.0'})\n",
    "webpage = urlopen(req).read()\n",
    "html = soup(webpage, \"html.parser\")"
   ]
  },
  {
   "cell_type": "code",
   "execution_count": 59,
   "metadata": {},
   "outputs": [
    {
     "output_type": "execute_result",
     "data": {
      "text/plain": [
       "           0        1            2        3           4        5   \\\n",
       "0       Index  S&P 500          P/E  1133.02   EPS (ttm)     0.62   \n",
       "1  Market Cap  676.45B  Forward P/E   119.10  EPS next Y     5.92   \n",
       "2      Income  690.00M          PEG    31.74  EPS next Q     0.79   \n",
       "3       Sales   31.54B          P/S    21.45  EPS this Y  165.00%   \n",
       "4     Book/sh    23.37          P/B    30.16  EPS next Y   36.97%   \n",
       "\n",
       "              6        7             8        9             10       11  \n",
       "0    Insider Own    0.10%  Shs Outstand  959.85M     Perf Week   -1.98%  \n",
       "1  Insider Trans  -39.26%     Shs Float  770.38M    Perf Month   13.90%  \n",
       "2       Inst Own   46.00%   Short Float    6.01%  Perf Quarter  -20.20%  \n",
       "3     Inst Trans    0.10%   Short Ratio     1.36   Perf Half Y   67.54%  \n",
       "4            ROA    1.60%  Target Price   650.81     Perf Year  341.15%  "
      ],
      "text/html": "<div>\n<style scoped>\n    .dataframe tbody tr th:only-of-type {\n        vertical-align: middle;\n    }\n\n    .dataframe tbody tr th {\n        vertical-align: top;\n    }\n\n    .dataframe thead th {\n        text-align: right;\n    }\n</style>\n<table border=\"1\" class=\"dataframe\">\n  <thead>\n    <tr style=\"text-align: right;\">\n      <th></th>\n      <th>0</th>\n      <th>1</th>\n      <th>2</th>\n      <th>3</th>\n      <th>4</th>\n      <th>5</th>\n      <th>6</th>\n      <th>7</th>\n      <th>8</th>\n      <th>9</th>\n      <th>10</th>\n      <th>11</th>\n    </tr>\n  </thead>\n  <tbody>\n    <tr>\n      <th>0</th>\n      <td>Index</td>\n      <td>S&amp;P 500</td>\n      <td>P/E</td>\n      <td>1133.02</td>\n      <td>EPS (ttm)</td>\n      <td>0.62</td>\n      <td>Insider Own</td>\n      <td>0.10%</td>\n      <td>Shs Outstand</td>\n      <td>959.85M</td>\n      <td>Perf Week</td>\n      <td>-1.98%</td>\n    </tr>\n    <tr>\n      <th>1</th>\n      <td>Market Cap</td>\n      <td>676.45B</td>\n      <td>Forward P/E</td>\n      <td>119.10</td>\n      <td>EPS next Y</td>\n      <td>5.92</td>\n      <td>Insider Trans</td>\n      <td>-39.26%</td>\n      <td>Shs Float</td>\n      <td>770.38M</td>\n      <td>Perf Month</td>\n      <td>13.90%</td>\n    </tr>\n    <tr>\n      <th>2</th>\n      <td>Income</td>\n      <td>690.00M</td>\n      <td>PEG</td>\n      <td>31.74</td>\n      <td>EPS next Q</td>\n      <td>0.79</td>\n      <td>Inst Own</td>\n      <td>46.00%</td>\n      <td>Short Float</td>\n      <td>6.01%</td>\n      <td>Perf Quarter</td>\n      <td>-20.20%</td>\n    </tr>\n    <tr>\n      <th>3</th>\n      <td>Sales</td>\n      <td>31.54B</td>\n      <td>P/S</td>\n      <td>21.45</td>\n      <td>EPS this Y</td>\n      <td>165.00%</td>\n      <td>Inst Trans</td>\n      <td>0.10%</td>\n      <td>Short Ratio</td>\n      <td>1.36</td>\n      <td>Perf Half Y</td>\n      <td>67.54%</td>\n    </tr>\n    <tr>\n      <th>4</th>\n      <td>Book/sh</td>\n      <td>23.37</td>\n      <td>P/B</td>\n      <td>30.16</td>\n      <td>EPS next Y</td>\n      <td>36.97%</td>\n      <td>ROA</td>\n      <td>1.60%</td>\n      <td>Target Price</td>\n      <td>650.81</td>\n      <td>Perf Year</td>\n      <td>341.15%</td>\n    </tr>\n  </tbody>\n</table>\n</div>"
     },
     "metadata": {},
     "execution_count": 59
    }
   ],
   "source": [
    "# Locate fundamentals table\n",
    "fundamentals = pd.read_html(str(html), attrs = {'class': 'snapshot-table2'})[0]\n",
    "fundamentals.head()"
   ]
  },
  {
   "cell_type": "code",
   "execution_count": 60,
   "metadata": {},
   "outputs": [
    {
     "output_type": "execute_result",
     "data": {
      "text/plain": [
       "                   0                         1\n",
       "0  Apr-27-21 10:39PM  Should I Buy Tesla St...\n",
       "1            10:07PM  Dow Jones Futures: Mi...\n",
       "2            08:19PM  Nexon Joins Tesla in ...\n",
       "3            08:14PM  Elon Musk says U.S. S...\n",
       "4            07:31PM  ARK Invest Stocks To ..."
      ],
      "text/html": "<div>\n<style scoped>\n    .dataframe tbody tr th:only-of-type {\n        vertical-align: middle;\n    }\n\n    .dataframe tbody tr th {\n        vertical-align: top;\n    }\n\n    .dataframe thead th {\n        text-align: right;\n    }\n</style>\n<table border=\"1\" class=\"dataframe\">\n  <thead>\n    <tr style=\"text-align: right;\">\n      <th></th>\n      <th>0</th>\n      <th>1</th>\n    </tr>\n  </thead>\n  <tbody>\n    <tr>\n      <th>0</th>\n      <td>Apr-27-21 10:39PM</td>\n      <td>Should I Buy Tesla St...</td>\n    </tr>\n    <tr>\n      <th>1</th>\n      <td>10:07PM</td>\n      <td>Dow Jones Futures: Mi...</td>\n    </tr>\n    <tr>\n      <th>2</th>\n      <td>08:19PM</td>\n      <td>Nexon Joins Tesla in ...</td>\n    </tr>\n    <tr>\n      <th>3</th>\n      <td>08:14PM</td>\n      <td>Elon Musk says U.S. S...</td>\n    </tr>\n    <tr>\n      <th>4</th>\n      <td>07:31PM</td>\n      <td>ARK Invest Stocks To ...</td>\n    </tr>\n  </tbody>\n</table>\n</div>"
     },
     "metadata": {},
     "execution_count": 60
    }
   ],
   "source": [
    "# Locate news table\n",
    "news = pd.read_html(str(html), attrs = {'class': 'fullview-news-outer'})[0]\n",
    "news.head()"
   ]
  },
  {
   "cell_type": "code",
   "execution_count": 62,
   "metadata": {},
   "outputs": [
    {
     "output_type": "execute_result",
     "data": {
      "text/plain": [
       "                  0                         1       2                3  \\\n",
       "0   Insider Trading              Relationship    Date      Transaction   \n",
       "1  Kirkhorn Zachary   Chief Financial Officer  Apr 19             Sale   \n",
       "2  Guillen Jerome M  President, Heavy Truc...  Apr 12  Option Exercise   \n",
       "3  Guillen Jerome M  President, Heavy Truc...  Apr 12             Sale   \n",
       "4    Taneja Vaibhav  Chief Accounting Officer  Apr 05  Option Exercise   \n",
       "\n",
       "        4        5          6              7                8  \n",
       "0    Cost  #Shares  Value ($)  #Shares Total       SEC Form 4  \n",
       "1  718.00     1250     897500          55984  Apr 21 08:23 PM  \n",
       "2   55.32    10000     553200          60598  Apr 14 07:13 PM  \n",
       "3  697.87    10000    6978659          50598  Apr 14 07:13 PM  \n",
       "4   54.67     4090     223586          22279  Apr 07 08:04 PM  "
      ],
      "text/html": "<div>\n<style scoped>\n    .dataframe tbody tr th:only-of-type {\n        vertical-align: middle;\n    }\n\n    .dataframe tbody tr th {\n        vertical-align: top;\n    }\n\n    .dataframe thead th {\n        text-align: right;\n    }\n</style>\n<table border=\"1\" class=\"dataframe\">\n  <thead>\n    <tr style=\"text-align: right;\">\n      <th></th>\n      <th>0</th>\n      <th>1</th>\n      <th>2</th>\n      <th>3</th>\n      <th>4</th>\n      <th>5</th>\n      <th>6</th>\n      <th>7</th>\n      <th>8</th>\n    </tr>\n  </thead>\n  <tbody>\n    <tr>\n      <th>0</th>\n      <td>Insider Trading</td>\n      <td>Relationship</td>\n      <td>Date</td>\n      <td>Transaction</td>\n      <td>Cost</td>\n      <td>#Shares</td>\n      <td>Value ($)</td>\n      <td>#Shares Total</td>\n      <td>SEC Form 4</td>\n    </tr>\n    <tr>\n      <th>1</th>\n      <td>Kirkhorn Zachary</td>\n      <td>Chief Financial Officer</td>\n      <td>Apr 19</td>\n      <td>Sale</td>\n      <td>718.00</td>\n      <td>1250</td>\n      <td>897500</td>\n      <td>55984</td>\n      <td>Apr 21 08:23 PM</td>\n    </tr>\n    <tr>\n      <th>2</th>\n      <td>Guillen Jerome M</td>\n      <td>President, Heavy Truc...</td>\n      <td>Apr 12</td>\n      <td>Option Exercise</td>\n      <td>55.32</td>\n      <td>10000</td>\n      <td>553200</td>\n      <td>60598</td>\n      <td>Apr 14 07:13 PM</td>\n    </tr>\n    <tr>\n      <th>3</th>\n      <td>Guillen Jerome M</td>\n      <td>President, Heavy Truc...</td>\n      <td>Apr 12</td>\n      <td>Sale</td>\n      <td>697.87</td>\n      <td>10000</td>\n      <td>6978659</td>\n      <td>50598</td>\n      <td>Apr 14 07:13 PM</td>\n    </tr>\n    <tr>\n      <th>4</th>\n      <td>Taneja Vaibhav</td>\n      <td>Chief Accounting Officer</td>\n      <td>Apr 05</td>\n      <td>Option Exercise</td>\n      <td>54.67</td>\n      <td>4090</td>\n      <td>223586</td>\n      <td>22279</td>\n      <td>Apr 07 08:04 PM</td>\n    </tr>\n  </tbody>\n</table>\n</div>"
     },
     "metadata": {},
     "execution_count": 62
    }
   ],
   "source": [
    "# Locate insider trading table\n",
    "insider_trading = pd.read_html(str(html), attrs = {'class':'body-table'})[0]\n",
    "insider_trading.head()"
   ]
  },
  {
   "cell_type": "code",
   "execution_count": 56,
   "metadata": {},
   "outputs": [
    {
     "output_type": "execute_result",
     "data": {
      "text/plain": [
       "            0      1              2      3              4      5   \\\n",
       "0        Index      -            P/E      -      EPS (ttm)      -   \n",
       "1   Market Cap      -    Forward P/E      -     EPS next Y      -   \n",
       "2       Income      -            PEG      -     EPS next Q      -   \n",
       "3        Sales      -            P/S      -     EPS this Y      -   \n",
       "4      Book/sh      -            P/B      -     EPS next Y      -   \n",
       "5      Cash/sh      -            P/C      -    EPS next 5Y      -   \n",
       "6     Dividend   0.02          P/FCF      -    EPS past 5Y      -   \n",
       "7   Dividend %  0.05%    Quick Ratio      -  Sales past 5Y      -   \n",
       "8    Employees      -  Current Ratio      -      Sales Q/Q      -   \n",
       "9   Optionable    Yes        Debt/Eq      -        EPS Q/Q      -   \n",
       "10   Shortable    Yes     LT Debt/Eq      -       Earnings      -   \n",
       "11       Recom      -          SMA20  0.26%          SMA50  6.55%   \n",
       "\n",
       "               6       7             8             9             10  \\\n",
       "0     Insider Own       -  Shs Outstand             -     Perf Week   \n",
       "1   Insider Trans       -     Shs Float             -    Perf Month   \n",
       "2        Inst Own       -   Short Float             -  Perf Quarter   \n",
       "3      Inst Trans       -   Short Ratio             -   Perf Half Y   \n",
       "4             ROA       -  Target Price             -     Perf Year   \n",
       "5             ROE       -     52W Range  7.13 - 47.85      Perf YTD   \n",
       "6             ROI       -      52W High       -13.61%          Beta   \n",
       "7    Gross Margin       -       52W Low       479.47%           ATR   \n",
       "8    Oper. Margin       -      RSI (14)         52.51    Volatility   \n",
       "9   Profit Margin       -    Rel Volume          0.63    Prev Close   \n",
       "10         Payout       -    Avg Volume        19.83M         Price   \n",
       "11         SMA200  51.87%        Volume      12478754        Change   \n",
       "\n",
       "             11  \n",
       "0         9.63%  \n",
       "1         9.68%  \n",
       "2         5.85%  \n",
       "3       113.42%  \n",
       "4       376.78%  \n",
       "5        32.93%  \n",
       "6             -  \n",
       "7          2.85  \n",
       "8   7.00% 5.96%  \n",
       "9         42.21  \n",
       "10        41.34  \n",
       "11       -2.06%  "
      ],
      "text/html": "<div>\n<style scoped>\n    .dataframe tbody tr th:only-of-type {\n        vertical-align: middle;\n    }\n\n    .dataframe tbody tr th {\n        vertical-align: top;\n    }\n\n    .dataframe thead th {\n        text-align: right;\n    }\n</style>\n<table border=\"1\" class=\"dataframe\">\n  <thead>\n    <tr style=\"text-align: right;\">\n      <th></th>\n      <th>0</th>\n      <th>1</th>\n      <th>2</th>\n      <th>3</th>\n      <th>4</th>\n      <th>5</th>\n      <th>6</th>\n      <th>7</th>\n      <th>8</th>\n      <th>9</th>\n      <th>10</th>\n      <th>11</th>\n    </tr>\n  </thead>\n  <tbody>\n    <tr>\n      <th>0</th>\n      <td>Index</td>\n      <td>-</td>\n      <td>P/E</td>\n      <td>-</td>\n      <td>EPS (ttm)</td>\n      <td>-</td>\n      <td>Insider Own</td>\n      <td>-</td>\n      <td>Shs Outstand</td>\n      <td>-</td>\n      <td>Perf Week</td>\n      <td>9.63%</td>\n    </tr>\n    <tr>\n      <th>1</th>\n      <td>Market Cap</td>\n      <td>-</td>\n      <td>Forward P/E</td>\n      <td>-</td>\n      <td>EPS next Y</td>\n      <td>-</td>\n      <td>Insider Trans</td>\n      <td>-</td>\n      <td>Shs Float</td>\n      <td>-</td>\n      <td>Perf Month</td>\n      <td>9.68%</td>\n    </tr>\n    <tr>\n      <th>2</th>\n      <td>Income</td>\n      <td>-</td>\n      <td>PEG</td>\n      <td>-</td>\n      <td>EPS next Q</td>\n      <td>-</td>\n      <td>Inst Own</td>\n      <td>-</td>\n      <td>Short Float</td>\n      <td>-</td>\n      <td>Perf Quarter</td>\n      <td>5.85%</td>\n    </tr>\n    <tr>\n      <th>3</th>\n      <td>Sales</td>\n      <td>-</td>\n      <td>P/S</td>\n      <td>-</td>\n      <td>EPS this Y</td>\n      <td>-</td>\n      <td>Inst Trans</td>\n      <td>-</td>\n      <td>Short Ratio</td>\n      <td>-</td>\n      <td>Perf Half Y</td>\n      <td>113.42%</td>\n    </tr>\n    <tr>\n      <th>4</th>\n      <td>Book/sh</td>\n      <td>-</td>\n      <td>P/B</td>\n      <td>-</td>\n      <td>EPS next Y</td>\n      <td>-</td>\n      <td>ROA</td>\n      <td>-</td>\n      <td>Target Price</td>\n      <td>-</td>\n      <td>Perf Year</td>\n      <td>376.78%</td>\n    </tr>\n    <tr>\n      <th>5</th>\n      <td>Cash/sh</td>\n      <td>-</td>\n      <td>P/C</td>\n      <td>-</td>\n      <td>EPS next 5Y</td>\n      <td>-</td>\n      <td>ROE</td>\n      <td>-</td>\n      <td>52W Range</td>\n      <td>7.13 - 47.85</td>\n      <td>Perf YTD</td>\n      <td>32.93%</td>\n    </tr>\n    <tr>\n      <th>6</th>\n      <td>Dividend</td>\n      <td>0.02</td>\n      <td>P/FCF</td>\n      <td>-</td>\n      <td>EPS past 5Y</td>\n      <td>-</td>\n      <td>ROI</td>\n      <td>-</td>\n      <td>52W High</td>\n      <td>-13.61%</td>\n      <td>Beta</td>\n      <td>-</td>\n    </tr>\n    <tr>\n      <th>7</th>\n      <td>Dividend %</td>\n      <td>0.05%</td>\n      <td>Quick Ratio</td>\n      <td>-</td>\n      <td>Sales past 5Y</td>\n      <td>-</td>\n      <td>Gross Margin</td>\n      <td>-</td>\n      <td>52W Low</td>\n      <td>479.47%</td>\n      <td>ATR</td>\n      <td>2.85</td>\n    </tr>\n    <tr>\n      <th>8</th>\n      <td>Employees</td>\n      <td>-</td>\n      <td>Current Ratio</td>\n      <td>-</td>\n      <td>Sales Q/Q</td>\n      <td>-</td>\n      <td>Oper. Margin</td>\n      <td>-</td>\n      <td>RSI (14)</td>\n      <td>52.51</td>\n      <td>Volatility</td>\n      <td>7.00% 5.96%</td>\n    </tr>\n    <tr>\n      <th>9</th>\n      <td>Optionable</td>\n      <td>Yes</td>\n      <td>Debt/Eq</td>\n      <td>-</td>\n      <td>EPS Q/Q</td>\n      <td>-</td>\n      <td>Profit Margin</td>\n      <td>-</td>\n      <td>Rel Volume</td>\n      <td>0.63</td>\n      <td>Prev Close</td>\n      <td>42.21</td>\n    </tr>\n    <tr>\n      <th>10</th>\n      <td>Shortable</td>\n      <td>Yes</td>\n      <td>LT Debt/Eq</td>\n      <td>-</td>\n      <td>Earnings</td>\n      <td>-</td>\n      <td>Payout</td>\n      <td>-</td>\n      <td>Avg Volume</td>\n      <td>19.83M</td>\n      <td>Price</td>\n      <td>41.34</td>\n    </tr>\n    <tr>\n      <th>11</th>\n      <td>Recom</td>\n      <td>-</td>\n      <td>SMA20</td>\n      <td>0.26%</td>\n      <td>SMA50</td>\n      <td>6.55%</td>\n      <td>SMA200</td>\n      <td>51.87%</td>\n      <td>Volume</td>\n      <td>12478754</td>\n      <td>Change</td>\n      <td>-2.06%</td>\n    </tr>\n  </tbody>\n</table>\n</div>"
     },
     "metadata": {},
     "execution_count": 56
    }
   ],
   "source": [
    "pd.read_html(str(html), attrs = {'class':'snapshot-table2'})[0]"
   ]
  },
  {
   "cell_type": "code",
   "execution_count": null,
   "metadata": {},
   "outputs": [],
   "source": [
    "# Next, need to format above tables..."
   ]
  }
 ]
}