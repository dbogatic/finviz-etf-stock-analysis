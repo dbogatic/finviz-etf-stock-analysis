{
 "metadata": {
  "language_info": {
   "codemirror_mode": {
    "name": "ipython",
    "version": 3
   },
   "file_extension": ".py",
   "mimetype": "text/x-python",
   "name": "python",
   "nbconvert_exporter": "python",
   "pygments_lexer": "ipython3",
   "version": "3.7.9"
  },
  "orig_nbformat": 2,
  "kernelspec": {
   "name": "python379jvsc74a57bd01d1365bc7bea9ca53bbaaff2a498c5cc15b63a6fcc47bade387e2edfe7e7b068",
   "display_name": "Python 3.7.9 64-bit ('algotrading': conda)"
  }
 },
 "nbformat": 4,
 "nbformat_minor": 2,
 "cells": [
  {
   "cell_type": "code",
   "execution_count": 3,
   "metadata": {},
   "outputs": [],
   "source": [
    "import pandas as pd\n",
    "import requests\n",
    "import json\n",
    "import finvizfinance \n",
    "import finvizfinance.screener \n",
    "from finvizfinance.screener.overview import Overview\n",
    "from finvizfinance.quote import finvizfinance"
   ]
  },
  {
   "cell_type": "code",
   "execution_count": 5,
   "metadata": {},
   "outputs": [
    {
     "output_type": "stream",
     "name": "stdout",
     "text": []
    },
    {
     "output_type": "execute_result",
     "data": {
      "text/plain": [
       "  Ticker                                     Company     Sector  \\\n",
       "0   AAAU             Goldman Sachs Physical Gold ETF  Financial   \n",
       "1   AADR         AdvisorShares Dorsey Wright ADR ETF  Financial   \n",
       "2   AAXJ  iShares MSCI All Country Asia ex Japan ETF  Financial   \n",
       "3   ABEQ                  Absolute Core Strategy ETF  Financial   \n",
       "4   ACES                       ALPS Clean Energy ETF  Financial   \n",
       "\n",
       "               Industry Country Market Cap   P/E  Price  Change    Volume  \n",
       "0  Exchange Traded Fund     USA       None  None  17.32  0.0052  143052.0  \n",
       "1  Exchange Traded Fund     USA       None  None  62.23  0.0016      13.0  \n",
       "2  Exchange Traded Fund     USA       None  None  92.92  0.0055  171179.0  \n",
       "3  Exchange Traded Fund     USA       None  None  26.90  0.0044      95.0  \n",
       "4  Exchange Traded Fund     USA       None  None  74.68 -0.0019   21053.0  "
      ],
      "text/html": "<div>\n<style scoped>\n    .dataframe tbody tr th:only-of-type {\n        vertical-align: middle;\n    }\n\n    .dataframe tbody tr th {\n        vertical-align: top;\n    }\n\n    .dataframe thead th {\n        text-align: right;\n    }\n</style>\n<table border=\"1\" class=\"dataframe\">\n  <thead>\n    <tr style=\"text-align: right;\">\n      <th></th>\n      <th>Ticker</th>\n      <th>Company</th>\n      <th>Sector</th>\n      <th>Industry</th>\n      <th>Country</th>\n      <th>Market Cap</th>\n      <th>P/E</th>\n      <th>Price</th>\n      <th>Change</th>\n      <th>Volume</th>\n    </tr>\n  </thead>\n  <tbody>\n    <tr>\n      <th>0</th>\n      <td>AAAU</td>\n      <td>Goldman Sachs Physical Gold ETF</td>\n      <td>Financial</td>\n      <td>Exchange Traded Fund</td>\n      <td>USA</td>\n      <td>None</td>\n      <td>None</td>\n      <td>17.32</td>\n      <td>0.0052</td>\n      <td>143052.0</td>\n    </tr>\n    <tr>\n      <th>1</th>\n      <td>AADR</td>\n      <td>AdvisorShares Dorsey Wright ADR ETF</td>\n      <td>Financial</td>\n      <td>Exchange Traded Fund</td>\n      <td>USA</td>\n      <td>None</td>\n      <td>None</td>\n      <td>62.23</td>\n      <td>0.0016</td>\n      <td>13.0</td>\n    </tr>\n    <tr>\n      <th>2</th>\n      <td>AAXJ</td>\n      <td>iShares MSCI All Country Asia ex Japan ETF</td>\n      <td>Financial</td>\n      <td>Exchange Traded Fund</td>\n      <td>USA</td>\n      <td>None</td>\n      <td>None</td>\n      <td>92.92</td>\n      <td>0.0055</td>\n      <td>171179.0</td>\n    </tr>\n    <tr>\n      <th>3</th>\n      <td>ABEQ</td>\n      <td>Absolute Core Strategy ETF</td>\n      <td>Financial</td>\n      <td>Exchange Traded Fund</td>\n      <td>USA</td>\n      <td>None</td>\n      <td>None</td>\n      <td>26.90</td>\n      <td>0.0044</td>\n      <td>95.0</td>\n    </tr>\n    <tr>\n      <th>4</th>\n      <td>ACES</td>\n      <td>ALPS Clean Energy ETF</td>\n      <td>Financial</td>\n      <td>Exchange Traded Fund</td>\n      <td>USA</td>\n      <td>None</td>\n      <td>None</td>\n      <td>74.68</td>\n      <td>-0.0019</td>\n      <td>21053.0</td>\n    </tr>\n  </tbody>\n</table>\n</div>"
     },
     "metadata": {},
     "execution_count": 5
    }
   ],
   "source": [
    "# Customize filter to obtain filtered data; refer to https://finviz.com/screener.ashx?v=111&ft=4 for avalable screen criteria\n",
    "foverview = Overview()\n",
    "filters_dict = {'Industry':'Exchange Traded Fund','Country':'USA'}\n",
    "foverview.set_filter(filters_dict=filters_dict)\n",
    "filtered_list = foverview.ScreenerView()\n",
    "filtered_list.head()"
   ]
  },
  {
   "cell_type": "code",
   "execution_count": 7,
   "metadata": {},
   "outputs": [],
   "source": [
    "# print etf list to work offline\n",
    "filtered_list.to_csv('resources/stock_list.csv')"
   ]
  },
  {
   "cell_type": "code",
   "execution_count": 10,
   "metadata": {},
   "outputs": [
    {
     "output_type": "execute_result",
     "data": {
      "text/plain": [
       "  Ticker                                     Company     Sector  \\\n",
       "0   AAAU             Goldman Sachs Physical Gold ETF  Financial   \n",
       "1   AADR         AdvisorShares Dorsey Wright ADR ETF  Financial   \n",
       "2   AAXJ  iShares MSCI All Country Asia ex Japan ETF  Financial   \n",
       "3   ABEQ                  Absolute Core Strategy ETF  Financial   \n",
       "4   ACES                       ALPS Clean Energy ETF  Financial   \n",
       "\n",
       "               Industry Country  Market Cap  P/E  Price  Change    Volume  \n",
       "0  Exchange Traded Fund     USA         NaN  NaN  17.32  0.0052  143052.0  \n",
       "1  Exchange Traded Fund     USA         NaN  NaN  62.23  0.0016      13.0  \n",
       "2  Exchange Traded Fund     USA         NaN  NaN  92.92  0.0055  171179.0  \n",
       "3  Exchange Traded Fund     USA         NaN  NaN  26.90  0.0044      95.0  \n",
       "4  Exchange Traded Fund     USA         NaN  NaN  74.68 -0.0019   21053.0  "
      ],
      "text/html": "<div>\n<style scoped>\n    .dataframe tbody tr th:only-of-type {\n        vertical-align: middle;\n    }\n\n    .dataframe tbody tr th {\n        vertical-align: top;\n    }\n\n    .dataframe thead th {\n        text-align: right;\n    }\n</style>\n<table border=\"1\" class=\"dataframe\">\n  <thead>\n    <tr style=\"text-align: right;\">\n      <th></th>\n      <th>Ticker</th>\n      <th>Company</th>\n      <th>Sector</th>\n      <th>Industry</th>\n      <th>Country</th>\n      <th>Market Cap</th>\n      <th>P/E</th>\n      <th>Price</th>\n      <th>Change</th>\n      <th>Volume</th>\n    </tr>\n  </thead>\n  <tbody>\n    <tr>\n      <th>0</th>\n      <td>AAAU</td>\n      <td>Goldman Sachs Physical Gold ETF</td>\n      <td>Financial</td>\n      <td>Exchange Traded Fund</td>\n      <td>USA</td>\n      <td>NaN</td>\n      <td>NaN</td>\n      <td>17.32</td>\n      <td>0.0052</td>\n      <td>143052.0</td>\n    </tr>\n    <tr>\n      <th>1</th>\n      <td>AADR</td>\n      <td>AdvisorShares Dorsey Wright ADR ETF</td>\n      <td>Financial</td>\n      <td>Exchange Traded Fund</td>\n      <td>USA</td>\n      <td>NaN</td>\n      <td>NaN</td>\n      <td>62.23</td>\n      <td>0.0016</td>\n      <td>13.0</td>\n    </tr>\n    <tr>\n      <th>2</th>\n      <td>AAXJ</td>\n      <td>iShares MSCI All Country Asia ex Japan ETF</td>\n      <td>Financial</td>\n      <td>Exchange Traded Fund</td>\n      <td>USA</td>\n      <td>NaN</td>\n      <td>NaN</td>\n      <td>92.92</td>\n      <td>0.0055</td>\n      <td>171179.0</td>\n    </tr>\n    <tr>\n      <th>3</th>\n      <td>ABEQ</td>\n      <td>Absolute Core Strategy ETF</td>\n      <td>Financial</td>\n      <td>Exchange Traded Fund</td>\n      <td>USA</td>\n      <td>NaN</td>\n      <td>NaN</td>\n      <td>26.90</td>\n      <td>0.0044</td>\n      <td>95.0</td>\n    </tr>\n    <tr>\n      <th>4</th>\n      <td>ACES</td>\n      <td>ALPS Clean Energy ETF</td>\n      <td>Financial</td>\n      <td>Exchange Traded Fund</td>\n      <td>USA</td>\n      <td>NaN</td>\n      <td>NaN</td>\n      <td>74.68</td>\n      <td>-0.0019</td>\n      <td>21053.0</td>\n    </tr>\n  </tbody>\n</table>\n</div>"
     },
     "metadata": {},
     "execution_count": 10
    }
   ],
   "source": [
    "stock_list = pd.read_csv('./resources/stock_list.csv')\n",
    "stock_list = stock_list.drop(columns=['Unnamed: 0'])\n",
    "stock_list.head()"
   ]
  },
  {
   "cell_type": "code",
   "execution_count": 11,
   "metadata": {},
   "outputs": [
    {
     "output_type": "execute_result",
     "data": {
      "text/plain": [
       "     Ticker                                 Company     Sector  \\\n",
       "41     ARKF              ARK Fintech Innovation ETF  Financial   \n",
       "971    IUSB  iShares Core Total USD Bond Market ETF  Financial   \n",
       "1658    SPY                  SPDR S&P 500 ETF Trust  Financial   \n",
       "\n",
       "                  Industry Country  Market Cap  P/E   Price  Change  \\\n",
       "41    Exchange Traded Fund     USA         NaN  NaN   55.15  0.0136   \n",
       "971   Exchange Traded Fund     USA         NaN  NaN   52.87  0.0001   \n",
       "1658  Exchange Traded Fund     USA         NaN  NaN  412.05  0.0010   \n",
       "\n",
       "          Volume  \n",
       "41      468806.0  \n",
       "971     272470.0  \n",
       "1658  13042438.0  "
      ],
      "text/html": "<div>\n<style scoped>\n    .dataframe tbody tr th:only-of-type {\n        vertical-align: middle;\n    }\n\n    .dataframe tbody tr th {\n        vertical-align: top;\n    }\n\n    .dataframe thead th {\n        text-align: right;\n    }\n</style>\n<table border=\"1\" class=\"dataframe\">\n  <thead>\n    <tr style=\"text-align: right;\">\n      <th></th>\n      <th>Ticker</th>\n      <th>Company</th>\n      <th>Sector</th>\n      <th>Industry</th>\n      <th>Country</th>\n      <th>Market Cap</th>\n      <th>P/E</th>\n      <th>Price</th>\n      <th>Change</th>\n      <th>Volume</th>\n    </tr>\n  </thead>\n  <tbody>\n    <tr>\n      <th>41</th>\n      <td>ARKF</td>\n      <td>ARK Fintech Innovation ETF</td>\n      <td>Financial</td>\n      <td>Exchange Traded Fund</td>\n      <td>USA</td>\n      <td>NaN</td>\n      <td>NaN</td>\n      <td>55.15</td>\n      <td>0.0136</td>\n      <td>468806.0</td>\n    </tr>\n    <tr>\n      <th>971</th>\n      <td>IUSB</td>\n      <td>iShares Core Total USD Bond Market ETF</td>\n      <td>Financial</td>\n      <td>Exchange Traded Fund</td>\n      <td>USA</td>\n      <td>NaN</td>\n      <td>NaN</td>\n      <td>52.87</td>\n      <td>0.0001</td>\n      <td>272470.0</td>\n    </tr>\n    <tr>\n      <th>1658</th>\n      <td>SPY</td>\n      <td>SPDR S&amp;P 500 ETF Trust</td>\n      <td>Financial</td>\n      <td>Exchange Traded Fund</td>\n      <td>USA</td>\n      <td>NaN</td>\n      <td>NaN</td>\n      <td>412.05</td>\n      <td>0.0010</td>\n      <td>13042438.0</td>\n    </tr>\n  </tbody>\n</table>\n</div>"
     },
     "metadata": {},
     "execution_count": 11
    }
   ],
   "source": [
    "# Select etfs from the dataframe by ticker\n",
    "tickers = ['ARKF','IUSB','SPY']\n",
    "\n",
    "select_stock = stock_list.loc[stock_list['Ticker'].isin(tickers)]\n",
    "select_stock"
   ]
  },
  {
   "cell_type": "code",
   "execution_count": 12,
   "metadata": {},
   "outputs": [
    {
     "output_type": "stream",
     "name": "stdout",
     "text": [
      "The investment seeks long-term growth of capital. The fund is an actively-managed ETF that will invest under normal circumstances primarily (at least 80% of its assets) in domestic and foreign equity securities of companies that are engaged in the fund's investment theme of financial technology (\"Fintech\") innovation. A company is deemed to be engaged in the theme of Fintech innovation if (i) it derives a significant portion of its revenue or market value from the theme of Fintech innovation, or (ii) it has stated its primary business to be in products and services focused on the theme of Fintech innovation. The fund is non-diversified.\n",
      "The investment seeks to track the investment results of the Bloomberg Barclays U.S. Universal Index. The fund generally will invest at least 90% of its assets in the component securities of the underlying index and may invest up to 10% of its assets in certain futures, options and swap contracts, cash and cash equivalents, including shares of money market funds advised by BFA or its affiliates, as well as in securities not included in the underlying index, but which BFA believes will help the fund track the underlying index. The index measures the performance of U.S. dollar-denominated taxable bonds that are rated either investment-grade or high yield.\n",
      "The investment seeks to provide investment results that, before expenses, correspond generally to the price and yield performance of the S&P 500 Index. The Trust seeks to achieve its investment objective by holding a portfolio of the common stocks that are included in the index (the \"Portfolio\"), with the weight of each stock in the Portfolio substantially corresponding to the weight of such stock in the index.\n"
     ]
    }
   ],
   "source": [
    "# Loop through ticker list to obtain ETF descriptions\n",
    "for ticker in tickers:\n",
    "    stock = finvizfinance(ticker)\n",
    "    ticker =  stock.TickerDescription()\n",
    "    print(ticker)"
   ]
  },
  {
   "cell_type": "code",
   "execution_count": null,
   "metadata": {},
   "outputs": [],
   "source": []
  }
 ]
}