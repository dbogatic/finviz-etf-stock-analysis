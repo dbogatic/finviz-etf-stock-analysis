{
 "metadata": {
  "language_info": {
   "codemirror_mode": {
    "name": "ipython",
    "version": 3
   },
   "file_extension": ".py",
   "mimetype": "text/x-python",
   "name": "python",
   "nbconvert_exporter": "python",
   "pygments_lexer": "ipython3",
   "version": "3.7.9"
  },
  "orig_nbformat": 2,
  "kernelspec": {
   "name": "python379jvsc74a57bd01d1365bc7bea9ca53bbaaff2a498c5cc15b63a6fcc47bade387e2edfe7e7b068",
   "display_name": "Python 3.7.9 64-bit ('algotrading': conda)"
  }
 },
 "nbformat": 4,
 "nbformat_minor": 2,
 "cells": [
  {
   "cell_type": "code",
   "execution_count": 1,
   "metadata": {},
   "outputs": [],
   "source": [
    "import pandas as pd\n",
    "import os\n",
    "import glob\n",
    "import requests\n",
    "import finvizfinance \n",
    "import finvizfinance.screener \n",
    "from finvizfinance.screener.overview import Overview\n",
    "from finvizfinance.quote import finvizfinance"
   ]
  },
  {
   "cell_type": "code",
   "execution_count": 283,
   "metadata": {},
   "outputs": [],
   "source": [
    "# Customize filter to obtain filtered data; refer to https://finviz.com/screener.ashx?v=111&ft=4 for avalable screen criteria; not all criteria can be selected, these are some I found work so far.\n",
    "foverview = Overview()\n",
    "filters_dict = {'Country':'USA','Debt/Equity':'Under 0.1','PEG':'Under 2','Return on Assets':'Over +15%', 'Quick Ratio':'Over 2','200-Day Simple Moving Average':'Price 10% above SMA200'}\n",
    "foverview.set_filter(filters_dict=filters_dict)\n",
    "filtered_list = foverview.ScreenerView()"
   ]
  },
  {
   "cell_type": "code",
   "execution_count": 284,
   "metadata": {},
   "outputs": [],
   "source": [
    "# Print stock list to work offline\n",
    "filtered_list.to_csv('resources/stock_list.csv')"
   ]
  },
  {
   "cell_type": "code",
   "execution_count": 285,
   "metadata": {},
   "outputs": [],
   "source": [
    "stock_list = pd.read_csv('./resources/stock_list.csv')\n",
    "stock_list = stock_list.drop(columns=['Unnamed: 0'])\n",
    "stock_list.head()"
   ]
  },
  {
   "cell_type": "code",
   "execution_count": 2,
   "metadata": {},
   "outputs": [],
   "source": [
    "# Select stocks from the dataframe by ticker\n",
    "tickers = stock_list['Ticker']\n",
    "# If you want to manually input tickers to pull news\n",
    "tickers = ['NIO','AYRO','SOLO','CBAT','LAC','TSLA','APHA','TLRY','SNDL']"
   ]
  },
  {
   "cell_type": "code",
   "execution_count": 3,
   "metadata": {
    "tags": []
   },
   "outputs": [
    {
     "output_type": "stream",
     "name": "stdout",
     "text": [
      "NIO Inc. designs, develops, manufactures, and sells smart electric vehicles in Mainland China, Hong Kong, the United States, the United Kingdom, and Germany. The company offers five, six, and seven-seater electric SUVs, as well as smart electric sedans. It is also involved in the provision of energy and service packages to its users; marketing, design, and technology development activities; manufacture of e-powertrains, battery packs, and components; and sales and after sales management activities. In addition, the company offers power solutions, including Power Home, a home charging solution; Power Swap, a battery swapping service; Public Charger, a public fast charging solution; Power Mobile, a mobile charging service through charging vans; Power Map, an application that provides access to a network of public chargers and their real-time information; and One Click for Power valet service, where it offers vehicle pick up, charging, and return services. Further, it provides repair, maintenance, and bodywork services through its NIO service centers and authorized third-party service centers; statutory and third-party liability insurance, and vehicle damage insurance through third-party insurers; courtesy car services; and roadside assistance, as well as data packages; and auto financing services. Additionally, the company offers NIO Certified, an used vehicle inspection, evaluation, acquisition, and sales service. NIO Inc. has a strategic collaboration with Mobileye N.V. for the development of automated and autonomous vehicles for consumer markets. The company was formerly known as NextEV Inc. and changed its name to NIO Inc. in July 2017. NIO Inc. was founded in 2014 and is headquartered in Shanghai, China. --------------------------\n",
      "Ayro, Inc. designs and manufactures light-duty, emissions-free electric vehicles for urban and community transport, local delivery, closed campus mobility, recreational, and government use. It offers AYRO 311, a 3-wheeled vehicle for professional and personal use; Club Car 411 for low-speed logistics and cargo services for campus; and AYRO 511 4A4 concepts. The company was formerly known as AEV Technologies, Inc. Ayro, Inc. was founded in 2017 and is headquartered in Round Rock, Texas. --------------------------\n",
      "Electrameccanica Vehicles Corp., a development-stage company, develops, manufactures, and sells electric vehicles in Canada. The company operates in two segments, Electric Vehicles and Custom Build Vehicles. Its flagship product is the SOLO, a single seat vehicle. The company is also developing Super SOLO, a sports car model; and Tofino, an all-electric two-seater roadster. It also develops and manufactures custom built vehicles. The company sells its vehicles online through electrameccanica.com Website, as well as through corporate owned stores. Electrameccanica Vehicles Corp. was founded in 2015 and is headquartered in Vancouver, Canada. --------------------------\n",
      "CBAK Energy Technology, Inc., together with its subsidiaries, develops, manufactures, and sells lithium batteries in Mainland China, the United States, Israel, and internationally. Its products are used in various applications, including electric vehicles, such as electric cars, electric buses, and hybrid electric cars and buses; light electric vehicles that include electric bicycles, electric motors, and sight-seeing cars; and electric tools, energy storage, uninterruptible power supply, and other high power applications, as well as cordless power tools. The company was formerly known as China BAK Battery, Inc. and changed its name to CBAK Energy Technology, Inc. in January 2017. CBAK Energy Technology, Inc. was incorporated in 1999 and is based in Dalian, China. --------------------------\n",
      "Lithium Americas Corp. operates as a resource company in the United States. The company explores for lithium deposits. It owns interests in the Cauchari-Olaroz Project located in Jujuy province of Argentina; and Thacker Pass project located in north-western Nevada. The company was formerly known as Western Lithium USA Corporation and changed its name to Lithium Americas Corp. in March 2016. Lithium Americas Corp. was incorporated in 2007 and is headquartered in Vancouver, Canada. --------------------------\n",
      "Tesla, Inc. designs, develops, manufactures, leases, and sells electric vehicles, and energy generation and storage systems in the United States, China, and internationally. The company operates in two segments, Automotive, and Energy Generation and Storage. The Automotive segment offers electric vehicles, as well as sells automotive regulatory credits. It provides sedans and sport utility vehicles through direct and used vehicle sales, a network of Tesla Superchargers, and in-app upgrades; and purchase financing and leasing services. This segment is also involved in the provision of non-warranty after-sales vehicle services, sale of used vehicles, retail merchandise, and vehicle insurance, as well as sale of products through its subsidiaries to third party customers; services for electric vehicles through its company-owned service locations, and Tesla mobile service technicians; and vehicle limited warranties and extended service plans. The Energy Generation and Storage segment engages in the design, manufacture, installation, sale, and leasing of solar energy generation and energy storage products, and related services to residential, commercial, and industrial customers and utilities through its website, stores, and galleries, as well as through a network of channel partners. This segment also offers service and repairs to its energy product customers, including under warranty; and various financing options to its solar customers. The company was formerly known as Tesla Motors, Inc. and changed its name to Tesla, Inc. in February 2017. Tesla, Inc. was founded in 2003 and is headquartered in Palo Alto, California. --------------------------\n",
      "Aphria Inc. cultivates, processes, produces, markets, distributes, and sells medical cannabis in Canada and internationally. The company offers pharmaceutical-grade medical cannabis, adult-use cannabis, and cannabis-derived extracts and derivative cannabis products under the Solei, RIFF, Good Supply, Aphria, P'tite Pof, and Broken Coast brands. It serves patients and consumers through distributors and online. The company is headquartered in Leamington, Canada. --------------------------\n",
      "Tilray, Inc. engages in the research, cultivation, processing, and distribution of medical cannabis. The company offers its products to patients, physicians, clinics, pharmacies, governments, and hospitals; and for researchers for commercial purposes, as well as compassionate access and clinical research applications. It operates in Argentina, Australia, Canada, Chile, Croatia, Cyprus, Germany, Israel, New Zealand, Portugal, Spain, Africa, Switzerland, the United States, Malta, and the United Kingdom. The company was incorporated in 2018 and is headquartered in Nanaimo, Canada. --------------------------\n",
      "Sundial Growers Inc. engages in production and marketing of cannabis products for the adult-use market in Canada. It produces and distributes inhalable products, such as flower, pre-rolls, and vapes. The company offers its products under the Top Leaf, Sundial Cannabis, Palmetto, and Grasslands brands. Sundial Growers Inc. was incorporated in 2006 and is headquartered in Calgary, Canada. --------------------------\n"
     ]
    }
   ],
   "source": [
    "# Loop through ticker list to obtain stock descriptions\n",
    "for ticker in tickers:\n",
    "    stock = finvizfinance(ticker)\n",
    "    ticker =  stock.TickerDescription()\n",
    "    print(f'{ticker} --------------------------'.format('\\n'))"
   ]
  },
  {
   "cell_type": "code",
   "execution_count": 4,
   "metadata": {},
   "outputs": [
    {
     "output_type": "stream",
     "name": "stdout",
     "text": [
      "           0                   1\n",
      "0    Company            NIO Inc.\n",
      "1     Sector   Consumer Cyclical\n",
      "2   Industry  Auto Manufacturers\n",
      "3    Country               China\n",
      "4      Index                   -\n",
      "..       ...                 ...\n",
      "70     SMA20               8.71%\n",
      "71     SMA50              -5.27%\n",
      "72    SMA200              15.75%\n",
      "73    Volume          70,578,024\n",
      "74    Change               3.82%\n",
      "\n",
      "[75 rows x 2 columns]\n",
      "           0                   1\n",
      "0    Company          Ayro, Inc.\n",
      "1     Sector   Consumer Cyclical\n",
      "2   Industry  Auto Manufacturers\n",
      "3    Country                 USA\n",
      "4      Index                   -\n",
      "..       ...                 ...\n",
      "70     SMA20             -10.43%\n",
      "71     SMA50             -24.02%\n",
      "72    SMA200              -2.11%\n",
      "73    Volume             869,253\n",
      "74    Change               0.20%\n",
      "\n",
      "[75 rows x 2 columns]\n",
      "           0                                1\n",
      "0    Company  Electrameccanica Vehicles Corp.\n",
      "1     Sector                Consumer Cyclical\n",
      "2   Industry               Auto Manufacturers\n",
      "3    Country                           Canada\n",
      "4      Index                                -\n",
      "..       ...                              ...\n",
      "70     SMA20                           -4.57%\n",
      "71     SMA50                          -22.07%\n",
      "72    SMA200                          -13.03%\n",
      "73    Volume                        2,669,651\n",
      "74    Change                            3.85%\n",
      "\n",
      "[75 rows x 2 columns]\n",
      "           0                             1\n",
      "0    Company  CBAK Energy Technology, Inc.\n",
      "1     Sector                   Industrials\n",
      "2   Industry  Electrical Equipment & Parts\n",
      "3    Country                         China\n",
      "4      Index                             -\n",
      "..       ...                           ...\n",
      "70     SMA20                        -1.85%\n",
      "71     SMA50                       -16.45%\n",
      "72    SMA200                        11.85%\n",
      "73    Volume                     1,418,919\n",
      "74    Change                         6.12%\n",
      "\n",
      "[75 rows x 2 columns]\n",
      "           0                                 1\n",
      "0    Company            Lithium Americas Corp.\n",
      "1     Sector                   Basic Materials\n",
      "2   Industry  Other Industrial Metals & Mining\n",
      "3    Country                            Canada\n",
      "4      Index                                 -\n",
      "..       ...                               ...\n",
      "70     SMA20                            -2.52%\n",
      "71     SMA50                           -14.40%\n",
      "72    SMA200                            13.18%\n",
      "73    Volume                         2,378,566\n",
      "74    Change                             3.80%\n",
      "\n",
      "[75 rows x 2 columns]\n",
      "           0                   1\n",
      "0    Company         Tesla, Inc.\n",
      "1     Sector   Consumer Cyclical\n",
      "2   Industry  Auto Manufacturers\n",
      "3    Country                 USA\n",
      "4      Index             S&P 500\n",
      "..       ...                 ...\n",
      "70     SMA20               5.54%\n",
      "71     SMA50               4.61%\n",
      "72    SMA200              31.41%\n",
      "73    Volume          28,413,888\n",
      "74    Change               1.35%\n",
      "\n",
      "[75 rows x 2 columns]\n",
      "           0                                         1\n",
      "0    Company                               Aphria Inc.\n",
      "1     Sector                                Healthcare\n",
      "2   Industry  Drug Manufacturers - Specialty & Generic\n",
      "3    Country                                    Canada\n",
      "4      Index                                         -\n",
      "..       ...                                       ...\n",
      "70     SMA20                                   -10.62%\n",
      "71     SMA50                                   -20.38%\n",
      "72    SMA200                                    49.05%\n",
      "73    Volume                                 7,033,315\n",
      "74    Change                                     3.51%\n",
      "\n",
      "[75 rows x 2 columns]\n",
      "           0                                         1\n",
      "0    Company                              Tilray, Inc.\n",
      "1     Sector                                Healthcare\n",
      "2   Industry  Drug Manufacturers - Specialty & Generic\n",
      "3    Country                                    Canada\n",
      "4      Index                                         -\n",
      "..       ...                                       ...\n",
      "70     SMA20                                   -12.42%\n",
      "71     SMA50                                   -29.92%\n",
      "72    SMA200                                    32.65%\n",
      "73    Volume                                10,427,172\n",
      "74    Change                                     3.71%\n",
      "\n",
      "[75 rows x 2 columns]\n",
      "           0                                         1\n",
      "0    Company                      Sundial Growers Inc.\n",
      "1     Sector                                Healthcare\n",
      "2   Industry  Drug Manufacturers - Specialty & Generic\n",
      "3    Country                                    Canada\n",
      "4      Index                                         -\n",
      "..       ...                                       ...\n",
      "70     SMA20                                   -16.23%\n",
      "71     SMA50                                   -36.14%\n",
      "72    SMA200                                    21.58%\n",
      "73    Volume                               178,350,352\n",
      "74    Change                                     0.10%\n",
      "\n",
      "[75 rows x 2 columns]\n"
     ]
    }
   ],
   "source": [
    "for ticker in tickers:\n",
    "    stock = finvizfinance(ticker)\n",
    "    ticker_fundament =  stock.TickerFundament()\n",
    "    fundament = pd.DataFrame(list(ticker_fundament.items()))\n",
    "    fundament = fundament.reset_index(drop=True)\n",
    "    print(fundament)\n",
    "    fundament.to_csv(f'/Users/draganbogatic/Documents/Fin_Tech/finviz-stock-screen/resources/fundamentals/{ticker}_fundamentals.csv', header=False)"
   ]
  },
  {
   "cell_type": "code",
   "execution_count": 19,
   "metadata": {},
   "outputs": [],
   "source": [
    "os.chdir('/Users/draganbogatic/Documents/Fin_Tech/finviz-stock-screen/resources/fundamentals')\n",
    "extension = 'csv'"
   ]
  },
  {
   "cell_type": "code",
   "execution_count": 20,
   "metadata": {},
   "outputs": [
    {
     "output_type": "execute_result",
     "data": {
      "text/plain": [
       "['TLRY_fundamentals.csv',\n",
       " 'LAC_fundamentals.csv',\n",
       " 'CBAT_fundamentals.csv',\n",
       " 'SNDL_fundamentals.csv',\n",
       " 'AYRO_fundamentals.csv',\n",
       " 'TSLA_fundamentals.csv',\n",
       " 'SOLO_fundamentals.csv',\n",
       " 'APHA_fundamentals.csv',\n",
       " 'NIO_fundamentals.csv']"
      ]
     },
     "metadata": {},
     "execution_count": 20
    }
   ],
   "source": [
    "combined = [i for i in glob.glob('*.{}'.format(extension))]\n",
    "combined"
   ]
  },
  {
   "cell_type": "code",
   "execution_count": 21,
   "metadata": {},
   "outputs": [],
   "source": [
    "combined = pd.concat([pd.read_csv(f) for f in combined],axis=1)\n",
    "combined_df = pd.DataFrame(combined)\n",
    "combined_df = combined_df.drop(columns='0').T\n",
    "combined_df = combined_df.drop_duplicates(keep='first')\n",
    "combined_df\n",
    "combined_df.to_csv('/Users/draganbogatic/Documents/Fin_Tech/finviz-stock-screen/resources/fundamentals/fundamentals_combined.csv', header=False)"
   ]
  },
  {
   "cell_type": "code",
   "execution_count": 22,
   "metadata": {},
   "outputs": [],
   "source": [
    "stock_fundamentals = pd.read_csv('/Users/draganbogatic/Documents/Fin_Tech/finviz-stock-screen/resources/fundamentals/fundamentals_combined.csv')\n",
    "stock_fundamentals = stock_fundamentals.set_index('Company')"
   ]
  },
  {
   "cell_type": "code",
   "execution_count": 23,
   "metadata": {},
   "outputs": [
    {
     "output_type": "execute_result",
     "data": {
      "text/plain": [
       "Index(['Sector', 'Industry', 'Country', 'Index', 'P/E', 'EPS (ttm)',\n",
       "       'Insider Own', 'Shs Outstand', 'Perf Week', 'Market Cap', 'Forward P/E',\n",
       "       'EPS next Y', 'Insider Trans', 'Shs Float', 'Perf Month', 'Income',\n",
       "       'PEG', 'EPS next Q', 'Inst Own', 'Short Float', 'Perf Quarter', 'Sales',\n",
       "       'P/S', 'EPS this Y', 'Inst Trans', 'Short Ratio', 'Perf Half Y',\n",
       "       'Book/sh', 'P/B', 'ROA', 'Target Price', 'Perf Year', 'Cash/sh', 'P/C',\n",
       "       'EPS next 5Y', 'ROE', '52W Range', 'Perf YTD', 'Dividend', 'P/FCF',\n",
       "       'EPS past 5Y', 'ROI', '52W High', 'Beta', 'Dividend %', 'Quick Ratio',\n",
       "       'Sales past 5Y', 'Gross Margin', '52W Low', 'ATR', 'Employees',\n",
       "       'Current Ratio', 'Sales Q/Q', 'Oper. Margin', 'RSI (14)', 'Volatility',\n",
       "       'Optionable', 'Debt/Eq', 'EPS Q/Q', 'Profit Margin', 'Rel Volume',\n",
       "       'Prev Close', 'Shortable', 'LT Debt/Eq', 'Earnings', 'Payout',\n",
       "       'Avg Volume', 'Price', 'Recom', 'SMA20', 'SMA50', 'SMA200', 'Volume',\n",
       "       'Change'],\n",
       "      dtype='object')"
      ]
     },
     "metadata": {},
     "execution_count": 23
    }
   ],
   "source": [
    "stock_fundamentals.keys()"
   ]
  },
  {
   "source": [
    "### Preferred growth stock criteria: \n",
    "\n",
    "- Quick Ratio > 2\n",
    "- PEG = 1.1 - 1.4\n",
    "- ROA > 14%\n",
    "- EPS past 5Y - > 15%\n",
    "- Operating Margin - trending positive\n",
    "- Sales past 5 years > 20%\n",
    "- Institutional Ownership approx.30%\n",
    "- Insider Ownership < 55%\n",
    "- Debt/Equity < 0.10\n",
    "- SMA200 < 50% over\n",
    "- Target Price > Current price\n",
    "\n",
    "\n",
    "- Note: Recom analyst scale: \n",
    "    - 1 - stong buy\n",
    "    - 2 - buy\n",
    "    - 3 - hold\n",
    "    - 4 - sell\n",
    "    - 5 - strong sell\n",
    "\n"
   ],
   "cell_type": "markdown",
   "metadata": {}
  },
  {
   "cell_type": "code",
   "execution_count": 24,
   "metadata": {},
   "outputs": [
    {
     "output_type": "execute_result",
     "data": {
      "text/plain": [
       "                                            Sector  \\\n",
       "Company                                              \n",
       "Ayro, Inc.                       Consumer Cyclical   \n",
       "Tesla, Inc.                      Consumer Cyclical   \n",
       "Electrameccanica Vehicles Corp.  Consumer Cyclical   \n",
       "NIO Inc.                         Consumer Cyclical   \n",
       "Tilray, Inc.                            Healthcare   \n",
       "Sundial Growers Inc.                    Healthcare   \n",
       "Aphria Inc.                             Healthcare   \n",
       "CBAK Energy Technology, Inc.           Industrials   \n",
       "Lithium Americas Corp.             Basic Materials   \n",
       "\n",
       "                                                                 Industry  \\\n",
       "Company                                                                     \n",
       "Ayro, Inc.                                             Auto Manufacturers   \n",
       "Tesla, Inc.                                            Auto Manufacturers   \n",
       "Electrameccanica Vehicles Corp.                        Auto Manufacturers   \n",
       "NIO Inc.                                               Auto Manufacturers   \n",
       "Tilray, Inc.                     Drug Manufacturers - Specialty & Generic   \n",
       "Sundial Growers Inc.             Drug Manufacturers - Specialty & Generic   \n",
       "Aphria Inc.                      Drug Manufacturers - Specialty & Generic   \n",
       "CBAK Energy Technology, Inc.                 Electrical Equipment & Parts   \n",
       "Lithium Americas Corp.                   Other Industrial Metals & Mining   \n",
       "\n",
       "                                Country      P/E EPS past 5Y    Earnings  \\\n",
       "Company                                                                    \n",
       "Ayro, Inc.                          USA        -     -48.13%  Mar 31 BMO   \n",
       "Tesla, Inc.                         USA  1172.67      19.70%  Apr 26 AMC   \n",
       "Electrameccanica Vehicles Corp.  Canada        -           -  Mar 24 BMO   \n",
       "NIO Inc.                          China        -           -  Apr 29 AMC   \n",
       "Tilray, Inc.                     Canada        -           -  Feb 17 AMC   \n",
       "Sundial Growers Inc.             Canada        -           -  Mar 17 AMC   \n",
       "Aphria Inc.                      Canada        -           -  Apr 12 BMO   \n",
       "CBAK Energy Technology, Inc.      China        -      29.30%           -   \n",
       "Lithium Americas Corp.           Canada        -           -  Mar 02 BMO   \n",
       "\n",
       "                                   PEG      ROA Quick Ratio Oper. Margin  \\\n",
       "Company                                                                    \n",
       "Ayro, Inc.                           -  -50.10%       24.50            -   \n",
       "Tesla, Inc.                      32.85    1.60%        1.60        6.30%   \n",
       "Electrameccanica Vehicles Corp.      -  -69.00%       29.60            -   \n",
       "NIO Inc.                             -  -17.60%        3.20      -28.30%   \n",
       "Tilray, Inc.                         -  -30.10%        1.40      -66.50%   \n",
       "Sundial Growers Inc.                 -  -73.50%        3.70            -   \n",
       "Aphria Inc.                          -        -           -            -   \n",
       "CBAK Energy Technology, Inc.         -   -7.20%        0.80      -22.70%   \n",
       "Lithium Americas Corp.               -        -           -            -   \n",
       "\n",
       "                                Sales past 5Y Inst Own Insider Own Debt/Eq  \\\n",
       "Company                                                                      \n",
       "Ayro, Inc.                            -42.00%   20.90%       1.70%    0.00   \n",
       "Tesla, Inc.                            50.80%   46.00%       0.10%    0.53   \n",
       "Electrameccanica Vehicles Corp.             -   10.90%           -    0.01   \n",
       "NIO Inc.                                    -   36.40%       0.53%    0.29   \n",
       "Tilray, Inc.                                -   15.20%       5.80%    0.82   \n",
       "Sundial Growers Inc.                        -    1.70%       0.57%    0.01   \n",
       "Aphria Inc.                                 -   18.66%       0.11%       -   \n",
       "CBAK Energy Technology, Inc.           29.40%    2.40%      51.96%    0.29   \n",
       "Lithium Americas Corp.                      -   22.56%      17.49%       -   \n",
       "\n",
       "                                  Price Target Price  RSI (14)   SMA200 Recom  \n",
       "Company                                                                        \n",
       "Ayro, Inc.                         5.12            -     39.75   -2.11%  2.00  \n",
       "Tesla, Inc.                      729.40       650.81     54.84   31.41%  2.80  \n",
       "Electrameccanica Vehicles Corp.    4.32            -     41.13  -13.03%     -  \n",
       "NIO Inc.                          41.08        55.15     54.21   15.75%  2.30  \n",
       "Tilray, Inc.                      17.07        18.80     39.45   32.65%  3.20  \n",
       "Sundial Growers Inc.               0.83            -     37.16   21.58%  3.80  \n",
       "Aphria Inc.                       14.14            -     41.68   49.05%     -  \n",
       "CBAK Energy Technology, Inc.       4.68         2.00     45.54   11.85%     -  \n",
       "Lithium Americas Corp.            14.22            -     44.78   13.18%     -  "
      ],
      "text/html": "<div>\n<style scoped>\n    .dataframe tbody tr th:only-of-type {\n        vertical-align: middle;\n    }\n\n    .dataframe tbody tr th {\n        vertical-align: top;\n    }\n\n    .dataframe thead th {\n        text-align: right;\n    }\n</style>\n<table border=\"1\" class=\"dataframe\">\n  <thead>\n    <tr style=\"text-align: right;\">\n      <th></th>\n      <th>Sector</th>\n      <th>Industry</th>\n      <th>Country</th>\n      <th>P/E</th>\n      <th>EPS past 5Y</th>\n      <th>Earnings</th>\n      <th>PEG</th>\n      <th>ROA</th>\n      <th>Quick Ratio</th>\n      <th>Oper. Margin</th>\n      <th>Sales past 5Y</th>\n      <th>Inst Own</th>\n      <th>Insider Own</th>\n      <th>Debt/Eq</th>\n      <th>Price</th>\n      <th>Target Price</th>\n      <th>RSI (14)</th>\n      <th>SMA200</th>\n      <th>Recom</th>\n    </tr>\n    <tr>\n      <th>Company</th>\n      <th></th>\n      <th></th>\n      <th></th>\n      <th></th>\n      <th></th>\n      <th></th>\n      <th></th>\n      <th></th>\n      <th></th>\n      <th></th>\n      <th></th>\n      <th></th>\n      <th></th>\n      <th></th>\n      <th></th>\n      <th></th>\n      <th></th>\n      <th></th>\n      <th></th>\n    </tr>\n  </thead>\n  <tbody>\n    <tr>\n      <th>Ayro, Inc.</th>\n      <td>Consumer Cyclical</td>\n      <td>Auto Manufacturers</td>\n      <td>USA</td>\n      <td>-</td>\n      <td>-48.13%</td>\n      <td>Mar 31 BMO</td>\n      <td>-</td>\n      <td>-50.10%</td>\n      <td>24.50</td>\n      <td>-</td>\n      <td>-42.00%</td>\n      <td>20.90%</td>\n      <td>1.70%</td>\n      <td>0.00</td>\n      <td>5.12</td>\n      <td>-</td>\n      <td>39.75</td>\n      <td>-2.11%</td>\n      <td>2.00</td>\n    </tr>\n    <tr>\n      <th>Tesla, Inc.</th>\n      <td>Consumer Cyclical</td>\n      <td>Auto Manufacturers</td>\n      <td>USA</td>\n      <td>1172.67</td>\n      <td>19.70%</td>\n      <td>Apr 26 AMC</td>\n      <td>32.85</td>\n      <td>1.60%</td>\n      <td>1.60</td>\n      <td>6.30%</td>\n      <td>50.80%</td>\n      <td>46.00%</td>\n      <td>0.10%</td>\n      <td>0.53</td>\n      <td>729.40</td>\n      <td>650.81</td>\n      <td>54.84</td>\n      <td>31.41%</td>\n      <td>2.80</td>\n    </tr>\n    <tr>\n      <th>Electrameccanica Vehicles Corp.</th>\n      <td>Consumer Cyclical</td>\n      <td>Auto Manufacturers</td>\n      <td>Canada</td>\n      <td>-</td>\n      <td>-</td>\n      <td>Mar 24 BMO</td>\n      <td>-</td>\n      <td>-69.00%</td>\n      <td>29.60</td>\n      <td>-</td>\n      <td>-</td>\n      <td>10.90%</td>\n      <td>-</td>\n      <td>0.01</td>\n      <td>4.32</td>\n      <td>-</td>\n      <td>41.13</td>\n      <td>-13.03%</td>\n      <td>-</td>\n    </tr>\n    <tr>\n      <th>NIO Inc.</th>\n      <td>Consumer Cyclical</td>\n      <td>Auto Manufacturers</td>\n      <td>China</td>\n      <td>-</td>\n      <td>-</td>\n      <td>Apr 29 AMC</td>\n      <td>-</td>\n      <td>-17.60%</td>\n      <td>3.20</td>\n      <td>-28.30%</td>\n      <td>-</td>\n      <td>36.40%</td>\n      <td>0.53%</td>\n      <td>0.29</td>\n      <td>41.08</td>\n      <td>55.15</td>\n      <td>54.21</td>\n      <td>15.75%</td>\n      <td>2.30</td>\n    </tr>\n    <tr>\n      <th>Tilray, Inc.</th>\n      <td>Healthcare</td>\n      <td>Drug Manufacturers - Specialty &amp; Generic</td>\n      <td>Canada</td>\n      <td>-</td>\n      <td>-</td>\n      <td>Feb 17 AMC</td>\n      <td>-</td>\n      <td>-30.10%</td>\n      <td>1.40</td>\n      <td>-66.50%</td>\n      <td>-</td>\n      <td>15.20%</td>\n      <td>5.80%</td>\n      <td>0.82</td>\n      <td>17.07</td>\n      <td>18.80</td>\n      <td>39.45</td>\n      <td>32.65%</td>\n      <td>3.20</td>\n    </tr>\n    <tr>\n      <th>Sundial Growers Inc.</th>\n      <td>Healthcare</td>\n      <td>Drug Manufacturers - Specialty &amp; Generic</td>\n      <td>Canada</td>\n      <td>-</td>\n      <td>-</td>\n      <td>Mar 17 AMC</td>\n      <td>-</td>\n      <td>-73.50%</td>\n      <td>3.70</td>\n      <td>-</td>\n      <td>-</td>\n      <td>1.70%</td>\n      <td>0.57%</td>\n      <td>0.01</td>\n      <td>0.83</td>\n      <td>-</td>\n      <td>37.16</td>\n      <td>21.58%</td>\n      <td>3.80</td>\n    </tr>\n    <tr>\n      <th>Aphria Inc.</th>\n      <td>Healthcare</td>\n      <td>Drug Manufacturers - Specialty &amp; Generic</td>\n      <td>Canada</td>\n      <td>-</td>\n      <td>-</td>\n      <td>Apr 12 BMO</td>\n      <td>-</td>\n      <td>-</td>\n      <td>-</td>\n      <td>-</td>\n      <td>-</td>\n      <td>18.66%</td>\n      <td>0.11%</td>\n      <td>-</td>\n      <td>14.14</td>\n      <td>-</td>\n      <td>41.68</td>\n      <td>49.05%</td>\n      <td>-</td>\n    </tr>\n    <tr>\n      <th>CBAK Energy Technology, Inc.</th>\n      <td>Industrials</td>\n      <td>Electrical Equipment &amp; Parts</td>\n      <td>China</td>\n      <td>-</td>\n      <td>29.30%</td>\n      <td>-</td>\n      <td>-</td>\n      <td>-7.20%</td>\n      <td>0.80</td>\n      <td>-22.70%</td>\n      <td>29.40%</td>\n      <td>2.40%</td>\n      <td>51.96%</td>\n      <td>0.29</td>\n      <td>4.68</td>\n      <td>2.00</td>\n      <td>45.54</td>\n      <td>11.85%</td>\n      <td>-</td>\n    </tr>\n    <tr>\n      <th>Lithium Americas Corp.</th>\n      <td>Basic Materials</td>\n      <td>Other Industrial Metals &amp; Mining</td>\n      <td>Canada</td>\n      <td>-</td>\n      <td>-</td>\n      <td>Mar 02 BMO</td>\n      <td>-</td>\n      <td>-</td>\n      <td>-</td>\n      <td>-</td>\n      <td>-</td>\n      <td>22.56%</td>\n      <td>17.49%</td>\n      <td>-</td>\n      <td>14.22</td>\n      <td>-</td>\n      <td>44.78</td>\n      <td>13.18%</td>\n      <td>-</td>\n    </tr>\n  </tbody>\n</table>\n</div>"
     },
     "metadata": {},
     "execution_count": 24
    }
   ],
   "source": [
    "stock_fundamentals = stock_fundamentals[['Sector','Industry','Country','P/E','EPS past 5Y','Earnings','PEG','ROA','Quick Ratio','Oper. Margin','Sales past 5Y','Inst Own','Insider Own','Debt/Eq','Price','Target Price','RSI (14)','SMA200','Recom']]\n",
    "stock_fundamentals.sort_values('Industry')"
   ]
  },
  {
   "cell_type": "code",
   "execution_count": 323,
   "metadata": {},
   "outputs": [],
   "source": [
    "stock_fundamentals.to_csv('/Users/draganbogatic/Documents/Fin_Tech/finviz-stock-screen/resources/fundamentals_completed.csv')"
   ]
  }
 ]
}