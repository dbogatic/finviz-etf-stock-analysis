{
 "metadata": {
  "language_info": {
   "codemirror_mode": {
    "name": "ipython",
    "version": 3
   },
   "file_extension": ".py",
   "mimetype": "text/x-python",
   "name": "python",
   "nbconvert_exporter": "python",
   "pygments_lexer": "ipython3",
   "version": "3.7.9"
  },
  "orig_nbformat": 2,
  "kernelspec": {
   "name": "python379jvsc74a57bd01d1365bc7bea9ca53bbaaff2a498c5cc15b63a6fcc47bade387e2edfe7e7b068",
   "display_name": "Python 3.7.9 64-bit ('algotrading': conda)"
  }
 },
 "nbformat": 4,
 "nbformat_minor": 2,
 "cells": [
  {
   "cell_type": "code",
   "execution_count": 1,
   "metadata": {},
   "outputs": [],
   "source": [
    "import pandas as pd\n",
    "import requests\n",
    "import finvizfinance \n",
    "import finvizfinance.screener \n",
    "from finvizfinance.screener.overview import Overview\n",
    "from finvizfinance.quote import finvizfinance"
   ]
  },
  {
   "cell_type": "code",
   "execution_count": 2,
   "metadata": {},
   "outputs": [
    {
     "output_type": "stream",
     "name": "stdout",
     "text": [
      ""
     ]
    }
   ],
   "source": [
    "# Customize filter to obtain filtered data; refer to https://finviz.com/screener.ashx?v=111&ft=4 for avalable screen criteria; not all criteria can be selected, these are some I found work so far.\n",
    "foverview = Overview()\n",
    "filters_dict = {'Country':'USA','Debt/Equity':'Under 0.1','PEG':'Under 2','Return on Assets':'Over +15%', 'Quick Ratio':'Over 2','200-Day Simple Moving Average':'Price 10% above SMA200'}\n",
    "foverview.set_filter(filters_dict=filters_dict)\n",
    "filtered_list = foverview.ScreenerView()"
   ]
  },
  {
   "cell_type": "code",
   "execution_count": 3,
   "metadata": {},
   "outputs": [],
   "source": [
    "# print stock list to work offline\n",
    "filtered_list.to_csv('resources/stock_list.csv')"
   ]
  },
  {
   "cell_type": "code",
   "execution_count": 4,
   "metadata": {},
   "outputs": [
    {
     "output_type": "execute_result",
     "data": {
      "text/plain": [
       "  Ticker                      Company                  Sector  \\\n",
       "0   AMAT      Applied Materials, Inc.              Technology   \n",
       "1    BIO   Bio-Rad Laboratories, Inc.              Healthcare   \n",
       "2   DECK  Deckers Outdoor Corporation       Consumer Cyclical   \n",
       "3     FB               Facebook, Inc.  Communication Services   \n",
       "4   GNSS                 Genasys Inc.              Technology   \n",
       "\n",
       "                              Industry Country    Market Cap    P/E   Price  \\\n",
       "0  Semiconductor Equipment & Materials     USA  1.233400e+11  31.99  133.73   \n",
       "1                      Medical Devices     USA  1.853000e+10   4.96  626.12   \n",
       "2               Footwear & Accessories     USA  9.560000e+09  26.34  341.06   \n",
       "3       Internet Content & Information     USA  8.747300e+11  30.36  306.18   \n",
       "4   Scientific & Technical Instruments     USA  2.408900e+08  23.56    7.21   \n",
       "\n",
       "   Change      Volume  \n",
       "0 -0.0051   7615112.0  \n",
       "1  0.0021    138223.0  \n",
       "2  0.0045    147715.0  \n",
       "3 -0.0053  12815056.0  \n",
       "4  0.0070     75046.0  "
      ],
      "text/html": "<div>\n<style scoped>\n    .dataframe tbody tr th:only-of-type {\n        vertical-align: middle;\n    }\n\n    .dataframe tbody tr th {\n        vertical-align: top;\n    }\n\n    .dataframe thead th {\n        text-align: right;\n    }\n</style>\n<table border=\"1\" class=\"dataframe\">\n  <thead>\n    <tr style=\"text-align: right;\">\n      <th></th>\n      <th>Ticker</th>\n      <th>Company</th>\n      <th>Sector</th>\n      <th>Industry</th>\n      <th>Country</th>\n      <th>Market Cap</th>\n      <th>P/E</th>\n      <th>Price</th>\n      <th>Change</th>\n      <th>Volume</th>\n    </tr>\n  </thead>\n  <tbody>\n    <tr>\n      <th>0</th>\n      <td>AMAT</td>\n      <td>Applied Materials, Inc.</td>\n      <td>Technology</td>\n      <td>Semiconductor Equipment &amp; Materials</td>\n      <td>USA</td>\n      <td>1.233400e+11</td>\n      <td>31.99</td>\n      <td>133.73</td>\n      <td>-0.0051</td>\n      <td>7615112.0</td>\n    </tr>\n    <tr>\n      <th>1</th>\n      <td>BIO</td>\n      <td>Bio-Rad Laboratories, Inc.</td>\n      <td>Healthcare</td>\n      <td>Medical Devices</td>\n      <td>USA</td>\n      <td>1.853000e+10</td>\n      <td>4.96</td>\n      <td>626.12</td>\n      <td>0.0021</td>\n      <td>138223.0</td>\n    </tr>\n    <tr>\n      <th>2</th>\n      <td>DECK</td>\n      <td>Deckers Outdoor Corporation</td>\n      <td>Consumer Cyclical</td>\n      <td>Footwear &amp; Accessories</td>\n      <td>USA</td>\n      <td>9.560000e+09</td>\n      <td>26.34</td>\n      <td>341.06</td>\n      <td>0.0045</td>\n      <td>147715.0</td>\n    </tr>\n    <tr>\n      <th>3</th>\n      <td>FB</td>\n      <td>Facebook, Inc.</td>\n      <td>Communication Services</td>\n      <td>Internet Content &amp; Information</td>\n      <td>USA</td>\n      <td>8.747300e+11</td>\n      <td>30.36</td>\n      <td>306.18</td>\n      <td>-0.0053</td>\n      <td>12815056.0</td>\n    </tr>\n    <tr>\n      <th>4</th>\n      <td>GNSS</td>\n      <td>Genasys Inc.</td>\n      <td>Technology</td>\n      <td>Scientific &amp; Technical Instruments</td>\n      <td>USA</td>\n      <td>2.408900e+08</td>\n      <td>23.56</td>\n      <td>7.21</td>\n      <td>0.0070</td>\n      <td>75046.0</td>\n    </tr>\n  </tbody>\n</table>\n</div>"
     },
     "metadata": {},
     "execution_count": 4
    }
   ],
   "source": [
    "stock_list = pd.read_csv('./resources/stock_list.csv')\n",
    "stock_list = stock_list.drop(columns=['Unnamed: 0'])\n",
    "stock_list.head()"
   ]
  },
  {
   "cell_type": "code",
   "execution_count": 5,
   "metadata": {},
   "outputs": [],
   "source": [
    "# Select stocks from the dataframe by ticker\n",
    "tickers = stock_list['Ticker']"
   ]
  },
  {
   "cell_type": "code",
   "execution_count": 6,
   "metadata": {
    "tags": []
   },
   "outputs": [
    {
     "output_type": "stream",
     "name": "stdout",
     "text": [
      "Applied Materials, Inc. provides manufacturing equipment, services, and software to the semiconductor, display, and related industries. It operates through three segments: Semiconductor Systems, Applied Global Services, and Display and Adjacent Markets. The Semiconductor Systems segment develops, manufactures, and sells various manufacturing equipment that is used to fabricate semiconductor chips or integrated circuits. This segment also offers various technologies, including epitaxy, ion implantation, oxidation/nitridation, rapid thermal processing, physical vapor deposition, chemical vapor deposition, chemical mechanical planarization, electrochemical deposition, atomic layer deposition, etching, and selective deposition and removal, as well as metrology and inspection tools. The Applied Global Services segment provides integrated solutions to optimize equipment and fab performance and productivity comprising spares, upgrades, services, remanufactured earlier generation equipment, and factory automation software for semiconductor, display, and other products. The Display and Adjacent Markets segment offers products for manufacturing liquid crystal displays; organic light-emitting diodes; and other display technologies for TVs, monitors, laptops, personal computers, electronic tablets, smart phones, and other consumer-oriented devices, as well as equipment for processing flexible substrates. The company operates in the United States, China, Korea, Taiwan, Japan, Southeast Asia, and Europe. Applied Materials, Inc. was founded in 1967 and is headquartered in Santa Clara, California. --------------------------\n",
      "Bio-Rad Laboratories, Inc. develops, manufactures, and markets life science research and clinical diagnostic products in the United States, Europe, Asia, Canada, and Latin America. The company offers products and systems to separate complex chemical and biological materials, as well as to identify, analyze, and purify components. It operates in two segments, Life Science and Clinical Diagnostics. The Life Science segment develops, manufactures, and markets a range of reagents, apparatus, and laboratory instruments that are used in research techniques, biopharmaceutical production processes, and food testing regimes. It focuses on selected segments of the life sciences market in proteomics, genomics, biopharmaceutical production, cell biology, and food safety. This segment serves universities and medical schools, industrial research organizations, government agencies, pharmaceutical manufacturers, biotechnology researchers, food producers, and food testing laboratories. The Clinical Diagnostics segment designs, manufactures, sells, and supports test systems, informatics systems, test kits, and specialized quality controls for clinical laboratories in the diagnostics market. This segment offers reagents, instruments, and software, which address specific niches within the in vitro diagnostics test market. It sells its products to reference laboratories, hospital laboratories, state newborn screening facilities, physicians' office laboratories, transfusion laboratories, and insurance and forensic testing laboratories. The company offers its products through its direct sales force, as well as through distributors, agents, brokers, and resellers. Bio-Rad Laboratories, Inc. was founded in 1952 and is headquartered in Hercules, California. --------------------------\n",
      "Deckers Outdoor Corporation, together with its subsidiaries, designs, markets, and distributes footwear, apparel, and accessories for casual lifestyle use and high performance activities. It offers premium footwear, apparel, and accessories under the UGG brand name; sport sandals, shoes, and boots under the Teva brand name; and relaxed casual shoes and sandals under the Sanuk brand name. The company also provides footwear and apparel for ultra-runners and athletes under the Hoka brand name; and fashion casual footwear using sheepskin and other plush materials under the Koolaburra brand. It sells its products through department stores, domestic independent action sports and outdoor specialty footwear retailers, and larger national retail chains, as well as online retailers. The company also sells its products directly to consumers through its retail stores and e-commerce Websites, as well as distributes its products through distributors and retailers in the United States, Europe, the Asia-Pacific, Canada, Latin America, and internationally. As of March 31, 2020, it had 145 retail stores, including 76 concept stores and 69 outlet stores worldwide. The company was founded in 1973 and is headquartered in Goleta, California. --------------------------\n",
      "Facebook, Inc. develops products that enable people to connect and share with friends and family through mobile devices, personal computers, virtual reality headsets, and in-home devices worldwide. The company's products include Facebook that enables people to connect, share, discover, and communicate with each other on mobile devices and personal computers; Instagram, a community for sharing photos, videos, and private messages; Messenger, a messaging application for people to connect with friends, family, groups, and businesses across platforms and devices; and WhatsApp, a messaging application that is used by people and businesses to communicate in a private way. It also provides Facebook Reality Labs, an augmented and virtual reality product that help people feel connected, anytime, and anywhere. Facebook, Inc. was founded in 2004 and is headquartered in Menlo Park, California. --------------------------\n",
      "Genasys Inc., a communication company, designs, develops, and commercializes directed and multidirectional sound technologies, voice broadcast products, and location-based mass messaging solutions for emergency warning and workforce management worldwide. The company operates through two segments, Hardware and Software. It provides long range acoustic devices, such as acoustic hailing devices which are used to project sirens and audible voice messages; and Genasys Emergency Management, a unified software platform for cloud, on-premise or hybrid operations. The company also offers Integrated Mass Notification Solutions, including Genasys voice arrays, which project sirens and audible voice messages 60A - 360A with vocal clarity from close range to approximately 14 square kilometers; and GEM software to deliver SMS, text, email, and social media alerts to people at risk in defined geographic areas. It sells its products directly to governments, militaries, end-users, and commercial companies. The company was formerly known as LRAD Corporation. Genasys Inc. is based in San Diego, California. --------------------------\n",
      "Gentex Corporation designs, develops, manufactures, markets, and supplies digital vision, connected car, dimmable glass, and fire protection products in the United States, Germany, Japan, Mexico, and internationally. It operates through Automotive Products and Other segments. The company offers automotive products, including interior and exterior electrochromic automatic-dimming rearview mirrors, automotive electronics, and non-automatic-dimming rearview mirrors for automotive passenger cars, light trucks, pick-up trucks, sport utility vehicles, and vans for original equipment manufacturers, automotive suppliers, and various aftermarket and accessory customers. It also provides variable dimmable windows to aircraft manufacturers and airline operators. In addition, the company offers photoelectric smoke detectors and alarms, electrochemical carbon monoxide detectors and alarms, audible and visual signaling alarms, and bells and speakers used in fire detection systems in office buildings, hotels, and other commercial and residential establishments, as well as researches and develops nanofiber chemical sensing products. It sells its fire protection products directly, as well as through sales managers and manufacturer representative organizations to fire protection and security product distributors, electrical wholesale houses, and original equipment manufacturers of fire protection systems. The company was founded in 1974 and is headquartered in Zeeland, Michigan. --------------------------\n",
      "Loral Space & Communications Inc., a satellite communications company, provides satellite-based communications services to the broadcast, corporate, and government customers worldwide. As of December 31, 2020, the company provided satellite services to its customers through a fleet of 15 in-orbit geostationary satellites; and owned the Canadian Ka-band payload on the ViaSat-1 satellite. It also offers video distribution and direct-to-home (DTH) video, as well as end-to-end communications services using satellite and hybrid satellite-ground networks; and broadcast services, including DTH, video distribution and contribution, and satellite transmission services for the broadcast of video news, sports, and live event coverage. In addition, the company provides telecommunication carrier and integrator services; maritime and aeronautical services; satellite services to the Canadian government; two-way broadband Internet services; communications services to oil and gas and mining industries; and satellite operator services. Further, it is involved in the installation and maintenance of the end user terminal; and provision of satellite capacity and other network elements. Additionally, the company offers consulting services related to space and earth, government studies, satellite control services, and research and development; and X-band satellite services. Loral Space & Communications Inc. was founded in 1996 and is headquartered in New York, New York. --------------------------\n",
      "NVE Corporation develops and sells devices that use spintronics, a nanotechnology that relies on electron spin to acquire, store, and transmit information in the United States and internationally. The company manufactures spintronic products, including sensors and couplers for use in acquiring and transmitting data. Its products comprise standard sensors to detect the presence of a magnetic or metallic material to determine position or speed primarily for the factory automation market; and custom and medical sensors for medical devices to replace electromechanical magnetic switches. The company also offers spintronic couplers for industrial Internet of Things market. In addition, it engages in the research and development, and licensing of spintronic magnetoresistive random access memory technology. NVE Corporation was founded in 1989 and is headquartered in Eden Prairie, Minnesota. --------------------------\n",
      "Progyny, Inc., a benefits management company, specializes in fertility and family building benefits solutions for employers in the United States. Its fertility benefits solution includes differentiated benefits plan design, personalized concierge-style member support services, and selective network of fertility specialists. The company also offers Progyny Rx, an integrated pharmacy benefits solution that provides its members with access to the medications needed during their treatment. In addition, it provides surrogacy and adoption reimbursement programs for employers. The company was formerly known as Auxogyn, Inc. and changed its name to Progyny, Inc. in 2015. Progyny, Inc. was incorporated in 2008 and is headquartered in New York, New York. --------------------------\n",
      "SEI Investments Company is a publicly owned asset management holding company. Through its subsidiaries, the firm provides wealth management, retirement and investment solutions, asset management, asset administration, investment processing outsourcing solutions, financial services, and investment advisory services to its clients. It provides its services to private banks, independent financial advisers, institutional investors, investment managers, investment advisors, wealth management organizations, corporations, retirement scheme sponsors, not-for-profit organizations, hedge fund managers, registered investment advisers, independent broker-dealers, financial planners, life insurance agents, defined-benefit schemes, defined-contribution schemes, endowments, foundations, and board-designated fund, through its subsidiaries. Through its subsidiaries, the firm manages separate client-focused portfolios. It also launches and manages equity, fixed income, and balanced mutual funds, through its subsidiaries. Through its subsidiaries, the firm invests in public equity and fixed income markets. It employs fundamental and quantitative analysis with a focus on top-down and bottom-up analysis to make its investments, through its subsidiaries. SEI Investments Company was founded in 1968 and is based in Oaks, Pennsylvania. --------------------------\n",
      "USANA Health Sciences, Inc. develops, manufactures, and sells science-based nutritional and personal care products. The company offers USANA nutritional products that comprise essentials/CellSentials, such as vitamin and mineral supplements that provide a foundation of total body nutrition for various age groups; optimizers comprising targeted supplements that are designed to meet cardiovascular, skeletal/structural, and digestive health needs; and foods that include meal replacement shakes, snack bars, and other related products, which provide macro-nutrition. It also provides Celavive, a skin care regimen for various skin care types and ethnicities; and other products for prenatal, infant, and young child age groups. In addition, the company offers materials and online tools to assist associates in building their businesses, as well as in marketing products. It offers its products directly in the Asia Pacific, the Americas, and Europe, as well as online. USANA Health Sciences, Inc. was founded in 1992 and is headquartered in Salt Lake City, Utah. --------------------------\n",
      "Meridian Bioscience, Inc., a life science company, develops, manufactures, distributes, and sells diagnostic test kits primarily for gastrointestinal and respiratory infectious diseases, and elevated blood lead levels worldwide. The company operates through Diagnostics and Life Science segments. The Diagnostics segment offers testing platforms, including real-time PCR amplification under the Revogene brand; isothermal DNA amplification under the Alethia brand; lateral flow immunoassay using fluorescent chemistry under the Curian brand; rapid immunoassay under the ImmunoCard and ImmunoCard STAT! brands; enzyme-linked immunoassays under the PREMIER brand; anodic stripping voltammetry under the LeadCare and PediaStat brands; and urea breath testing for H. pylori under the BreathID brand. This segment also offers gastrointestinal assays, including tests for C. difficile, H. pylori, and certain foodborne pathogens; respiratory illness assays, such as tests Group A strep, mycoplasma pneumonia, influenza, and pertussis; and blood chemistry assays for testing elevated levels of lead in blood. It sells products through direct sales force and independent distributors to acute care hospitals, reference laboratories, outpatient clinics, and physician office laboratories. The Life Science segment offers bulk antigens, antibodies, PCR/qPCR reagents, nucleotides, and bioresearch reagents used by in vitro diagnostic manufacturers, as well as researchers in immunological and molecular tests for human, animal, plant, and environmental applications. The company has a strategic collaboration with DiaSorin Inc. to sell H. pylori tests. Meridian Bioscience, Inc. was incorporated in 1976 and is headquartered in Cincinnati, Ohio. --------------------------\n"
     ]
    }
   ],
   "source": [
    "# Loop through ticker list to obtain stock descriptions\n",
    "for ticker in tickers:\n",
    "    stock = finvizfinance(ticker)\n",
    "    ticker =  stock.TickerDescription()\n",
    "    print(f'{ticker} --------------------------'.format('\\n'))"
   ]
  }
 ]
}