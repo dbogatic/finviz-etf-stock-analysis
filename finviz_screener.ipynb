{
 "metadata": {
  "language_info": {
   "codemirror_mode": {
    "name": "ipython",
    "version": 3
   },
   "file_extension": ".py",
   "mimetype": "text/x-python",
   "name": "python",
   "nbconvert_exporter": "python",
   "pygments_lexer": "ipython3",
   "version": "3.7.9"
  },
  "orig_nbformat": 2,
  "kernelspec": {
   "name": "python379jvsc74a57bd01d1365bc7bea9ca53bbaaff2a498c5cc15b63a6fcc47bade387e2edfe7e7b068",
   "display_name": "Python 3.7.9 64-bit ('algotrading': conda)"
  }
 },
 "nbformat": 4,
 "nbformat_minor": 2,
 "cells": [
  {
   "cell_type": "code",
   "execution_count": 19,
   "metadata": {},
   "outputs": [],
   "source": [
    "import pandas as pd\n",
    "import os\n",
    "import glob\n",
    "import requests\n",
    "import finvizfinance \n",
    "import finvizfinance.screener \n",
    "from finvizfinance.screener.overview import Overview\n",
    "from finvizfinance.quote import finvizfinance"
   ]
  },
  {
   "cell_type": "code",
   "execution_count": 9,
   "metadata": {},
   "outputs": [],
   "source": [
    "# Customize filter to obtain filtered data; refer to https://finviz.com/screener.ashx?v=111&ft=4 for avalable screen criteria; not all criteria can be selected, these are some I found work so far.\n",
    "#foverview = Overview()\n",
    "#filters_dict = {'Country':'USA','Debt/Equity':'Under 0.1','PEG':'Under 2','Return on Assets':'Over +15%', 'Quick Ratio':'Over 2','200-Day Simple Moving Average':'Price 10% above SMA200'}\n",
    "#foverview.set_filter(filters_dict=filters_dict)\n",
    "#filtered_list = foverview.ScreenerView()"
   ]
  },
  {
   "cell_type": "code",
   "execution_count": 10,
   "metadata": {},
   "outputs": [],
   "source": [
    "# print stock list to work offline\n",
    "#filtered_list.to_csv('resources/stock_list.csv')"
   ]
  },
  {
   "cell_type": "code",
   "execution_count": 11,
   "metadata": {},
   "outputs": [],
   "source": [
    "#stock_list = pd.read_csv('./resources/stock_list.csv')\n",
    "#stock_list = stock_list.drop(columns=['Unnamed: 0'])\n",
    "#stock_list.head()"
   ]
  },
  {
   "cell_type": "code",
   "execution_count": 20,
   "metadata": {},
   "outputs": [],
   "source": [
    "# Select stocks from the dataframe by ticker\n",
    "#tickers = stock_list['Ticker']\n",
    "tickers = ['NIO','AYRO','SOLO','CBAT','LAC','TSLA']"
   ]
  },
  {
   "cell_type": "code",
   "execution_count": 13,
   "metadata": {
    "tags": []
   },
   "outputs": [],
   "source": [
    "# Loop through ticker list to obtain stock descriptions\n",
    "#for ticker in tickers:\n",
    "    #stock = finvizfinance(ticker)\n",
    "    #ticker =  stock.TickerDescription()\n",
    "    #print(f'{ticker} --------------------------'.format('\\n'))"
   ]
  },
  {
   "cell_type": "code",
   "execution_count": 40,
   "metadata": {},
   "outputs": [
    {
     "output_type": "stream",
     "name": "stdout",
     "text": [
      "           0                   1\n",
      "0    Company            NIO Inc.\n",
      "1     Sector   Consumer Cyclical\n",
      "2   Industry  Auto Manufacturers\n",
      "3    Country               China\n",
      "4      Index                   -\n",
      "..       ...                 ...\n",
      "70     SMA20               8.71%\n",
      "71     SMA50              -5.27%\n",
      "72    SMA200              15.75%\n",
      "73    Volume          70,578,024\n",
      "74    Change               3.82%\n",
      "\n",
      "[75 rows x 2 columns]\n",
      "           0                   1\n",
      "0    Company          Ayro, Inc.\n",
      "1     Sector   Consumer Cyclical\n",
      "2   Industry  Auto Manufacturers\n",
      "3    Country                 USA\n",
      "4      Index                   -\n",
      "..       ...                 ...\n",
      "70     SMA20             -10.43%\n",
      "71     SMA50             -24.02%\n",
      "72    SMA200              -2.11%\n",
      "73    Volume             869,253\n",
      "74    Change               0.20%\n",
      "\n",
      "[75 rows x 2 columns]\n",
      "           0                                1\n",
      "0    Company  Electrameccanica Vehicles Corp.\n",
      "1     Sector                Consumer Cyclical\n",
      "2   Industry               Auto Manufacturers\n",
      "3    Country                           Canada\n",
      "4      Index                                -\n",
      "..       ...                              ...\n",
      "70     SMA20                           -4.57%\n",
      "71     SMA50                          -22.07%\n",
      "72    SMA200                          -13.03%\n",
      "73    Volume                        2,669,651\n",
      "74    Change                            3.85%\n",
      "\n",
      "[75 rows x 2 columns]\n",
      "           0                             1\n",
      "0    Company  CBAK Energy Technology, Inc.\n",
      "1     Sector                   Industrials\n",
      "2   Industry  Electrical Equipment & Parts\n",
      "3    Country                         China\n",
      "4      Index                             -\n",
      "..       ...                           ...\n",
      "70     SMA20                        -1.85%\n",
      "71     SMA50                       -16.45%\n",
      "72    SMA200                        11.85%\n",
      "73    Volume                     1,418,919\n",
      "74    Change                         6.12%\n",
      "\n",
      "[75 rows x 2 columns]\n",
      "           0                                 1\n",
      "0    Company            Lithium Americas Corp.\n",
      "1     Sector                   Basic Materials\n",
      "2   Industry  Other Industrial Metals & Mining\n",
      "3    Country                            Canada\n",
      "4      Index                                 -\n",
      "..       ...                               ...\n",
      "70     SMA20                            -2.52%\n",
      "71     SMA50                           -14.40%\n",
      "72    SMA200                            13.18%\n",
      "73    Volume                         2,378,566\n",
      "74    Change                             3.80%\n",
      "\n",
      "[75 rows x 2 columns]\n",
      "           0                   1\n",
      "0    Company         Tesla, Inc.\n",
      "1     Sector   Consumer Cyclical\n",
      "2   Industry  Auto Manufacturers\n",
      "3    Country                 USA\n",
      "4      Index             S&P 500\n",
      "..       ...                 ...\n",
      "70     SMA20               5.54%\n",
      "71     SMA50               4.61%\n",
      "72    SMA200              31.41%\n",
      "73    Volume          28,413,888\n",
      "74    Change               1.35%\n",
      "\n",
      "[75 rows x 2 columns]\n"
     ]
    }
   ],
   "source": [
    "for ticker in tickers:\n",
    "    stock = finvizfinance(ticker)\n",
    "    ticker_fundament =  stock.TickerFundament()\n",
    "    fundament = pd.DataFrame(list(ticker_fundament.items()))\n",
    "    fundament = fundament.reset_index(drop=True)\n",
    "    \n",
    "    print(fundament)\n",
    "    fundament.to_csv(f'/Users/draganbogatic/Documents/Fin_Tech/finviz-stock-screen/resources/fundamentals/{ticker}_fundamentals.csv', header=False)"
   ]
  },
  {
   "cell_type": "code",
   "execution_count": 90,
   "metadata": {},
   "outputs": [],
   "source": [
    "os.chdir('/Users/draganbogatic/Documents/Fin_Tech/finviz-stock-screen/resources/fundamentals')\n",
    "extension = 'csv'"
   ]
  },
  {
   "cell_type": "code",
   "execution_count": 120,
   "metadata": {},
   "outputs": [
    {
     "output_type": "execute_result",
     "data": {
      "text/plain": [
       "['LAC_fundamentals.csv',\n",
       " 'CBAT_fundamentals.csv',\n",
       " 'AYRO_fundamentals.csv',\n",
       " 'TSLA_fundamentals.csv',\n",
       " 'SOLO_fundamentals.csv',\n",
       " 'NIO_fundamentals.csv']"
      ]
     },
     "metadata": {},
     "execution_count": 120
    }
   ],
   "source": [
    "combined = [i for i in glob.glob('*.{}'.format(extension))]\n",
    "combined"
   ]
  },
  {
   "cell_type": "code",
   "execution_count": 121,
   "metadata": {},
   "outputs": [],
   "source": [
    "combined = pd.concat([pd.read_csv(f) for f in combined],axis=1)\n",
    "combined_df = pd.DataFrame(combined)\n",
    "combined_df = combined_df.drop(columns='0').T\n",
    "combined_df = combined_df.drop_duplicates(keep='first')\n",
    "combined_df\n",
    "combined_df.to_csv('/Users/draganbogatic/Documents/Fin_Tech/finviz-stock-screen/resources/fundamentals/fundamentals_combined.csv', header=False)\n"
   ]
  },
  {
   "cell_type": "code",
   "execution_count": 122,
   "metadata": {},
   "outputs": [
    {
     "output_type": "execute_result",
     "data": {
      "text/plain": [
       "                           Company             Sector  \\\n",
       "0           Lithium Americas Corp.    Basic Materials   \n",
       "1     CBAK Energy Technology, Inc.        Industrials   \n",
       "2                       Ayro, Inc.  Consumer Cyclical   \n",
       "3                      Tesla, Inc.  Consumer Cyclical   \n",
       "4  Electrameccanica Vehicles Corp.  Consumer Cyclical   \n",
       "5                         NIO Inc.  Consumer Cyclical   \n",
       "\n",
       "                           Industry Country    Index      P/E  EPS (ttm)  \\\n",
       "0  Other Industrial Metals & Mining  Canada        -        -      -0.40   \n",
       "1      Electrical Equipment & Parts   China        -        -      -0.12   \n",
       "2                Auto Manufacturers     USA        -        -      -0.75   \n",
       "3                Auto Manufacturers     USA  S&P 500  1172.67       0.62   \n",
       "4                Auto Manufacturers  Canada        -        -      -1.08   \n",
       "5                Auto Manufacturers   China        -        -      -0.75   \n",
       "\n",
       "  Insider Own Shs Outstand Perf Week  ...    Earnings Payout Avg Volume  \\\n",
       "0      17.49%      119.42M    -1.52%  ...  Mar 02 BMO      -      4.86M   \n",
       "1      51.96%       69.26M     4.93%  ...           -      -      6.82M   \n",
       "2       1.70%       25.66M     5.13%  ...  Mar 31 BMO      -      4.44M   \n",
       "3       0.10%      959.85M    -1.40%  ...  Apr 26 AMC  0.00%     34.05M   \n",
       "4           -       58.35M     2.86%  ...  Mar 24 BMO      -     10.53M   \n",
       "5       0.53%        1.35B    13.83%  ...  Apr 29 AMC      -     93.92M   \n",
       "\n",
       "    Price Recom    SMA20    SMA50   SMA200      Volume Change  \n",
       "0   14.22     -   -2.52%  -14.40%   13.18%   2,378,566  3.80%  \n",
       "1    4.68     -   -1.85%  -16.45%   11.85%   1,418,919  6.12%  \n",
       "2    5.12  2.00  -10.43%  -24.02%   -2.11%     869,253  0.20%  \n",
       "3  729.40  2.80    5.54%    4.61%   31.41%  28,413,888  1.35%  \n",
       "4    4.32     -   -4.57%  -22.07%  -13.03%   2,669,651  3.85%  \n",
       "5   41.08  2.30    8.71%   -5.27%   15.75%  70,578,024  3.82%  \n",
       "\n",
       "[6 rows x 75 columns]"
      ],
      "text/html": "<div>\n<style scoped>\n    .dataframe tbody tr th:only-of-type {\n        vertical-align: middle;\n    }\n\n    .dataframe tbody tr th {\n        vertical-align: top;\n    }\n\n    .dataframe thead th {\n        text-align: right;\n    }\n</style>\n<table border=\"1\" class=\"dataframe\">\n  <thead>\n    <tr style=\"text-align: right;\">\n      <th></th>\n      <th>Company</th>\n      <th>Sector</th>\n      <th>Industry</th>\n      <th>Country</th>\n      <th>Index</th>\n      <th>P/E</th>\n      <th>EPS (ttm)</th>\n      <th>Insider Own</th>\n      <th>Shs Outstand</th>\n      <th>Perf Week</th>\n      <th>...</th>\n      <th>Earnings</th>\n      <th>Payout</th>\n      <th>Avg Volume</th>\n      <th>Price</th>\n      <th>Recom</th>\n      <th>SMA20</th>\n      <th>SMA50</th>\n      <th>SMA200</th>\n      <th>Volume</th>\n      <th>Change</th>\n    </tr>\n  </thead>\n  <tbody>\n    <tr>\n      <th>0</th>\n      <td>Lithium Americas Corp.</td>\n      <td>Basic Materials</td>\n      <td>Other Industrial Metals &amp; Mining</td>\n      <td>Canada</td>\n      <td>-</td>\n      <td>-</td>\n      <td>-0.40</td>\n      <td>17.49%</td>\n      <td>119.42M</td>\n      <td>-1.52%</td>\n      <td>...</td>\n      <td>Mar 02 BMO</td>\n      <td>-</td>\n      <td>4.86M</td>\n      <td>14.22</td>\n      <td>-</td>\n      <td>-2.52%</td>\n      <td>-14.40%</td>\n      <td>13.18%</td>\n      <td>2,378,566</td>\n      <td>3.80%</td>\n    </tr>\n    <tr>\n      <th>1</th>\n      <td>CBAK Energy Technology, Inc.</td>\n      <td>Industrials</td>\n      <td>Electrical Equipment &amp; Parts</td>\n      <td>China</td>\n      <td>-</td>\n      <td>-</td>\n      <td>-0.12</td>\n      <td>51.96%</td>\n      <td>69.26M</td>\n      <td>4.93%</td>\n      <td>...</td>\n      <td>-</td>\n      <td>-</td>\n      <td>6.82M</td>\n      <td>4.68</td>\n      <td>-</td>\n      <td>-1.85%</td>\n      <td>-16.45%</td>\n      <td>11.85%</td>\n      <td>1,418,919</td>\n      <td>6.12%</td>\n    </tr>\n    <tr>\n      <th>2</th>\n      <td>Ayro, Inc.</td>\n      <td>Consumer Cyclical</td>\n      <td>Auto Manufacturers</td>\n      <td>USA</td>\n      <td>-</td>\n      <td>-</td>\n      <td>-0.75</td>\n      <td>1.70%</td>\n      <td>25.66M</td>\n      <td>5.13%</td>\n      <td>...</td>\n      <td>Mar 31 BMO</td>\n      <td>-</td>\n      <td>4.44M</td>\n      <td>5.12</td>\n      <td>2.00</td>\n      <td>-10.43%</td>\n      <td>-24.02%</td>\n      <td>-2.11%</td>\n      <td>869,253</td>\n      <td>0.20%</td>\n    </tr>\n    <tr>\n      <th>3</th>\n      <td>Tesla, Inc.</td>\n      <td>Consumer Cyclical</td>\n      <td>Auto Manufacturers</td>\n      <td>USA</td>\n      <td>S&amp;P 500</td>\n      <td>1172.67</td>\n      <td>0.62</td>\n      <td>0.10%</td>\n      <td>959.85M</td>\n      <td>-1.40%</td>\n      <td>...</td>\n      <td>Apr 26 AMC</td>\n      <td>0.00%</td>\n      <td>34.05M</td>\n      <td>729.40</td>\n      <td>2.80</td>\n      <td>5.54%</td>\n      <td>4.61%</td>\n      <td>31.41%</td>\n      <td>28,413,888</td>\n      <td>1.35%</td>\n    </tr>\n    <tr>\n      <th>4</th>\n      <td>Electrameccanica Vehicles Corp.</td>\n      <td>Consumer Cyclical</td>\n      <td>Auto Manufacturers</td>\n      <td>Canada</td>\n      <td>-</td>\n      <td>-</td>\n      <td>-1.08</td>\n      <td>-</td>\n      <td>58.35M</td>\n      <td>2.86%</td>\n      <td>...</td>\n      <td>Mar 24 BMO</td>\n      <td>-</td>\n      <td>10.53M</td>\n      <td>4.32</td>\n      <td>-</td>\n      <td>-4.57%</td>\n      <td>-22.07%</td>\n      <td>-13.03%</td>\n      <td>2,669,651</td>\n      <td>3.85%</td>\n    </tr>\n    <tr>\n      <th>5</th>\n      <td>NIO Inc.</td>\n      <td>Consumer Cyclical</td>\n      <td>Auto Manufacturers</td>\n      <td>China</td>\n      <td>-</td>\n      <td>-</td>\n      <td>-0.75</td>\n      <td>0.53%</td>\n      <td>1.35B</td>\n      <td>13.83%</td>\n      <td>...</td>\n      <td>Apr 29 AMC</td>\n      <td>-</td>\n      <td>93.92M</td>\n      <td>41.08</td>\n      <td>2.30</td>\n      <td>8.71%</td>\n      <td>-5.27%</td>\n      <td>15.75%</td>\n      <td>70,578,024</td>\n      <td>3.82%</td>\n    </tr>\n  </tbody>\n</table>\n<p>6 rows × 75 columns</p>\n</div>"
     },
     "metadata": {},
     "execution_count": 122
    }
   ],
   "source": [
    "pd.read_csv('/Users/draganbogatic/Documents/Fin_Tech/finviz-stock-screen/resources/fundamentals/fundamentals_combined.csv')"
   ]
  },
  {
   "cell_type": "code",
   "execution_count": null,
   "metadata": {},
   "outputs": [],
   "source": []
  }
 ]
}