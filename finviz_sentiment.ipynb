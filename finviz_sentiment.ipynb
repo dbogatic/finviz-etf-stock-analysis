{
 "metadata": {
  "language_info": {
   "codemirror_mode": {
    "name": "ipython",
    "version": 3
   },
   "file_extension": ".py",
   "mimetype": "text/x-python",
   "name": "python",
   "nbconvert_exporter": "python",
   "pygments_lexer": "ipython3",
   "version": "3.7.9"
  },
  "orig_nbformat": 2,
  "kernelspec": {
   "name": "python379jvsc74a57bd01d1365bc7bea9ca53bbaaff2a498c5cc15b63a6fcc47bade387e2edfe7e7b068",
   "display_name": "Python 3.7.9 64-bit ('algotrading': conda)"
  }
 },
 "nbformat": 4,
 "nbformat_minor": 2,
 "cells": [
  {
   "cell_type": "code",
   "execution_count": 10,
   "metadata": {},
   "outputs": [],
   "source": [
    "import pandas as pd\n",
    "import datetime\n",
    "import matplotlib.pyplot as plt\n",
    "import requests\n",
    "import json\n",
    "from pprint import pprint\n",
    "import finvizfinance \n",
    "import finvizfinance.screener \n",
    "from finvizfinance.quote import finvizfinance\n",
    "from nltk.sentiment.vader import SentimentIntensityAnalyzer\n",
    "\n",
    "%matplotlib inline"
   ]
  },
  {
   "cell_type": "code",
   "execution_count": 11,
   "metadata": {},
   "outputs": [],
   "source": [
    "# Input tickers you want to obtain news for\n",
    "ticker_one = 'AAPL'\n",
    "ticker_two = 'MSFT'\n",
    "ticker_three = 'NVDA'"
   ]
  },
  {
   "cell_type": "code",
   "execution_count": 12,
   "metadata": {
    "tags": []
   },
   "outputs": [],
   "source": [
    "# Obtain news for the desired number of tickers in a dataframe (i tried iterating through tickers, however I prefer this output at the expense of longer code since it is better organized and pulls max number of latest news per ticker (100))\n",
    "\n",
    "stock_one = finvizfinance(ticker_one)\n",
    "news_one = stock_one.TickerNews()\n",
    "\n",
    "stock_two = finvizfinance(ticker_two)\n",
    "news_two = stock_two.TickerNews()\n",
    "\n",
    "stock_three = finvizfinance(ticker_three)\n",
    "news_three = stock_three.TickerNews()"
   ]
  },
  {
   "cell_type": "code",
   "execution_count": 13,
   "metadata": {},
   "outputs": [
    {
     "output_type": "execute_result",
     "data": {
      "text/plain": [
       "                  Date                                              Title  \\\n",
       "0  2021-04-13 10:30:00  4 Dow Jones Stocks To Buy And Watch In April 2...   \n",
       "1  2021-04-13 10:06:00  Will Tesla Be the Next Apple? Heres How Invest...   \n",
       "2  2021-04-13 10:00:00  Dow Jones Lags, Nasdaq Rallies As J&J Vaccine ...   \n",
       "3  2021-04-13 09:48:00  Oops! Siri Prematurely Reveals the Date of App...   \n",
       "4  2021-04-13 09:00:00  Microsoft is updating its MacBook Air competit...   \n",
       "..                 ...                                                ...   \n",
       "95 2021-04-08 05:52:00  MacBook, iPad production delayed as supply cru...   \n",
       "96 2021-04-08 04:50:00  Oxford scientists behind COVID-19 vaccine set ...   \n",
       "97 2021-04-08 04:00:00  UPDATE 1-MacBook, iPad production delayed as s...   \n",
       "98 2021-04-08 03:16:00  MacBook, iPad production delayed as supply cru...   \n",
       "99 2021-04-08 03:04:00  Apple to argue it faces competition in video g...   \n",
       "\n",
       "                                                 Link Ticker  \n",
       "0   https://www.investors.com/research/dow-jones-s...   AAPL  \n",
       "1   https://www.barrons.com/articles/will-tesla-be...   AAPL  \n",
       "2   https://www.investors.com/market-trend/stock-m...   AAPL  \n",
       "3   https://www.fool.com/investing/2021/04/13/oops...   AAPL  \n",
       "4   https://finance.yahoo.com/news/microsoft-surfa...   AAPL  \n",
       "..                                                ...    ...  \n",
       "95  https://finance.yahoo.com/news/macbook-ipad-pr...   AAPL  \n",
       "96  https://finance.yahoo.com/news/covid-19-corona...   AAPL  \n",
       "97  https://finance.yahoo.com/news/1-macbook-ipad-...   AAPL  \n",
       "98  https://finance.yahoo.com/news/macbook-ipad-pr...   AAPL  \n",
       "99  https://finance.yahoo.com/news/apple-argue-fac...   AAPL  \n",
       "\n",
       "[100 rows x 4 columns]"
      ],
      "text/html": "<div>\n<style scoped>\n    .dataframe tbody tr th:only-of-type {\n        vertical-align: middle;\n    }\n\n    .dataframe tbody tr th {\n        vertical-align: top;\n    }\n\n    .dataframe thead th {\n        text-align: right;\n    }\n</style>\n<table border=\"1\" class=\"dataframe\">\n  <thead>\n    <tr style=\"text-align: right;\">\n      <th></th>\n      <th>Date</th>\n      <th>Title</th>\n      <th>Link</th>\n      <th>Ticker</th>\n    </tr>\n  </thead>\n  <tbody>\n    <tr>\n      <th>0</th>\n      <td>2021-04-13 10:30:00</td>\n      <td>4 Dow Jones Stocks To Buy And Watch In April 2...</td>\n      <td>https://www.investors.com/research/dow-jones-s...</td>\n      <td>AAPL</td>\n    </tr>\n    <tr>\n      <th>1</th>\n      <td>2021-04-13 10:06:00</td>\n      <td>Will Tesla Be the Next Apple? Heres How Invest...</td>\n      <td>https://www.barrons.com/articles/will-tesla-be...</td>\n      <td>AAPL</td>\n    </tr>\n    <tr>\n      <th>2</th>\n      <td>2021-04-13 10:00:00</td>\n      <td>Dow Jones Lags, Nasdaq Rallies As J&amp;J Vaccine ...</td>\n      <td>https://www.investors.com/market-trend/stock-m...</td>\n      <td>AAPL</td>\n    </tr>\n    <tr>\n      <th>3</th>\n      <td>2021-04-13 09:48:00</td>\n      <td>Oops! Siri Prematurely Reveals the Date of App...</td>\n      <td>https://www.fool.com/investing/2021/04/13/oops...</td>\n      <td>AAPL</td>\n    </tr>\n    <tr>\n      <th>4</th>\n      <td>2021-04-13 09:00:00</td>\n      <td>Microsoft is updating its MacBook Air competit...</td>\n      <td>https://finance.yahoo.com/news/microsoft-surfa...</td>\n      <td>AAPL</td>\n    </tr>\n    <tr>\n      <th>...</th>\n      <td>...</td>\n      <td>...</td>\n      <td>...</td>\n      <td>...</td>\n    </tr>\n    <tr>\n      <th>95</th>\n      <td>2021-04-08 05:52:00</td>\n      <td>MacBook, iPad production delayed as supply cru...</td>\n      <td>https://finance.yahoo.com/news/macbook-ipad-pr...</td>\n      <td>AAPL</td>\n    </tr>\n    <tr>\n      <th>96</th>\n      <td>2021-04-08 04:50:00</td>\n      <td>Oxford scientists behind COVID-19 vaccine set ...</td>\n      <td>https://finance.yahoo.com/news/covid-19-corona...</td>\n      <td>AAPL</td>\n    </tr>\n    <tr>\n      <th>97</th>\n      <td>2021-04-08 04:00:00</td>\n      <td>UPDATE 1-MacBook, iPad production delayed as s...</td>\n      <td>https://finance.yahoo.com/news/1-macbook-ipad-...</td>\n      <td>AAPL</td>\n    </tr>\n    <tr>\n      <th>98</th>\n      <td>2021-04-08 03:16:00</td>\n      <td>MacBook, iPad production delayed as supply cru...</td>\n      <td>https://finance.yahoo.com/news/macbook-ipad-pr...</td>\n      <td>AAPL</td>\n    </tr>\n    <tr>\n      <th>99</th>\n      <td>2021-04-08 03:04:00</td>\n      <td>Apple to argue it faces competition in video g...</td>\n      <td>https://finance.yahoo.com/news/apple-argue-fac...</td>\n      <td>AAPL</td>\n    </tr>\n  </tbody>\n</table>\n<p>100 rows × 4 columns</p>\n</div>"
     },
     "metadata": {},
     "execution_count": 13
    }
   ],
   "source": [
    "news_one['Ticker'] = ticker_one\n",
    "news_one.head()\n",
    "news_one['Date']= pd.to_datetime(news_one['Date'])\n",
    "news_one"
   ]
  },
  {
   "cell_type": "code",
   "execution_count": 14,
   "metadata": {},
   "outputs": [
    {
     "output_type": "execute_result",
     "data": {
      "text/plain": [
       "     neg    neu    pos  compound\n",
       "0  0.000  1.000  0.000    0.0000\n",
       "1  0.000  0.821  0.179    0.3400\n",
       "2  0.135  0.865  0.000   -0.3612\n",
       "3  0.000  1.000  0.000    0.0000\n",
       "4  0.000  1.000  0.000    0.0000"
      ],
      "text/html": "<div>\n<style scoped>\n    .dataframe tbody tr th:only-of-type {\n        vertical-align: middle;\n    }\n\n    .dataframe tbody tr th {\n        vertical-align: top;\n    }\n\n    .dataframe thead th {\n        text-align: right;\n    }\n</style>\n<table border=\"1\" class=\"dataframe\">\n  <thead>\n    <tr style=\"text-align: right;\">\n      <th></th>\n      <th>neg</th>\n      <th>neu</th>\n      <th>pos</th>\n      <th>compound</th>\n    </tr>\n  </thead>\n  <tbody>\n    <tr>\n      <th>0</th>\n      <td>0.000</td>\n      <td>1.000</td>\n      <td>0.000</td>\n      <td>0.0000</td>\n    </tr>\n    <tr>\n      <th>1</th>\n      <td>0.000</td>\n      <td>0.821</td>\n      <td>0.179</td>\n      <td>0.3400</td>\n    </tr>\n    <tr>\n      <th>2</th>\n      <td>0.135</td>\n      <td>0.865</td>\n      <td>0.000</td>\n      <td>-0.3612</td>\n    </tr>\n    <tr>\n      <th>3</th>\n      <td>0.000</td>\n      <td>1.000</td>\n      <td>0.000</td>\n      <td>0.0000</td>\n    </tr>\n    <tr>\n      <th>4</th>\n      <td>0.000</td>\n      <td>1.000</td>\n      <td>0.000</td>\n      <td>0.0000</td>\n    </tr>\n  </tbody>\n</table>\n</div>"
     },
     "metadata": {},
     "execution_count": 14
    }
   ],
   "source": [
    "# Instantiate the sentiment intensity analyzer\n",
    "vader = SentimentIntensityAnalyzer()\n",
    "\n",
    "# Iterate through the headlines and get the polarity scores using vader\n",
    "scores_one = news_one['Title'].apply(vader.polarity_scores).tolist()\n",
    "\n",
    "# Convert the 'scores' list of dicts into a DataFrame\n",
    "scores_one = pd.DataFrame(scores_one)\n",
    "scores_one.head()"
   ]
  },
  {
   "cell_type": "code",
   "execution_count": 15,
   "metadata": {},
   "outputs": [
    {
     "output_type": "execute_result",
     "data": {
      "text/plain": [
       "                 Date                                              Title  \\\n",
       "0 2021-04-13 09:00:00  Microsoft is updating its MacBook Air competit...   \n",
       "1 2021-04-13 07:30:00  Nancy Pelosis Husband Bought Roblox, Microsoft...   \n",
       "2 2021-04-13 07:00:00              Microsoft's $20 Billion Bet on Nuance   \n",
       "3 2021-04-13 06:00:00  Biden Hears 310 Companies Urge Speed on Climat...   \n",
       "4 2021-04-13 03:14:00  J&J, Nvidia, Bitcoin, GameStop - 5 Things You ...   \n",
       "\n",
       "                                                Link Ticker  \n",
       "0  https://finance.yahoo.com/news/microsoft-surfa...   MSFT  \n",
       "1  https://www.barrons.com/articles/nancy-pelosi-...   MSFT  \n",
       "2  https://www.fool.com/investing/2021/04/13/micr...   MSFT  \n",
       "3  https://finance.yahoo.com/news/biden-hears-310...   MSFT  \n",
       "4  https://www.thestreet.com/markets/5-things-you...   MSFT  "
      ],
      "text/html": "<div>\n<style scoped>\n    .dataframe tbody tr th:only-of-type {\n        vertical-align: middle;\n    }\n\n    .dataframe tbody tr th {\n        vertical-align: top;\n    }\n\n    .dataframe thead th {\n        text-align: right;\n    }\n</style>\n<table border=\"1\" class=\"dataframe\">\n  <thead>\n    <tr style=\"text-align: right;\">\n      <th></th>\n      <th>Date</th>\n      <th>Title</th>\n      <th>Link</th>\n      <th>Ticker</th>\n    </tr>\n  </thead>\n  <tbody>\n    <tr>\n      <th>0</th>\n      <td>2021-04-13 09:00:00</td>\n      <td>Microsoft is updating its MacBook Air competit...</td>\n      <td>https://finance.yahoo.com/news/microsoft-surfa...</td>\n      <td>MSFT</td>\n    </tr>\n    <tr>\n      <th>1</th>\n      <td>2021-04-13 07:30:00</td>\n      <td>Nancy Pelosis Husband Bought Roblox, Microsoft...</td>\n      <td>https://www.barrons.com/articles/nancy-pelosi-...</td>\n      <td>MSFT</td>\n    </tr>\n    <tr>\n      <th>2</th>\n      <td>2021-04-13 07:00:00</td>\n      <td>Microsoft's $20 Billion Bet on Nuance</td>\n      <td>https://www.fool.com/investing/2021/04/13/micr...</td>\n      <td>MSFT</td>\n    </tr>\n    <tr>\n      <th>3</th>\n      <td>2021-04-13 06:00:00</td>\n      <td>Biden Hears 310 Companies Urge Speed on Climat...</td>\n      <td>https://finance.yahoo.com/news/biden-hears-310...</td>\n      <td>MSFT</td>\n    </tr>\n    <tr>\n      <th>4</th>\n      <td>2021-04-13 03:14:00</td>\n      <td>J&amp;J, Nvidia, Bitcoin, GameStop - 5 Things You ...</td>\n      <td>https://www.thestreet.com/markets/5-things-you...</td>\n      <td>MSFT</td>\n    </tr>\n  </tbody>\n</table>\n</div>"
     },
     "metadata": {},
     "execution_count": 15
    }
   ],
   "source": [
    "news_two['Ticker'] = ticker_two\n",
    "news_two.head()"
   ]
  },
  {
   "cell_type": "code",
   "execution_count": 16,
   "metadata": {},
   "outputs": [
    {
     "output_type": "execute_result",
     "data": {
      "text/plain": [
       "   neg  neu  pos  compound\n",
       "0  0.0  1.0  0.0       0.0\n",
       "1  0.0  1.0  0.0       0.0\n",
       "2  0.0  1.0  0.0       0.0\n",
       "3  0.0  1.0  0.0       0.0\n",
       "4  0.0  1.0  0.0       0.0"
      ],
      "text/html": "<div>\n<style scoped>\n    .dataframe tbody tr th:only-of-type {\n        vertical-align: middle;\n    }\n\n    .dataframe tbody tr th {\n        vertical-align: top;\n    }\n\n    .dataframe thead th {\n        text-align: right;\n    }\n</style>\n<table border=\"1\" class=\"dataframe\">\n  <thead>\n    <tr style=\"text-align: right;\">\n      <th></th>\n      <th>neg</th>\n      <th>neu</th>\n      <th>pos</th>\n      <th>compound</th>\n    </tr>\n  </thead>\n  <tbody>\n    <tr>\n      <th>0</th>\n      <td>0.0</td>\n      <td>1.0</td>\n      <td>0.0</td>\n      <td>0.0</td>\n    </tr>\n    <tr>\n      <th>1</th>\n      <td>0.0</td>\n      <td>1.0</td>\n      <td>0.0</td>\n      <td>0.0</td>\n    </tr>\n    <tr>\n      <th>2</th>\n      <td>0.0</td>\n      <td>1.0</td>\n      <td>0.0</td>\n      <td>0.0</td>\n    </tr>\n    <tr>\n      <th>3</th>\n      <td>0.0</td>\n      <td>1.0</td>\n      <td>0.0</td>\n      <td>0.0</td>\n    </tr>\n    <tr>\n      <th>4</th>\n      <td>0.0</td>\n      <td>1.0</td>\n      <td>0.0</td>\n      <td>0.0</td>\n    </tr>\n  </tbody>\n</table>\n</div>"
     },
     "metadata": {},
     "execution_count": 16
    }
   ],
   "source": [
    "# Iterate through the headlines and get the polarity scores using vader\n",
    "scores_two = news_two['Title'].apply(vader.polarity_scores).tolist()\n",
    "\n",
    "# Convert the 'scores' list of dicts into a DataFrame\n",
    "scores_two = pd.DataFrame(scores_two)\n",
    "scores_two.head()"
   ]
  },
  {
   "cell_type": "code",
   "execution_count": 17,
   "metadata": {},
   "outputs": [
    {
     "output_type": "execute_result",
     "data": {
      "text/plain": [
       "                 Date                                              Title  \\\n",
       "0 2021-04-13 10:15:00  Dow Jones Slides, Tech Stocks Rally As FDA Cal...   \n",
       "1 2021-04-13 10:00:00  Dow Jones Lags, Nasdaq Rallies As J&J Vaccine ...   \n",
       "2 2021-04-13 10:00:00  3 Reasons to Buy NVIDIA After Its Investor Pre...   \n",
       "3 2021-04-13 09:54:00                      Company News for Apr 13, 2021   \n",
       "4 2021-04-13 09:42:00  Nvidia Stock Hits Buy Point On Data Center, AI...   \n",
       "\n",
       "                                                Link Ticker  \n",
       "0  https://www.investors.com/market-trend/stock-m...   NVDA  \n",
       "1  https://www.investors.com/market-trend/stock-m...   NVDA  \n",
       "2  https://www.fool.com/investing/2021/04/13/3-re...   NVDA  \n",
       "3  https://finance.yahoo.com/news/company-news-ap...   NVDA  \n",
       "4  https://www.investors.com/news/technology/nvid...   NVDA  "
      ],
      "text/html": "<div>\n<style scoped>\n    .dataframe tbody tr th:only-of-type {\n        vertical-align: middle;\n    }\n\n    .dataframe tbody tr th {\n        vertical-align: top;\n    }\n\n    .dataframe thead th {\n        text-align: right;\n    }\n</style>\n<table border=\"1\" class=\"dataframe\">\n  <thead>\n    <tr style=\"text-align: right;\">\n      <th></th>\n      <th>Date</th>\n      <th>Title</th>\n      <th>Link</th>\n      <th>Ticker</th>\n    </tr>\n  </thead>\n  <tbody>\n    <tr>\n      <th>0</th>\n      <td>2021-04-13 10:15:00</td>\n      <td>Dow Jones Slides, Tech Stocks Rally As FDA Cal...</td>\n      <td>https://www.investors.com/market-trend/stock-m...</td>\n      <td>NVDA</td>\n    </tr>\n    <tr>\n      <th>1</th>\n      <td>2021-04-13 10:00:00</td>\n      <td>Dow Jones Lags, Nasdaq Rallies As J&amp;J Vaccine ...</td>\n      <td>https://www.investors.com/market-trend/stock-m...</td>\n      <td>NVDA</td>\n    </tr>\n    <tr>\n      <th>2</th>\n      <td>2021-04-13 10:00:00</td>\n      <td>3 Reasons to Buy NVIDIA After Its Investor Pre...</td>\n      <td>https://www.fool.com/investing/2021/04/13/3-re...</td>\n      <td>NVDA</td>\n    </tr>\n    <tr>\n      <th>3</th>\n      <td>2021-04-13 09:54:00</td>\n      <td>Company News for Apr 13, 2021</td>\n      <td>https://finance.yahoo.com/news/company-news-ap...</td>\n      <td>NVDA</td>\n    </tr>\n    <tr>\n      <th>4</th>\n      <td>2021-04-13 09:42:00</td>\n      <td>Nvidia Stock Hits Buy Point On Data Center, AI...</td>\n      <td>https://www.investors.com/news/technology/nvid...</td>\n      <td>NVDA</td>\n    </tr>\n  </tbody>\n</table>\n</div>"
     },
     "metadata": {},
     "execution_count": 17
    }
   ],
   "source": [
    "news_three['Ticker'] = ticker_three\n",
    "news_three.head()"
   ]
  },
  {
   "cell_type": "code",
   "execution_count": 18,
   "metadata": {},
   "outputs": [
    {
     "output_type": "execute_result",
     "data": {
      "text/plain": [
       "     neg    neu  pos  compound\n",
       "0  0.000  1.000  0.0    0.0000\n",
       "1  0.135  0.865  0.0   -0.3612\n",
       "2  0.000  1.000  0.0    0.0000\n",
       "3  0.000  1.000  0.0    0.0000\n",
       "4  0.000  1.000  0.0    0.0000"
      ],
      "text/html": "<div>\n<style scoped>\n    .dataframe tbody tr th:only-of-type {\n        vertical-align: middle;\n    }\n\n    .dataframe tbody tr th {\n        vertical-align: top;\n    }\n\n    .dataframe thead th {\n        text-align: right;\n    }\n</style>\n<table border=\"1\" class=\"dataframe\">\n  <thead>\n    <tr style=\"text-align: right;\">\n      <th></th>\n      <th>neg</th>\n      <th>neu</th>\n      <th>pos</th>\n      <th>compound</th>\n    </tr>\n  </thead>\n  <tbody>\n    <tr>\n      <th>0</th>\n      <td>0.000</td>\n      <td>1.000</td>\n      <td>0.0</td>\n      <td>0.0000</td>\n    </tr>\n    <tr>\n      <th>1</th>\n      <td>0.135</td>\n      <td>0.865</td>\n      <td>0.0</td>\n      <td>-0.3612</td>\n    </tr>\n    <tr>\n      <th>2</th>\n      <td>0.000</td>\n      <td>1.000</td>\n      <td>0.0</td>\n      <td>0.0000</td>\n    </tr>\n    <tr>\n      <th>3</th>\n      <td>0.000</td>\n      <td>1.000</td>\n      <td>0.0</td>\n      <td>0.0000</td>\n    </tr>\n    <tr>\n      <th>4</th>\n      <td>0.000</td>\n      <td>1.000</td>\n      <td>0.0</td>\n      <td>0.0000</td>\n    </tr>\n  </tbody>\n</table>\n</div>"
     },
     "metadata": {},
     "execution_count": 18
    }
   ],
   "source": [
    "# Iterate through the headlines and get the polarity scores using vader\n",
    "scores_three = news_three['Title'].apply(vader.polarity_scores).tolist()\n",
    "\n",
    "# Convert the 'scores' list of dicts into a DataFrame\n",
    "scores_three = pd.DataFrame(scores_three)\n",
    "scores_three.head()"
   ]
  },
  {
   "cell_type": "code",
   "execution_count": 19,
   "metadata": {},
   "outputs": [
    {
     "output_type": "execute_result",
     "data": {
      "text/plain": [
       "                  Date                                              Title  \\\n",
       "0  2021-04-13 10:30:00  4 Dow Jones Stocks To Buy And Watch In April 2...   \n",
       "1  2021-04-13 10:06:00  Will Tesla Be the Next Apple? Heres How Invest...   \n",
       "2  2021-04-13 10:00:00  Dow Jones Lags, Nasdaq Rallies As J&J Vaccine ...   \n",
       "3  2021-04-13 09:48:00  Oops! Siri Prematurely Reveals the Date of App...   \n",
       "4  2021-04-13 09:00:00  Microsoft is updating its MacBook Air competit...   \n",
       "..                 ...                                                ...   \n",
       "95 2021-04-08 05:52:00  MacBook, iPad production delayed as supply cru...   \n",
       "96 2021-04-08 04:50:00  Oxford scientists behind COVID-19 vaccine set ...   \n",
       "97 2021-04-08 04:00:00  UPDATE 1-MacBook, iPad production delayed as s...   \n",
       "98 2021-04-08 03:16:00  MacBook, iPad production delayed as supply cru...   \n",
       "99 2021-04-08 03:04:00  Apple to argue it faces competition in video g...   \n",
       "\n",
       "                                                 Link Ticker    neg    neu  \\\n",
       "0   https://www.investors.com/research/dow-jones-s...   AAPL  0.000  1.000   \n",
       "1   https://www.barrons.com/articles/will-tesla-be...   AAPL  0.000  0.821   \n",
       "2   https://www.investors.com/market-trend/stock-m...   AAPL  0.135  0.865   \n",
       "3   https://www.fool.com/investing/2021/04/13/oops...   AAPL  0.000  1.000   \n",
       "4   https://finance.yahoo.com/news/microsoft-surfa...   AAPL  0.000  1.000   \n",
       "..                                                ...    ...    ...    ...   \n",
       "95  https://finance.yahoo.com/news/macbook-ipad-pr...   AAPL  0.174  0.826   \n",
       "96  https://finance.yahoo.com/news/covid-19-corona...   AAPL  0.000  1.000   \n",
       "97  https://finance.yahoo.com/news/1-macbook-ipad-...   AAPL  0.160  0.840   \n",
       "98  https://finance.yahoo.com/news/macbook-ipad-pr...   AAPL  0.174  0.826   \n",
       "99  https://finance.yahoo.com/news/apple-argue-fac...   AAPL  0.281  0.719   \n",
       "\n",
       "      pos  compound  \n",
       "0   0.000    0.0000  \n",
       "1   0.179    0.3400  \n",
       "2   0.000   -0.3612  \n",
       "3   0.000    0.0000  \n",
       "4   0.000    0.0000  \n",
       "..    ...       ...  \n",
       "95  0.000   -0.2263  \n",
       "96  0.000    0.0000  \n",
       "97  0.000   -0.2263  \n",
       "98  0.000   -0.2263  \n",
       "99  0.000   -0.5106  \n",
       "\n",
       "[100 rows x 8 columns]"
      ],
      "text/html": "<div>\n<style scoped>\n    .dataframe tbody tr th:only-of-type {\n        vertical-align: middle;\n    }\n\n    .dataframe tbody tr th {\n        vertical-align: top;\n    }\n\n    .dataframe thead th {\n        text-align: right;\n    }\n</style>\n<table border=\"1\" class=\"dataframe\">\n  <thead>\n    <tr style=\"text-align: right;\">\n      <th></th>\n      <th>Date</th>\n      <th>Title</th>\n      <th>Link</th>\n      <th>Ticker</th>\n      <th>neg</th>\n      <th>neu</th>\n      <th>pos</th>\n      <th>compound</th>\n    </tr>\n  </thead>\n  <tbody>\n    <tr>\n      <th>0</th>\n      <td>2021-04-13 10:30:00</td>\n      <td>4 Dow Jones Stocks To Buy And Watch In April 2...</td>\n      <td>https://www.investors.com/research/dow-jones-s...</td>\n      <td>AAPL</td>\n      <td>0.000</td>\n      <td>1.000</td>\n      <td>0.000</td>\n      <td>0.0000</td>\n    </tr>\n    <tr>\n      <th>1</th>\n      <td>2021-04-13 10:06:00</td>\n      <td>Will Tesla Be the Next Apple? Heres How Invest...</td>\n      <td>https://www.barrons.com/articles/will-tesla-be...</td>\n      <td>AAPL</td>\n      <td>0.000</td>\n      <td>0.821</td>\n      <td>0.179</td>\n      <td>0.3400</td>\n    </tr>\n    <tr>\n      <th>2</th>\n      <td>2021-04-13 10:00:00</td>\n      <td>Dow Jones Lags, Nasdaq Rallies As J&amp;J Vaccine ...</td>\n      <td>https://www.investors.com/market-trend/stock-m...</td>\n      <td>AAPL</td>\n      <td>0.135</td>\n      <td>0.865</td>\n      <td>0.000</td>\n      <td>-0.3612</td>\n    </tr>\n    <tr>\n      <th>3</th>\n      <td>2021-04-13 09:48:00</td>\n      <td>Oops! Siri Prematurely Reveals the Date of App...</td>\n      <td>https://www.fool.com/investing/2021/04/13/oops...</td>\n      <td>AAPL</td>\n      <td>0.000</td>\n      <td>1.000</td>\n      <td>0.000</td>\n      <td>0.0000</td>\n    </tr>\n    <tr>\n      <th>4</th>\n      <td>2021-04-13 09:00:00</td>\n      <td>Microsoft is updating its MacBook Air competit...</td>\n      <td>https://finance.yahoo.com/news/microsoft-surfa...</td>\n      <td>AAPL</td>\n      <td>0.000</td>\n      <td>1.000</td>\n      <td>0.000</td>\n      <td>0.0000</td>\n    </tr>\n    <tr>\n      <th>...</th>\n      <td>...</td>\n      <td>...</td>\n      <td>...</td>\n      <td>...</td>\n      <td>...</td>\n      <td>...</td>\n      <td>...</td>\n      <td>...</td>\n    </tr>\n    <tr>\n      <th>95</th>\n      <td>2021-04-08 05:52:00</td>\n      <td>MacBook, iPad production delayed as supply cru...</td>\n      <td>https://finance.yahoo.com/news/macbook-ipad-pr...</td>\n      <td>AAPL</td>\n      <td>0.174</td>\n      <td>0.826</td>\n      <td>0.000</td>\n      <td>-0.2263</td>\n    </tr>\n    <tr>\n      <th>96</th>\n      <td>2021-04-08 04:50:00</td>\n      <td>Oxford scientists behind COVID-19 vaccine set ...</td>\n      <td>https://finance.yahoo.com/news/covid-19-corona...</td>\n      <td>AAPL</td>\n      <td>0.000</td>\n      <td>1.000</td>\n      <td>0.000</td>\n      <td>0.0000</td>\n    </tr>\n    <tr>\n      <th>97</th>\n      <td>2021-04-08 04:00:00</td>\n      <td>UPDATE 1-MacBook, iPad production delayed as s...</td>\n      <td>https://finance.yahoo.com/news/1-macbook-ipad-...</td>\n      <td>AAPL</td>\n      <td>0.160</td>\n      <td>0.840</td>\n      <td>0.000</td>\n      <td>-0.2263</td>\n    </tr>\n    <tr>\n      <th>98</th>\n      <td>2021-04-08 03:16:00</td>\n      <td>MacBook, iPad production delayed as supply cru...</td>\n      <td>https://finance.yahoo.com/news/macbook-ipad-pr...</td>\n      <td>AAPL</td>\n      <td>0.174</td>\n      <td>0.826</td>\n      <td>0.000</td>\n      <td>-0.2263</td>\n    </tr>\n    <tr>\n      <th>99</th>\n      <td>2021-04-08 03:04:00</td>\n      <td>Apple to argue it faces competition in video g...</td>\n      <td>https://finance.yahoo.com/news/apple-argue-fac...</td>\n      <td>AAPL</td>\n      <td>0.281</td>\n      <td>0.719</td>\n      <td>0.000</td>\n      <td>-0.5106</td>\n    </tr>\n  </tbody>\n</table>\n<p>100 rows × 8 columns</p>\n</div>"
     },
     "metadata": {},
     "execution_count": 19
    }
   ],
   "source": [
    "sentiment_one = pd.concat([news_one, scores_one], join='inner', axis=1)\n",
    "sentiment_one.head()\n",
    "sentiment_one"
   ]
  },
  {
   "cell_type": "code",
   "execution_count": 20,
   "metadata": {},
   "outputs": [
    {
     "output_type": "execute_result",
     "data": {
      "text/plain": [
       "                 Date                                              Title  \\\n",
       "0 2021-04-13 09:00:00  Microsoft is updating its MacBook Air competit...   \n",
       "1 2021-04-13 07:30:00  Nancy Pelosis Husband Bought Roblox, Microsoft...   \n",
       "2 2021-04-13 07:00:00              Microsoft's $20 Billion Bet on Nuance   \n",
       "3 2021-04-13 06:00:00  Biden Hears 310 Companies Urge Speed on Climat...   \n",
       "4 2021-04-13 03:14:00  J&J, Nvidia, Bitcoin, GameStop - 5 Things You ...   \n",
       "\n",
       "                                                Link Ticker  neg  neu  pos  \\\n",
       "0  https://finance.yahoo.com/news/microsoft-surfa...   MSFT  0.0  1.0  0.0   \n",
       "1  https://www.barrons.com/articles/nancy-pelosi-...   MSFT  0.0  1.0  0.0   \n",
       "2  https://www.fool.com/investing/2021/04/13/micr...   MSFT  0.0  1.0  0.0   \n",
       "3  https://finance.yahoo.com/news/biden-hears-310...   MSFT  0.0  1.0  0.0   \n",
       "4  https://www.thestreet.com/markets/5-things-you...   MSFT  0.0  1.0  0.0   \n",
       "\n",
       "   compound  \n",
       "0       0.0  \n",
       "1       0.0  \n",
       "2       0.0  \n",
       "3       0.0  \n",
       "4       0.0  "
      ],
      "text/html": "<div>\n<style scoped>\n    .dataframe tbody tr th:only-of-type {\n        vertical-align: middle;\n    }\n\n    .dataframe tbody tr th {\n        vertical-align: top;\n    }\n\n    .dataframe thead th {\n        text-align: right;\n    }\n</style>\n<table border=\"1\" class=\"dataframe\">\n  <thead>\n    <tr style=\"text-align: right;\">\n      <th></th>\n      <th>Date</th>\n      <th>Title</th>\n      <th>Link</th>\n      <th>Ticker</th>\n      <th>neg</th>\n      <th>neu</th>\n      <th>pos</th>\n      <th>compound</th>\n    </tr>\n  </thead>\n  <tbody>\n    <tr>\n      <th>0</th>\n      <td>2021-04-13 09:00:00</td>\n      <td>Microsoft is updating its MacBook Air competit...</td>\n      <td>https://finance.yahoo.com/news/microsoft-surfa...</td>\n      <td>MSFT</td>\n      <td>0.0</td>\n      <td>1.0</td>\n      <td>0.0</td>\n      <td>0.0</td>\n    </tr>\n    <tr>\n      <th>1</th>\n      <td>2021-04-13 07:30:00</td>\n      <td>Nancy Pelosis Husband Bought Roblox, Microsoft...</td>\n      <td>https://www.barrons.com/articles/nancy-pelosi-...</td>\n      <td>MSFT</td>\n      <td>0.0</td>\n      <td>1.0</td>\n      <td>0.0</td>\n      <td>0.0</td>\n    </tr>\n    <tr>\n      <th>2</th>\n      <td>2021-04-13 07:00:00</td>\n      <td>Microsoft's $20 Billion Bet on Nuance</td>\n      <td>https://www.fool.com/investing/2021/04/13/micr...</td>\n      <td>MSFT</td>\n      <td>0.0</td>\n      <td>1.0</td>\n      <td>0.0</td>\n      <td>0.0</td>\n    </tr>\n    <tr>\n      <th>3</th>\n      <td>2021-04-13 06:00:00</td>\n      <td>Biden Hears 310 Companies Urge Speed on Climat...</td>\n      <td>https://finance.yahoo.com/news/biden-hears-310...</td>\n      <td>MSFT</td>\n      <td>0.0</td>\n      <td>1.0</td>\n      <td>0.0</td>\n      <td>0.0</td>\n    </tr>\n    <tr>\n      <th>4</th>\n      <td>2021-04-13 03:14:00</td>\n      <td>J&amp;J, Nvidia, Bitcoin, GameStop - 5 Things You ...</td>\n      <td>https://www.thestreet.com/markets/5-things-you...</td>\n      <td>MSFT</td>\n      <td>0.0</td>\n      <td>1.0</td>\n      <td>0.0</td>\n      <td>0.0</td>\n    </tr>\n  </tbody>\n</table>\n</div>"
     },
     "metadata": {},
     "execution_count": 20
    }
   ],
   "source": [
    "sentiment_two = pd.concat([news_two, scores_two], join='inner', axis=1)\n",
    "sentiment_two.head()"
   ]
  },
  {
   "cell_type": "code",
   "execution_count": 21,
   "metadata": {},
   "outputs": [
    {
     "output_type": "execute_result",
     "data": {
      "text/plain": [
       "                 Date                                              Title  \\\n",
       "0 2021-04-13 10:15:00  Dow Jones Slides, Tech Stocks Rally As FDA Cal...   \n",
       "1 2021-04-13 10:00:00  Dow Jones Lags, Nasdaq Rallies As J&J Vaccine ...   \n",
       "2 2021-04-13 10:00:00  3 Reasons to Buy NVIDIA After Its Investor Pre...   \n",
       "3 2021-04-13 09:54:00                      Company News for Apr 13, 2021   \n",
       "4 2021-04-13 09:42:00  Nvidia Stock Hits Buy Point On Data Center, AI...   \n",
       "\n",
       "                                                Link Ticker    neg    neu  \\\n",
       "0  https://www.investors.com/market-trend/stock-m...   NVDA  0.000  1.000   \n",
       "1  https://www.investors.com/market-trend/stock-m...   NVDA  0.135  0.865   \n",
       "2  https://www.fool.com/investing/2021/04/13/3-re...   NVDA  0.000  1.000   \n",
       "3  https://finance.yahoo.com/news/company-news-ap...   NVDA  0.000  1.000   \n",
       "4  https://www.investors.com/news/technology/nvid...   NVDA  0.000  1.000   \n",
       "\n",
       "   pos  compound  \n",
       "0  0.0    0.0000  \n",
       "1  0.0   -0.3612  \n",
       "2  0.0    0.0000  \n",
       "3  0.0    0.0000  \n",
       "4  0.0    0.0000  "
      ],
      "text/html": "<div>\n<style scoped>\n    .dataframe tbody tr th:only-of-type {\n        vertical-align: middle;\n    }\n\n    .dataframe tbody tr th {\n        vertical-align: top;\n    }\n\n    .dataframe thead th {\n        text-align: right;\n    }\n</style>\n<table border=\"1\" class=\"dataframe\">\n  <thead>\n    <tr style=\"text-align: right;\">\n      <th></th>\n      <th>Date</th>\n      <th>Title</th>\n      <th>Link</th>\n      <th>Ticker</th>\n      <th>neg</th>\n      <th>neu</th>\n      <th>pos</th>\n      <th>compound</th>\n    </tr>\n  </thead>\n  <tbody>\n    <tr>\n      <th>0</th>\n      <td>2021-04-13 10:15:00</td>\n      <td>Dow Jones Slides, Tech Stocks Rally As FDA Cal...</td>\n      <td>https://www.investors.com/market-trend/stock-m...</td>\n      <td>NVDA</td>\n      <td>0.000</td>\n      <td>1.000</td>\n      <td>0.0</td>\n      <td>0.0000</td>\n    </tr>\n    <tr>\n      <th>1</th>\n      <td>2021-04-13 10:00:00</td>\n      <td>Dow Jones Lags, Nasdaq Rallies As J&amp;J Vaccine ...</td>\n      <td>https://www.investors.com/market-trend/stock-m...</td>\n      <td>NVDA</td>\n      <td>0.135</td>\n      <td>0.865</td>\n      <td>0.0</td>\n      <td>-0.3612</td>\n    </tr>\n    <tr>\n      <th>2</th>\n      <td>2021-04-13 10:00:00</td>\n      <td>3 Reasons to Buy NVIDIA After Its Investor Pre...</td>\n      <td>https://www.fool.com/investing/2021/04/13/3-re...</td>\n      <td>NVDA</td>\n      <td>0.000</td>\n      <td>1.000</td>\n      <td>0.0</td>\n      <td>0.0000</td>\n    </tr>\n    <tr>\n      <th>3</th>\n      <td>2021-04-13 09:54:00</td>\n      <td>Company News for Apr 13, 2021</td>\n      <td>https://finance.yahoo.com/news/company-news-ap...</td>\n      <td>NVDA</td>\n      <td>0.000</td>\n      <td>1.000</td>\n      <td>0.0</td>\n      <td>0.0000</td>\n    </tr>\n    <tr>\n      <th>4</th>\n      <td>2021-04-13 09:42:00</td>\n      <td>Nvidia Stock Hits Buy Point On Data Center, AI...</td>\n      <td>https://www.investors.com/news/technology/nvid...</td>\n      <td>NVDA</td>\n      <td>0.000</td>\n      <td>1.000</td>\n      <td>0.0</td>\n      <td>0.0000</td>\n    </tr>\n  </tbody>\n</table>\n</div>"
     },
     "metadata": {},
     "execution_count": 21
    }
   ],
   "source": [
    "sentiment_three = pd.concat([news_three, scores_three], join='inner', axis=1)\n",
    "sentiment_three.head()"
   ]
  },
  {
   "cell_type": "code",
   "execution_count": 22,
   "metadata": {},
   "outputs": [
    {
     "output_type": "execute_result",
     "data": {
      "text/plain": [
       "             neg         neu         pos    compound\n",
       "count  100.00000  100.000000  100.000000  100.000000\n",
       "mean     0.04799    0.861060    0.090950    0.062542\n",
       "std      0.08793    0.155104    0.146229    0.304630\n",
       "min      0.00000    0.370000    0.000000   -0.557400\n",
       "25%      0.00000    0.785750    0.000000    0.000000\n",
       "50%      0.00000    0.859000    0.000000    0.000000\n",
       "75%      0.02050    1.000000    0.167000    0.202300\n",
       "max      0.31900    1.000000    0.577000    0.784500"
      ],
      "text/html": "<div>\n<style scoped>\n    .dataframe tbody tr th:only-of-type {\n        vertical-align: middle;\n    }\n\n    .dataframe tbody tr th {\n        vertical-align: top;\n    }\n\n    .dataframe thead th {\n        text-align: right;\n    }\n</style>\n<table border=\"1\" class=\"dataframe\">\n  <thead>\n    <tr style=\"text-align: right;\">\n      <th></th>\n      <th>neg</th>\n      <th>neu</th>\n      <th>pos</th>\n      <th>compound</th>\n    </tr>\n  </thead>\n  <tbody>\n    <tr>\n      <th>count</th>\n      <td>100.00000</td>\n      <td>100.000000</td>\n      <td>100.000000</td>\n      <td>100.000000</td>\n    </tr>\n    <tr>\n      <th>mean</th>\n      <td>0.04799</td>\n      <td>0.861060</td>\n      <td>0.090950</td>\n      <td>0.062542</td>\n    </tr>\n    <tr>\n      <th>std</th>\n      <td>0.08793</td>\n      <td>0.155104</td>\n      <td>0.146229</td>\n      <td>0.304630</td>\n    </tr>\n    <tr>\n      <th>min</th>\n      <td>0.00000</td>\n      <td>0.370000</td>\n      <td>0.000000</td>\n      <td>-0.557400</td>\n    </tr>\n    <tr>\n      <th>25%</th>\n      <td>0.00000</td>\n      <td>0.785750</td>\n      <td>0.000000</td>\n      <td>0.000000</td>\n    </tr>\n    <tr>\n      <th>50%</th>\n      <td>0.00000</td>\n      <td>0.859000</td>\n      <td>0.000000</td>\n      <td>0.000000</td>\n    </tr>\n    <tr>\n      <th>75%</th>\n      <td>0.02050</td>\n      <td>1.000000</td>\n      <td>0.167000</td>\n      <td>0.202300</td>\n    </tr>\n    <tr>\n      <th>max</th>\n      <td>0.31900</td>\n      <td>1.000000</td>\n      <td>0.577000</td>\n      <td>0.784500</td>\n    </tr>\n  </tbody>\n</table>\n</div>"
     },
     "metadata": {},
     "execution_count": 22
    }
   ],
   "source": [
    "sentiment_one.describe()"
   ]
  },
  {
   "cell_type": "code",
   "execution_count": 23,
   "metadata": {},
   "outputs": [
    {
     "output_type": "execute_result",
     "data": {
      "text/plain": [
       "              neg         neu         pos    compound\n",
       "count  100.000000  100.000000  100.000000  100.000000\n",
       "mean     0.050250    0.869610    0.080150    0.053998\n",
       "std      0.106209    0.151954    0.130045    0.283569\n",
       "min      0.000000    0.417000    0.000000   -0.624900\n",
       "25%      0.000000    0.784000    0.000000    0.000000\n",
       "50%      0.000000    0.885500    0.000000    0.000000\n",
       "75%      0.000000    1.000000    0.138250    0.202300\n",
       "max      0.583000    1.000000    0.509000    0.851900"
      ],
      "text/html": "<div>\n<style scoped>\n    .dataframe tbody tr th:only-of-type {\n        vertical-align: middle;\n    }\n\n    .dataframe tbody tr th {\n        vertical-align: top;\n    }\n\n    .dataframe thead th {\n        text-align: right;\n    }\n</style>\n<table border=\"1\" class=\"dataframe\">\n  <thead>\n    <tr style=\"text-align: right;\">\n      <th></th>\n      <th>neg</th>\n      <th>neu</th>\n      <th>pos</th>\n      <th>compound</th>\n    </tr>\n  </thead>\n  <tbody>\n    <tr>\n      <th>count</th>\n      <td>100.000000</td>\n      <td>100.000000</td>\n      <td>100.000000</td>\n      <td>100.000000</td>\n    </tr>\n    <tr>\n      <th>mean</th>\n      <td>0.050250</td>\n      <td>0.869610</td>\n      <td>0.080150</td>\n      <td>0.053998</td>\n    </tr>\n    <tr>\n      <th>std</th>\n      <td>0.106209</td>\n      <td>0.151954</td>\n      <td>0.130045</td>\n      <td>0.283569</td>\n    </tr>\n    <tr>\n      <th>min</th>\n      <td>0.000000</td>\n      <td>0.417000</td>\n      <td>0.000000</td>\n      <td>-0.624900</td>\n    </tr>\n    <tr>\n      <th>25%</th>\n      <td>0.000000</td>\n      <td>0.784000</td>\n      <td>0.000000</td>\n      <td>0.000000</td>\n    </tr>\n    <tr>\n      <th>50%</th>\n      <td>0.000000</td>\n      <td>0.885500</td>\n      <td>0.000000</td>\n      <td>0.000000</td>\n    </tr>\n    <tr>\n      <th>75%</th>\n      <td>0.000000</td>\n      <td>1.000000</td>\n      <td>0.138250</td>\n      <td>0.202300</td>\n    </tr>\n    <tr>\n      <th>max</th>\n      <td>0.583000</td>\n      <td>1.000000</td>\n      <td>0.509000</td>\n      <td>0.851900</td>\n    </tr>\n  </tbody>\n</table>\n</div>"
     },
     "metadata": {},
     "execution_count": 23
    }
   ],
   "source": [
    "sentiment_two.describe()"
   ]
  },
  {
   "cell_type": "code",
   "execution_count": 24,
   "metadata": {},
   "outputs": [
    {
     "output_type": "execute_result",
     "data": {
      "text/plain": [
       "              neg         neu         pos    compound\n",
       "count  100.000000  100.000000  100.000000  100.000000\n",
       "mean     0.040820    0.853010    0.106170    0.101240\n",
       "std      0.091377    0.173699    0.154598    0.295022\n",
       "min      0.000000    0.312000    0.000000   -0.624900\n",
       "25%      0.000000    0.741500    0.000000    0.000000\n",
       "50%      0.000000    0.885000    0.000000    0.000000\n",
       "75%      0.000000    1.000000    0.196750    0.208300\n",
       "max      0.369000    1.000000    0.688000    0.875000"
      ],
      "text/html": "<div>\n<style scoped>\n    .dataframe tbody tr th:only-of-type {\n        vertical-align: middle;\n    }\n\n    .dataframe tbody tr th {\n        vertical-align: top;\n    }\n\n    .dataframe thead th {\n        text-align: right;\n    }\n</style>\n<table border=\"1\" class=\"dataframe\">\n  <thead>\n    <tr style=\"text-align: right;\">\n      <th></th>\n      <th>neg</th>\n      <th>neu</th>\n      <th>pos</th>\n      <th>compound</th>\n    </tr>\n  </thead>\n  <tbody>\n    <tr>\n      <th>count</th>\n      <td>100.000000</td>\n      <td>100.000000</td>\n      <td>100.000000</td>\n      <td>100.000000</td>\n    </tr>\n    <tr>\n      <th>mean</th>\n      <td>0.040820</td>\n      <td>0.853010</td>\n      <td>0.106170</td>\n      <td>0.101240</td>\n    </tr>\n    <tr>\n      <th>std</th>\n      <td>0.091377</td>\n      <td>0.173699</td>\n      <td>0.154598</td>\n      <td>0.295022</td>\n    </tr>\n    <tr>\n      <th>min</th>\n      <td>0.000000</td>\n      <td>0.312000</td>\n      <td>0.000000</td>\n      <td>-0.624900</td>\n    </tr>\n    <tr>\n      <th>25%</th>\n      <td>0.000000</td>\n      <td>0.741500</td>\n      <td>0.000000</td>\n      <td>0.000000</td>\n    </tr>\n    <tr>\n      <th>50%</th>\n      <td>0.000000</td>\n      <td>0.885000</td>\n      <td>0.000000</td>\n      <td>0.000000</td>\n    </tr>\n    <tr>\n      <th>75%</th>\n      <td>0.000000</td>\n      <td>1.000000</td>\n      <td>0.196750</td>\n      <td>0.208300</td>\n    </tr>\n    <tr>\n      <th>max</th>\n      <td>0.369000</td>\n      <td>1.000000</td>\n      <td>0.688000</td>\n      <td>0.875000</td>\n    </tr>\n  </tbody>\n</table>\n</div>"
     },
     "metadata": {},
     "execution_count": 24
    }
   ],
   "source": [
    "sentiment_three.describe()"
   ]
  },
  {
   "cell_type": "code",
   "execution_count": 25,
   "metadata": {},
   "outputs": [
    {
     "output_type": "execute_result",
     "data": {
      "text/plain": [
       "            neg      neu      pos  compound\n",
       "Ticker                                     \n",
       "AAPL    0.04799  0.86106  0.09095  0.062542\n",
       "MSFT    0.05025  0.86961  0.08015  0.053998\n",
       "NVDA    0.04082  0.85301  0.10617  0.101240"
      ],
      "text/html": "<div>\n<style scoped>\n    .dataframe tbody tr th:only-of-type {\n        vertical-align: middle;\n    }\n\n    .dataframe tbody tr th {\n        vertical-align: top;\n    }\n\n    .dataframe thead th {\n        text-align: right;\n    }\n</style>\n<table border=\"1\" class=\"dataframe\">\n  <thead>\n    <tr style=\"text-align: right;\">\n      <th></th>\n      <th>neg</th>\n      <th>neu</th>\n      <th>pos</th>\n      <th>compound</th>\n    </tr>\n    <tr>\n      <th>Ticker</th>\n      <th></th>\n      <th></th>\n      <th></th>\n      <th></th>\n    </tr>\n  </thead>\n  <tbody>\n    <tr>\n      <th>AAPL</th>\n      <td>0.04799</td>\n      <td>0.86106</td>\n      <td>0.09095</td>\n      <td>0.062542</td>\n    </tr>\n    <tr>\n      <th>MSFT</th>\n      <td>0.05025</td>\n      <td>0.86961</td>\n      <td>0.08015</td>\n      <td>0.053998</td>\n    </tr>\n    <tr>\n      <th>NVDA</th>\n      <td>0.04082</td>\n      <td>0.85301</td>\n      <td>0.10617</td>\n      <td>0.101240</td>\n    </tr>\n  </tbody>\n</table>\n</div>"
     },
     "metadata": {},
     "execution_count": 25
    }
   ],
   "source": [
    "sentiment_one = sentiment_one.groupby('Ticker').mean()\n",
    "sentiment_two = sentiment_two.groupby('Ticker').mean()\n",
    "sentiment_three = sentiment_three.groupby('Ticker').mean()\n",
    "\n",
    "sentiment_combined = pd.concat([sentiment_one,sentiment_two,sentiment_three], join='inner', axis=0)\n",
    "sentiment_combined"
   ]
  },
  {
   "cell_type": "code",
   "execution_count": 26,
   "metadata": {},
   "outputs": [
    {
     "output_type": "execute_result",
     "data": {
      "text/plain": [
       "<AxesSubplot:title={'center':'Sentiment Analysis'}, xlabel='Ticker', ylabel='sentiment'>"
      ]
     },
     "metadata": {},
     "execution_count": 26
    },
    {
     "output_type": "display_data",
     "data": {
      "text/plain": "<Figure size 864x432 with 1 Axes>",
      "image/svg+xml": "<?xml version=\"1.0\" encoding=\"utf-8\" standalone=\"no\"?>\n<!DOCTYPE svg PUBLIC \"-//W3C//DTD SVG 1.1//EN\"\n  \"http://www.w3.org/Graphics/SVG/1.1/DTD/svg11.dtd\">\n<!-- Created with matplotlib (https://matplotlib.org/) -->\n<svg height=\"386.034375pt\" version=\"1.1\" viewBox=\"0 0 720.58125 386.034375\" width=\"720.58125pt\" xmlns=\"http://www.w3.org/2000/svg\" xmlns:xlink=\"http://www.w3.org/1999/xlink\">\n <metadata>\n  <rdf:RDF xmlns:cc=\"http://creativecommons.org/ns#\" xmlns:dc=\"http://purl.org/dc/elements/1.1/\" xmlns:rdf=\"http://www.w3.org/1999/02/22-rdf-syntax-ns#\">\n   <cc:Work>\n    <dc:type rdf:resource=\"http://purl.org/dc/dcmitype/StillImage\"/>\n    <dc:date>2021-04-13T09:42:48.657597</dc:date>\n    <dc:format>image/svg+xml</dc:format>\n    <dc:creator>\n     <cc:Agent>\n      <dc:title>Matplotlib v3.3.0, https://matplotlib.org/</dc:title>\n     </cc:Agent>\n    </dc:creator>\n   </cc:Work>\n  </rdf:RDF>\n </metadata>\n <defs>\n  <style type=\"text/css\">*{stroke-linecap:butt;stroke-linejoin:round;}</style>\n </defs>\n <g id=\"figure_1\">\n  <g id=\"patch_1\">\n   <path d=\"M 0 386.034375 \nL 720.58125 386.034375 \nL 720.58125 0 \nL 0 0 \nz\n\" style=\"fill:none;\"/>\n  </g>\n  <g id=\"axes_1\">\n   <g id=\"patch_2\">\n    <path d=\"M 43.78125 348.478125 \nL 713.38125 348.478125 \nL 713.38125 22.318125 \nL 43.78125 22.318125 \nz\n\" style=\"fill:#ffffff;\"/>\n   </g>\n   <g id=\"patch_3\">\n    <path clip-path=\"url(#p9761d6ebd1)\" d=\"M 99.58125 348.478125 \nL 127.48125 348.478125 \nL 127.48125 331.335883 \nL 99.58125 331.335883 \nz\n\" style=\"fill:#1f77b4;\"/>\n   </g>\n   <g id=\"patch_4\">\n    <path clip-path=\"url(#p9761d6ebd1)\" d=\"M 322.78125 348.478125 \nL 350.68125 348.478125 \nL 350.68125 330.528601 \nL 322.78125 330.528601 \nz\n\" style=\"fill:#1f77b4;\"/>\n   </g>\n   <g id=\"patch_5\">\n    <path clip-path=\"url(#p9761d6ebd1)\" d=\"M 545.98125 348.478125 \nL 573.88125 348.478125 \nL 573.88125 333.897039 \nL 545.98125 333.897039 \nz\n\" style=\"fill:#1f77b4;\"/>\n   </g>\n   <g id=\"patch_6\">\n    <path clip-path=\"url(#p9761d6ebd1)\" d=\"M 127.48125 348.478125 \nL 155.38125 348.478125 \nL 155.38125 40.903652 \nL 127.48125 40.903652 \nz\n\" style=\"fill:#ff7f0e;\"/>\n   </g>\n   <g id=\"patch_7\">\n    <path clip-path=\"url(#p9761d6ebd1)\" d=\"M 350.68125 348.478125 \nL 378.58125 348.478125 \nL 378.58125 37.849554 \nL 350.68125 37.849554 \nz\n\" style=\"fill:#ff7f0e;\"/>\n   </g>\n   <g id=\"patch_8\">\n    <path clip-path=\"url(#p9761d6ebd1)\" d=\"M 573.88125 348.478125 \nL 601.78125 348.478125 \nL 601.78125 43.779148 \nL 573.88125 43.779148 \nz\n\" style=\"fill:#ff7f0e;\"/>\n   </g>\n   <g id=\"patch_9\">\n    <path clip-path=\"url(#p9761d6ebd1)\" d=\"M 155.38125 348.478125 \nL 183.28125 348.478125 \nL 183.28125 315.990379 \nL 155.38125 315.990379 \nz\n\" style=\"fill:#2ca02c;\"/>\n   </g>\n   <g id=\"patch_10\">\n    <path clip-path=\"url(#p9761d6ebd1)\" d=\"M 378.58125 348.478125 \nL 406.48125 348.478125 \nL 406.48125 319.848187 \nL 378.58125 319.848187 \nz\n\" style=\"fill:#2ca02c;\"/>\n   </g>\n   <g id=\"patch_11\">\n    <path clip-path=\"url(#p9761d6ebd1)\" d=\"M 601.78125 348.478125 \nL 629.68125 348.478125 \nL 629.68125 310.553727 \nL 601.78125 310.553727 \nz\n\" style=\"fill:#2ca02c;\"/>\n   </g>\n   <g id=\"patch_12\">\n    <path clip-path=\"url(#p9761d6ebd1)\" d=\"M 183.28125 348.478125 \nL 211.18125 348.478125 \nL 211.18125 326.137844 \nL 183.28125 326.137844 \nz\n\" style=\"fill:#d62728;\"/>\n   </g>\n   <g id=\"patch_13\">\n    <path clip-path=\"url(#p9761d6ebd1)\" d=\"M 406.48125 348.478125 \nL 434.38125 348.478125 \nL 434.38125 329.189799 \nL 406.48125 329.189799 \nz\n\" style=\"fill:#d62728;\"/>\n   </g>\n   <g id=\"patch_14\">\n    <path clip-path=\"url(#p9761d6ebd1)\" d=\"M 629.68125 348.478125 \nL 657.58125 348.478125 \nL 657.58125 312.314745 \nL 629.68125 312.314745 \nz\n\" style=\"fill:#d62728;\"/>\n   </g>\n   <g id=\"matplotlib.axis_1\">\n    <g id=\"xtick_1\">\n     <g id=\"line2d_1\">\n      <defs>\n       <path d=\"M 0 0 \nL 0 3.5 \n\" id=\"m50b6ffab69\" style=\"stroke:#000000;stroke-width:0.8;\"/>\n      </defs>\n      <g>\n       <use style=\"stroke:#000000;stroke-width:0.8;\" x=\"155.38125\" xlink:href=\"#m50b6ffab69\" y=\"348.478125\"/>\n      </g>\n     </g>\n     <g id=\"text_1\">\n      <!-- AAPL -->\n      <g transform=\"translate(142.602344 363.076562)scale(0.1 -0.1)\">\n       <defs>\n        <path d=\"M 34.1875 63.1875 \nL 20.796875 26.90625 \nL 47.609375 26.90625 \nz\nM 28.609375 72.90625 \nL 39.796875 72.90625 \nL 67.578125 0 \nL 57.328125 0 \nL 50.6875 18.703125 \nL 17.828125 18.703125 \nL 11.1875 0 \nL 0.78125 0 \nz\n\" id=\"DejaVuSans-65\"/>\n        <path d=\"M 19.671875 64.796875 \nL 19.671875 37.40625 \nL 32.078125 37.40625 \nQ 38.96875 37.40625 42.71875 40.96875 \nQ 46.484375 44.53125 46.484375 51.125 \nQ 46.484375 57.671875 42.71875 61.234375 \nQ 38.96875 64.796875 32.078125 64.796875 \nz\nM 9.8125 72.90625 \nL 32.078125 72.90625 \nQ 44.34375 72.90625 50.609375 67.359375 \nQ 56.890625 61.8125 56.890625 51.125 \nQ 56.890625 40.328125 50.609375 34.8125 \nQ 44.34375 29.296875 32.078125 29.296875 \nL 19.671875 29.296875 \nL 19.671875 0 \nL 9.8125 0 \nz\n\" id=\"DejaVuSans-80\"/>\n        <path d=\"M 9.8125 72.90625 \nL 19.671875 72.90625 \nL 19.671875 8.296875 \nL 55.171875 8.296875 \nL 55.171875 0 \nL 9.8125 0 \nz\n\" id=\"DejaVuSans-76\"/>\n       </defs>\n       <use xlink:href=\"#DejaVuSans-65\"/>\n       <use x=\"71.158203\" xlink:href=\"#DejaVuSans-65\"/>\n       <use x=\"139.566406\" xlink:href=\"#DejaVuSans-80\"/>\n       <use x=\"199.869141\" xlink:href=\"#DejaVuSans-76\"/>\n      </g>\n     </g>\n    </g>\n    <g id=\"xtick_2\">\n     <g id=\"line2d_2\">\n      <g>\n       <use style=\"stroke:#000000;stroke-width:0.8;\" x=\"378.58125\" xlink:href=\"#m50b6ffab69\" y=\"348.478125\"/>\n      </g>\n     </g>\n     <g id=\"text_2\">\n      <!-- MSFT -->\n      <g transform=\"translate(365.250781 363.076562)scale(0.1 -0.1)\">\n       <defs>\n        <path d=\"M 9.8125 72.90625 \nL 24.515625 72.90625 \nL 43.109375 23.296875 \nL 61.8125 72.90625 \nL 76.515625 72.90625 \nL 76.515625 0 \nL 66.890625 0 \nL 66.890625 64.015625 \nL 48.09375 14.015625 \nL 38.1875 14.015625 \nL 19.390625 64.015625 \nL 19.390625 0 \nL 9.8125 0 \nz\n\" id=\"DejaVuSans-77\"/>\n        <path d=\"M 53.515625 70.515625 \nL 53.515625 60.890625 \nQ 47.90625 63.578125 42.921875 64.890625 \nQ 37.9375 66.21875 33.296875 66.21875 \nQ 25.25 66.21875 20.875 63.09375 \nQ 16.5 59.96875 16.5 54.203125 \nQ 16.5 49.359375 19.40625 46.890625 \nQ 22.3125 44.4375 30.421875 42.921875 \nL 36.375 41.703125 \nQ 47.40625 39.59375 52.65625 34.296875 \nQ 57.90625 29 57.90625 20.125 \nQ 57.90625 9.515625 50.796875 4.046875 \nQ 43.703125 -1.421875 29.984375 -1.421875 \nQ 24.8125 -1.421875 18.96875 -0.25 \nQ 13.140625 0.921875 6.890625 3.21875 \nL 6.890625 13.375 \nQ 12.890625 10.015625 18.65625 8.296875 \nQ 24.421875 6.59375 29.984375 6.59375 \nQ 38.421875 6.59375 43.015625 9.90625 \nQ 47.609375 13.234375 47.609375 19.390625 \nQ 47.609375 24.75 44.3125 27.78125 \nQ 41.015625 30.8125 33.5 32.328125 \nL 27.484375 33.5 \nQ 16.453125 35.6875 11.515625 40.375 \nQ 6.59375 45.0625 6.59375 53.421875 \nQ 6.59375 63.09375 13.40625 68.65625 \nQ 20.21875 74.21875 32.171875 74.21875 \nQ 37.3125 74.21875 42.625 73.28125 \nQ 47.953125 72.359375 53.515625 70.515625 \nz\n\" id=\"DejaVuSans-83\"/>\n        <path d=\"M 9.8125 72.90625 \nL 51.703125 72.90625 \nL 51.703125 64.59375 \nL 19.671875 64.59375 \nL 19.671875 43.109375 \nL 48.578125 43.109375 \nL 48.578125 34.8125 \nL 19.671875 34.8125 \nL 19.671875 0 \nL 9.8125 0 \nz\n\" id=\"DejaVuSans-70\"/>\n        <path d=\"M -0.296875 72.90625 \nL 61.375 72.90625 \nL 61.375 64.59375 \nL 35.5 64.59375 \nL 35.5 0 \nL 25.59375 0 \nL 25.59375 64.59375 \nL -0.296875 64.59375 \nz\n\" id=\"DejaVuSans-84\"/>\n       </defs>\n       <use xlink:href=\"#DejaVuSans-77\"/>\n       <use x=\"86.279297\" xlink:href=\"#DejaVuSans-83\"/>\n       <use x=\"149.755859\" xlink:href=\"#DejaVuSans-70\"/>\n       <use x=\"205.525391\" xlink:href=\"#DejaVuSans-84\"/>\n      </g>\n     </g>\n    </g>\n    <g id=\"xtick_3\">\n     <g id=\"line2d_3\">\n      <g>\n       <use style=\"stroke:#000000;stroke-width:0.8;\" x=\"601.78125\" xlink:href=\"#m50b6ffab69\" y=\"348.478125\"/>\n      </g>\n     </g>\n     <g id=\"text_3\">\n      <!-- NVDA -->\n      <g transform=\"translate(587.4375 363.076562)scale(0.1 -0.1)\">\n       <defs>\n        <path d=\"M 9.8125 72.90625 \nL 23.09375 72.90625 \nL 55.421875 11.921875 \nL 55.421875 72.90625 \nL 64.984375 72.90625 \nL 64.984375 0 \nL 51.703125 0 \nL 19.390625 60.984375 \nL 19.390625 0 \nL 9.8125 0 \nz\n\" id=\"DejaVuSans-78\"/>\n        <path d=\"M 28.609375 0 \nL 0.78125 72.90625 \nL 11.078125 72.90625 \nL 34.1875 11.53125 \nL 57.328125 72.90625 \nL 67.578125 72.90625 \nL 39.796875 0 \nz\n\" id=\"DejaVuSans-86\"/>\n        <path d=\"M 19.671875 64.796875 \nL 19.671875 8.109375 \nL 31.59375 8.109375 \nQ 46.6875 8.109375 53.6875 14.9375 \nQ 60.6875 21.78125 60.6875 36.53125 \nQ 60.6875 51.171875 53.6875 57.984375 \nQ 46.6875 64.796875 31.59375 64.796875 \nz\nM 9.8125 72.90625 \nL 30.078125 72.90625 \nQ 51.265625 72.90625 61.171875 64.09375 \nQ 71.09375 55.28125 71.09375 36.53125 \nQ 71.09375 17.671875 61.125 8.828125 \nQ 51.171875 0 30.078125 0 \nL 9.8125 0 \nz\n\" id=\"DejaVuSans-68\"/>\n       </defs>\n       <use xlink:href=\"#DejaVuSans-78\"/>\n       <use x=\"74.804688\" xlink:href=\"#DejaVuSans-86\"/>\n       <use x=\"143.212891\" xlink:href=\"#DejaVuSans-68\"/>\n       <use x=\"218.464844\" xlink:href=\"#DejaVuSans-65\"/>\n      </g>\n     </g>\n    </g>\n    <g id=\"text_4\">\n     <!-- Ticker -->\n     <g transform=\"translate(363.699219 376.754687)scale(0.1 -0.1)\">\n      <defs>\n       <path d=\"M 9.421875 54.6875 \nL 18.40625 54.6875 \nL 18.40625 0 \nL 9.421875 0 \nz\nM 9.421875 75.984375 \nL 18.40625 75.984375 \nL 18.40625 64.59375 \nL 9.421875 64.59375 \nz\n\" id=\"DejaVuSans-105\"/>\n       <path d=\"M 48.78125 52.59375 \nL 48.78125 44.1875 \nQ 44.96875 46.296875 41.140625 47.34375 \nQ 37.3125 48.390625 33.40625 48.390625 \nQ 24.65625 48.390625 19.8125 42.84375 \nQ 14.984375 37.3125 14.984375 27.296875 \nQ 14.984375 17.28125 19.8125 11.734375 \nQ 24.65625 6.203125 33.40625 6.203125 \nQ 37.3125 6.203125 41.140625 7.25 \nQ 44.96875 8.296875 48.78125 10.40625 \nL 48.78125 2.09375 \nQ 45.015625 0.34375 40.984375 -0.53125 \nQ 36.96875 -1.421875 32.421875 -1.421875 \nQ 20.0625 -1.421875 12.78125 6.34375 \nQ 5.515625 14.109375 5.515625 27.296875 \nQ 5.515625 40.671875 12.859375 48.328125 \nQ 20.21875 56 33.015625 56 \nQ 37.15625 56 41.109375 55.140625 \nQ 45.0625 54.296875 48.78125 52.59375 \nz\n\" id=\"DejaVuSans-99\"/>\n       <path d=\"M 9.078125 75.984375 \nL 18.109375 75.984375 \nL 18.109375 31.109375 \nL 44.921875 54.6875 \nL 56.390625 54.6875 \nL 27.390625 29.109375 \nL 57.625 0 \nL 45.90625 0 \nL 18.109375 26.703125 \nL 18.109375 0 \nL 9.078125 0 \nz\n\" id=\"DejaVuSans-107\"/>\n       <path d=\"M 56.203125 29.59375 \nL 56.203125 25.203125 \nL 14.890625 25.203125 \nQ 15.484375 15.921875 20.484375 11.0625 \nQ 25.484375 6.203125 34.421875 6.203125 \nQ 39.59375 6.203125 44.453125 7.46875 \nQ 49.3125 8.734375 54.109375 11.28125 \nL 54.109375 2.78125 \nQ 49.265625 0.734375 44.1875 -0.34375 \nQ 39.109375 -1.421875 33.890625 -1.421875 \nQ 20.796875 -1.421875 13.15625 6.1875 \nQ 5.515625 13.8125 5.515625 26.8125 \nQ 5.515625 40.234375 12.765625 48.109375 \nQ 20.015625 56 32.328125 56 \nQ 43.359375 56 49.78125 48.890625 \nQ 56.203125 41.796875 56.203125 29.59375 \nz\nM 47.21875 32.234375 \nQ 47.125 39.59375 43.09375 43.984375 \nQ 39.0625 48.390625 32.421875 48.390625 \nQ 24.90625 48.390625 20.390625 44.140625 \nQ 15.875 39.890625 15.1875 32.171875 \nz\n\" id=\"DejaVuSans-101\"/>\n       <path d=\"M 41.109375 46.296875 \nQ 39.59375 47.171875 37.8125 47.578125 \nQ 36.03125 48 33.890625 48 \nQ 26.265625 48 22.1875 43.046875 \nQ 18.109375 38.09375 18.109375 28.8125 \nL 18.109375 0 \nL 9.078125 0 \nL 9.078125 54.6875 \nL 18.109375 54.6875 \nL 18.109375 46.1875 \nQ 20.953125 51.171875 25.484375 53.578125 \nQ 30.03125 56 36.53125 56 \nQ 37.453125 56 38.578125 55.875 \nQ 39.703125 55.765625 41.0625 55.515625 \nz\n\" id=\"DejaVuSans-114\"/>\n      </defs>\n      <use xlink:href=\"#DejaVuSans-84\"/>\n      <use x=\"57.958984\" xlink:href=\"#DejaVuSans-105\"/>\n      <use x=\"85.742188\" xlink:href=\"#DejaVuSans-99\"/>\n      <use x=\"140.722656\" xlink:href=\"#DejaVuSans-107\"/>\n      <use x=\"195.007812\" xlink:href=\"#DejaVuSans-101\"/>\n      <use x=\"256.53125\" xlink:href=\"#DejaVuSans-114\"/>\n     </g>\n    </g>\n   </g>\n   <g id=\"matplotlib.axis_2\">\n    <g id=\"ytick_1\">\n     <g id=\"line2d_4\">\n      <defs>\n       <path d=\"M 0 0 \nL -3.5 0 \n\" id=\"mf88a758ae5\" style=\"stroke:#000000;stroke-width:0.8;\"/>\n      </defs>\n      <g>\n       <use style=\"stroke:#000000;stroke-width:0.8;\" x=\"43.78125\" xlink:href=\"#mf88a758ae5\" y=\"348.478125\"/>\n      </g>\n     </g>\n     <g id=\"text_5\">\n      <!-- 0.0 -->\n      <g transform=\"translate(20.878125 352.277344)scale(0.1 -0.1)\">\n       <defs>\n        <path d=\"M 31.78125 66.40625 \nQ 24.171875 66.40625 20.328125 58.90625 \nQ 16.5 51.421875 16.5 36.375 \nQ 16.5 21.390625 20.328125 13.890625 \nQ 24.171875 6.390625 31.78125 6.390625 \nQ 39.453125 6.390625 43.28125 13.890625 \nQ 47.125 21.390625 47.125 36.375 \nQ 47.125 51.421875 43.28125 58.90625 \nQ 39.453125 66.40625 31.78125 66.40625 \nz\nM 31.78125 74.21875 \nQ 44.046875 74.21875 50.515625 64.515625 \nQ 56.984375 54.828125 56.984375 36.375 \nQ 56.984375 17.96875 50.515625 8.265625 \nQ 44.046875 -1.421875 31.78125 -1.421875 \nQ 19.53125 -1.421875 13.0625 8.265625 \nQ 6.59375 17.96875 6.59375 36.375 \nQ 6.59375 54.828125 13.0625 64.515625 \nQ 19.53125 74.21875 31.78125 74.21875 \nz\n\" id=\"DejaVuSans-48\"/>\n        <path d=\"M 10.6875 12.40625 \nL 21 12.40625 \nL 21 0 \nL 10.6875 0 \nz\n\" id=\"DejaVuSans-46\"/>\n       </defs>\n       <use xlink:href=\"#DejaVuSans-48\"/>\n       <use x=\"63.623047\" xlink:href=\"#DejaVuSans-46\"/>\n       <use x=\"95.410156\" xlink:href=\"#DejaVuSans-48\"/>\n      </g>\n     </g>\n    </g>\n    <g id=\"ytick_2\">\n     <g id=\"line2d_5\">\n      <g>\n       <use style=\"stroke:#000000;stroke-width:0.8;\" x=\"43.78125\" xlink:href=\"#mf88a758ae5\" y=\"277.037233\"/>\n      </g>\n     </g>\n     <g id=\"text_6\">\n      <!-- 0.2 -->\n      <g transform=\"translate(20.878125 280.836452)scale(0.1 -0.1)\">\n       <defs>\n        <path d=\"M 19.1875 8.296875 \nL 53.609375 8.296875 \nL 53.609375 0 \nL 7.328125 0 \nL 7.328125 8.296875 \nQ 12.9375 14.109375 22.625 23.890625 \nQ 32.328125 33.6875 34.8125 36.53125 \nQ 39.546875 41.84375 41.421875 45.53125 \nQ 43.3125 49.21875 43.3125 52.78125 \nQ 43.3125 58.59375 39.234375 62.25 \nQ 35.15625 65.921875 28.609375 65.921875 \nQ 23.96875 65.921875 18.8125 64.3125 \nQ 13.671875 62.703125 7.8125 59.421875 \nL 7.8125 69.390625 \nQ 13.765625 71.78125 18.9375 73 \nQ 24.125 74.21875 28.421875 74.21875 \nQ 39.75 74.21875 46.484375 68.546875 \nQ 53.21875 62.890625 53.21875 53.421875 \nQ 53.21875 48.921875 51.53125 44.890625 \nQ 49.859375 40.875 45.40625 35.40625 \nQ 44.1875 33.984375 37.640625 27.21875 \nQ 31.109375 20.453125 19.1875 8.296875 \nz\n\" id=\"DejaVuSans-50\"/>\n       </defs>\n       <use xlink:href=\"#DejaVuSans-48\"/>\n       <use x=\"63.623047\" xlink:href=\"#DejaVuSans-46\"/>\n       <use x=\"95.410156\" xlink:href=\"#DejaVuSans-50\"/>\n      </g>\n     </g>\n    </g>\n    <g id=\"ytick_3\">\n     <g id=\"line2d_6\">\n      <g>\n       <use style=\"stroke:#000000;stroke-width:0.8;\" x=\"43.78125\" xlink:href=\"#mf88a758ae5\" y=\"205.596341\"/>\n      </g>\n     </g>\n     <g id=\"text_7\">\n      <!-- 0.4 -->\n      <g transform=\"translate(20.878125 209.395559)scale(0.1 -0.1)\">\n       <defs>\n        <path d=\"M 37.796875 64.3125 \nL 12.890625 25.390625 \nL 37.796875 25.390625 \nz\nM 35.203125 72.90625 \nL 47.609375 72.90625 \nL 47.609375 25.390625 \nL 58.015625 25.390625 \nL 58.015625 17.1875 \nL 47.609375 17.1875 \nL 47.609375 0 \nL 37.796875 0 \nL 37.796875 17.1875 \nL 4.890625 17.1875 \nL 4.890625 26.703125 \nz\n\" id=\"DejaVuSans-52\"/>\n       </defs>\n       <use xlink:href=\"#DejaVuSans-48\"/>\n       <use x=\"63.623047\" xlink:href=\"#DejaVuSans-46\"/>\n       <use x=\"95.410156\" xlink:href=\"#DejaVuSans-52\"/>\n      </g>\n     </g>\n    </g>\n    <g id=\"ytick_4\">\n     <g id=\"line2d_7\">\n      <g>\n       <use style=\"stroke:#000000;stroke-width:0.8;\" x=\"43.78125\" xlink:href=\"#mf88a758ae5\" y=\"134.155448\"/>\n      </g>\n     </g>\n     <g id=\"text_8\">\n      <!-- 0.6 -->\n      <g transform=\"translate(20.878125 137.954667)scale(0.1 -0.1)\">\n       <defs>\n        <path d=\"M 33.015625 40.375 \nQ 26.375 40.375 22.484375 35.828125 \nQ 18.609375 31.296875 18.609375 23.390625 \nQ 18.609375 15.53125 22.484375 10.953125 \nQ 26.375 6.390625 33.015625 6.390625 \nQ 39.65625 6.390625 43.53125 10.953125 \nQ 47.40625 15.53125 47.40625 23.390625 \nQ 47.40625 31.296875 43.53125 35.828125 \nQ 39.65625 40.375 33.015625 40.375 \nz\nM 52.59375 71.296875 \nL 52.59375 62.3125 \nQ 48.875 64.0625 45.09375 64.984375 \nQ 41.3125 65.921875 37.59375 65.921875 \nQ 27.828125 65.921875 22.671875 59.328125 \nQ 17.53125 52.734375 16.796875 39.40625 \nQ 19.671875 43.65625 24.015625 45.921875 \nQ 28.375 48.1875 33.59375 48.1875 \nQ 44.578125 48.1875 50.953125 41.515625 \nQ 57.328125 34.859375 57.328125 23.390625 \nQ 57.328125 12.15625 50.6875 5.359375 \nQ 44.046875 -1.421875 33.015625 -1.421875 \nQ 20.359375 -1.421875 13.671875 8.265625 \nQ 6.984375 17.96875 6.984375 36.375 \nQ 6.984375 53.65625 15.1875 63.9375 \nQ 23.390625 74.21875 37.203125 74.21875 \nQ 40.921875 74.21875 44.703125 73.484375 \nQ 48.484375 72.75 52.59375 71.296875 \nz\n\" id=\"DejaVuSans-54\"/>\n       </defs>\n       <use xlink:href=\"#DejaVuSans-48\"/>\n       <use x=\"63.623047\" xlink:href=\"#DejaVuSans-46\"/>\n       <use x=\"95.410156\" xlink:href=\"#DejaVuSans-54\"/>\n      </g>\n     </g>\n    </g>\n    <g id=\"ytick_5\">\n     <g id=\"line2d_8\">\n      <g>\n       <use style=\"stroke:#000000;stroke-width:0.8;\" x=\"43.78125\" xlink:href=\"#mf88a758ae5\" y=\"62.714556\"/>\n      </g>\n     </g>\n     <g id=\"text_9\">\n      <!-- 0.8 -->\n      <g transform=\"translate(20.878125 66.513775)scale(0.1 -0.1)\">\n       <defs>\n        <path d=\"M 31.78125 34.625 \nQ 24.75 34.625 20.71875 30.859375 \nQ 16.703125 27.09375 16.703125 20.515625 \nQ 16.703125 13.921875 20.71875 10.15625 \nQ 24.75 6.390625 31.78125 6.390625 \nQ 38.8125 6.390625 42.859375 10.171875 \nQ 46.921875 13.96875 46.921875 20.515625 \nQ 46.921875 27.09375 42.890625 30.859375 \nQ 38.875 34.625 31.78125 34.625 \nz\nM 21.921875 38.8125 \nQ 15.578125 40.375 12.03125 44.71875 \nQ 8.5 49.078125 8.5 55.328125 \nQ 8.5 64.0625 14.71875 69.140625 \nQ 20.953125 74.21875 31.78125 74.21875 \nQ 42.671875 74.21875 48.875 69.140625 \nQ 55.078125 64.0625 55.078125 55.328125 \nQ 55.078125 49.078125 51.53125 44.71875 \nQ 48 40.375 41.703125 38.8125 \nQ 48.828125 37.15625 52.796875 32.3125 \nQ 56.78125 27.484375 56.78125 20.515625 \nQ 56.78125 9.90625 50.3125 4.234375 \nQ 43.84375 -1.421875 31.78125 -1.421875 \nQ 19.734375 -1.421875 13.25 4.234375 \nQ 6.78125 9.90625 6.78125 20.515625 \nQ 6.78125 27.484375 10.78125 32.3125 \nQ 14.796875 37.15625 21.921875 38.8125 \nz\nM 18.3125 54.390625 \nQ 18.3125 48.734375 21.84375 45.5625 \nQ 25.390625 42.390625 31.78125 42.390625 \nQ 38.140625 42.390625 41.71875 45.5625 \nQ 45.3125 48.734375 45.3125 54.390625 \nQ 45.3125 60.0625 41.71875 63.234375 \nQ 38.140625 66.40625 31.78125 66.40625 \nQ 25.390625 66.40625 21.84375 63.234375 \nQ 18.3125 60.0625 18.3125 54.390625 \nz\n\" id=\"DejaVuSans-56\"/>\n       </defs>\n       <use xlink:href=\"#DejaVuSans-48\"/>\n       <use x=\"63.623047\" xlink:href=\"#DejaVuSans-46\"/>\n       <use x=\"95.410156\" xlink:href=\"#DejaVuSans-56\"/>\n      </g>\n     </g>\n    </g>\n    <g id=\"text_10\">\n     <!-- sentiment -->\n     <g transform=\"translate(14.798438 210.673125)rotate(-90)scale(0.1 -0.1)\">\n      <defs>\n       <path d=\"M 44.28125 53.078125 \nL 44.28125 44.578125 \nQ 40.484375 46.53125 36.375 47.5 \nQ 32.28125 48.484375 27.875 48.484375 \nQ 21.1875 48.484375 17.84375 46.4375 \nQ 14.5 44.390625 14.5 40.28125 \nQ 14.5 37.15625 16.890625 35.375 \nQ 19.28125 33.59375 26.515625 31.984375 \nL 29.59375 31.296875 \nQ 39.15625 29.25 43.1875 25.515625 \nQ 47.21875 21.78125 47.21875 15.09375 \nQ 47.21875 7.46875 41.1875 3.015625 \nQ 35.15625 -1.421875 24.609375 -1.421875 \nQ 20.21875 -1.421875 15.453125 -0.5625 \nQ 10.6875 0.296875 5.421875 2 \nL 5.421875 11.28125 \nQ 10.40625 8.6875 15.234375 7.390625 \nQ 20.0625 6.109375 24.8125 6.109375 \nQ 31.15625 6.109375 34.5625 8.28125 \nQ 37.984375 10.453125 37.984375 14.40625 \nQ 37.984375 18.0625 35.515625 20.015625 \nQ 33.0625 21.96875 24.703125 23.78125 \nL 21.578125 24.515625 \nQ 13.234375 26.265625 9.515625 29.90625 \nQ 5.8125 33.546875 5.8125 39.890625 \nQ 5.8125 47.609375 11.28125 51.796875 \nQ 16.75 56 26.8125 56 \nQ 31.78125 56 36.171875 55.265625 \nQ 40.578125 54.546875 44.28125 53.078125 \nz\n\" id=\"DejaVuSans-115\"/>\n       <path d=\"M 54.890625 33.015625 \nL 54.890625 0 \nL 45.90625 0 \nL 45.90625 32.71875 \nQ 45.90625 40.484375 42.875 44.328125 \nQ 39.84375 48.1875 33.796875 48.1875 \nQ 26.515625 48.1875 22.3125 43.546875 \nQ 18.109375 38.921875 18.109375 30.90625 \nL 18.109375 0 \nL 9.078125 0 \nL 9.078125 54.6875 \nL 18.109375 54.6875 \nL 18.109375 46.1875 \nQ 21.34375 51.125 25.703125 53.5625 \nQ 30.078125 56 35.796875 56 \nQ 45.21875 56 50.046875 50.171875 \nQ 54.890625 44.34375 54.890625 33.015625 \nz\n\" id=\"DejaVuSans-110\"/>\n       <path d=\"M 18.3125 70.21875 \nL 18.3125 54.6875 \nL 36.8125 54.6875 \nL 36.8125 47.703125 \nL 18.3125 47.703125 \nL 18.3125 18.015625 \nQ 18.3125 11.328125 20.140625 9.421875 \nQ 21.96875 7.515625 27.59375 7.515625 \nL 36.8125 7.515625 \nL 36.8125 0 \nL 27.59375 0 \nQ 17.1875 0 13.234375 3.875 \nQ 9.28125 7.765625 9.28125 18.015625 \nL 9.28125 47.703125 \nL 2.6875 47.703125 \nL 2.6875 54.6875 \nL 9.28125 54.6875 \nL 9.28125 70.21875 \nz\n\" id=\"DejaVuSans-116\"/>\n       <path d=\"M 52 44.1875 \nQ 55.375 50.25 60.0625 53.125 \nQ 64.75 56 71.09375 56 \nQ 79.640625 56 84.28125 50.015625 \nQ 88.921875 44.046875 88.921875 33.015625 \nL 88.921875 0 \nL 79.890625 0 \nL 79.890625 32.71875 \nQ 79.890625 40.578125 77.09375 44.375 \nQ 74.3125 48.1875 68.609375 48.1875 \nQ 61.625 48.1875 57.5625 43.546875 \nQ 53.515625 38.921875 53.515625 30.90625 \nL 53.515625 0 \nL 44.484375 0 \nL 44.484375 32.71875 \nQ 44.484375 40.625 41.703125 44.40625 \nQ 38.921875 48.1875 33.109375 48.1875 \nQ 26.21875 48.1875 22.15625 43.53125 \nQ 18.109375 38.875 18.109375 30.90625 \nL 18.109375 0 \nL 9.078125 0 \nL 9.078125 54.6875 \nL 18.109375 54.6875 \nL 18.109375 46.1875 \nQ 21.1875 51.21875 25.484375 53.609375 \nQ 29.78125 56 35.6875 56 \nQ 41.65625 56 45.828125 52.96875 \nQ 50 49.953125 52 44.1875 \nz\n\" id=\"DejaVuSans-109\"/>\n      </defs>\n      <use xlink:href=\"#DejaVuSans-115\"/>\n      <use x=\"52.099609\" xlink:href=\"#DejaVuSans-101\"/>\n      <use x=\"113.623047\" xlink:href=\"#DejaVuSans-110\"/>\n      <use x=\"177.001953\" xlink:href=\"#DejaVuSans-116\"/>\n      <use x=\"216.210938\" xlink:href=\"#DejaVuSans-105\"/>\n      <use x=\"243.994141\" xlink:href=\"#DejaVuSans-109\"/>\n      <use x=\"341.40625\" xlink:href=\"#DejaVuSans-101\"/>\n      <use x=\"402.929688\" xlink:href=\"#DejaVuSans-110\"/>\n      <use x=\"466.308594\" xlink:href=\"#DejaVuSans-116\"/>\n     </g>\n    </g>\n   </g>\n   <g id=\"patch_15\">\n    <path d=\"M 43.78125 348.478125 \nL 43.78125 22.318125 \n\" style=\"fill:none;stroke:#000000;stroke-linecap:square;stroke-linejoin:miter;stroke-width:0.8;\"/>\n   </g>\n   <g id=\"patch_16\">\n    <path d=\"M 713.38125 348.478125 \nL 713.38125 22.318125 \n\" style=\"fill:none;stroke:#000000;stroke-linecap:square;stroke-linejoin:miter;stroke-width:0.8;\"/>\n   </g>\n   <g id=\"patch_17\">\n    <path d=\"M 43.78125 348.478125 \nL 713.38125 348.478125 \n\" style=\"fill:none;stroke:#000000;stroke-linecap:square;stroke-linejoin:miter;stroke-width:0.8;\"/>\n   </g>\n   <g id=\"patch_18\">\n    <path d=\"M 43.78125 22.318125 \nL 713.38125 22.318125 \n\" style=\"fill:none;stroke:#000000;stroke-linecap:square;stroke-linejoin:miter;stroke-width:0.8;\"/>\n   </g>\n   <g id=\"text_11\">\n    <!-- Sentiment Analysis -->\n    <g transform=\"translate(320.940938 16.318125)scale(0.12 -0.12)\">\n     <defs>\n      <path id=\"DejaVuSans-32\"/>\n      <path d=\"M 34.28125 27.484375 \nQ 23.390625 27.484375 19.1875 25 \nQ 14.984375 22.515625 14.984375 16.5 \nQ 14.984375 11.71875 18.140625 8.90625 \nQ 21.296875 6.109375 26.703125 6.109375 \nQ 34.1875 6.109375 38.703125 11.40625 \nQ 43.21875 16.703125 43.21875 25.484375 \nL 43.21875 27.484375 \nz\nM 52.203125 31.203125 \nL 52.203125 0 \nL 43.21875 0 \nL 43.21875 8.296875 \nQ 40.140625 3.328125 35.546875 0.953125 \nQ 30.953125 -1.421875 24.3125 -1.421875 \nQ 15.921875 -1.421875 10.953125 3.296875 \nQ 6 8.015625 6 15.921875 \nQ 6 25.140625 12.171875 29.828125 \nQ 18.359375 34.515625 30.609375 34.515625 \nL 43.21875 34.515625 \nL 43.21875 35.40625 \nQ 43.21875 41.609375 39.140625 45 \nQ 35.0625 48.390625 27.6875 48.390625 \nQ 23 48.390625 18.546875 47.265625 \nQ 14.109375 46.140625 10.015625 43.890625 \nL 10.015625 52.203125 \nQ 14.9375 54.109375 19.578125 55.046875 \nQ 24.21875 56 28.609375 56 \nQ 40.484375 56 46.34375 49.84375 \nQ 52.203125 43.703125 52.203125 31.203125 \nz\n\" id=\"DejaVuSans-97\"/>\n      <path d=\"M 9.421875 75.984375 \nL 18.40625 75.984375 \nL 18.40625 0 \nL 9.421875 0 \nz\n\" id=\"DejaVuSans-108\"/>\n      <path d=\"M 32.171875 -5.078125 \nQ 28.375 -14.84375 24.75 -17.8125 \nQ 21.140625 -20.796875 15.09375 -20.796875 \nL 7.90625 -20.796875 \nL 7.90625 -13.28125 \nL 13.1875 -13.28125 \nQ 16.890625 -13.28125 18.9375 -11.515625 \nQ 21 -9.765625 23.484375 -3.21875 \nL 25.09375 0.875 \nL 2.984375 54.6875 \nL 12.5 54.6875 \nL 29.59375 11.921875 \nL 46.6875 54.6875 \nL 56.203125 54.6875 \nz\n\" id=\"DejaVuSans-121\"/>\n     </defs>\n     <use xlink:href=\"#DejaVuSans-83\"/>\n     <use x=\"63.476562\" xlink:href=\"#DejaVuSans-101\"/>\n     <use x=\"125\" xlink:href=\"#DejaVuSans-110\"/>\n     <use x=\"188.378906\" xlink:href=\"#DejaVuSans-116\"/>\n     <use x=\"227.587891\" xlink:href=\"#DejaVuSans-105\"/>\n     <use x=\"255.371094\" xlink:href=\"#DejaVuSans-109\"/>\n     <use x=\"352.783203\" xlink:href=\"#DejaVuSans-101\"/>\n     <use x=\"414.306641\" xlink:href=\"#DejaVuSans-110\"/>\n     <use x=\"477.685547\" xlink:href=\"#DejaVuSans-116\"/>\n     <use x=\"516.894531\" xlink:href=\"#DejaVuSans-32\"/>\n     <use x=\"548.681641\" xlink:href=\"#DejaVuSans-65\"/>\n     <use x=\"617.089844\" xlink:href=\"#DejaVuSans-110\"/>\n     <use x=\"680.46875\" xlink:href=\"#DejaVuSans-97\"/>\n     <use x=\"741.748047\" xlink:href=\"#DejaVuSans-108\"/>\n     <use x=\"769.53125\" xlink:href=\"#DejaVuSans-121\"/>\n     <use x=\"828.710938\" xlink:href=\"#DejaVuSans-115\"/>\n     <use x=\"880.810547\" xlink:href=\"#DejaVuSans-105\"/>\n     <use x=\"908.59375\" xlink:href=\"#DejaVuSans-115\"/>\n    </g>\n   </g>\n   <g id=\"legend_1\">\n    <g id=\"patch_19\">\n     <path d=\"M 621.532812 89.030625 \nL 706.38125 89.030625 \nQ 708.38125 89.030625 708.38125 87.030625 \nL 708.38125 29.318125 \nQ 708.38125 27.318125 706.38125 27.318125 \nL 621.532812 27.318125 \nQ 619.532812 27.318125 619.532812 29.318125 \nL 619.532812 87.030625 \nQ 619.532812 89.030625 621.532812 89.030625 \nz\n\" style=\"fill:#ffffff;opacity:0.8;stroke:#cccccc;stroke-linejoin:miter;\"/>\n    </g>\n    <g id=\"patch_20\">\n     <path d=\"M 623.532812 38.916562 \nL 643.532812 38.916562 \nL 643.532812 31.916562 \nL 623.532812 31.916562 \nz\n\" style=\"fill:#1f77b4;\"/>\n    </g>\n    <g id=\"text_12\">\n     <!-- neg -->\n     <g transform=\"translate(651.532812 38.916562)scale(0.1 -0.1)\">\n      <defs>\n       <path d=\"M 45.40625 27.984375 \nQ 45.40625 37.75 41.375 43.109375 \nQ 37.359375 48.484375 30.078125 48.484375 \nQ 22.859375 48.484375 18.828125 43.109375 \nQ 14.796875 37.75 14.796875 27.984375 \nQ 14.796875 18.265625 18.828125 12.890625 \nQ 22.859375 7.515625 30.078125 7.515625 \nQ 37.359375 7.515625 41.375 12.890625 \nQ 45.40625 18.265625 45.40625 27.984375 \nz\nM 54.390625 6.78125 \nQ 54.390625 -7.171875 48.1875 -13.984375 \nQ 42 -20.796875 29.203125 -20.796875 \nQ 24.46875 -20.796875 20.265625 -20.09375 \nQ 16.0625 -19.390625 12.109375 -17.921875 \nL 12.109375 -9.1875 \nQ 16.0625 -11.328125 19.921875 -12.34375 \nQ 23.78125 -13.375 27.78125 -13.375 \nQ 36.625 -13.375 41.015625 -8.765625 \nQ 45.40625 -4.15625 45.40625 5.171875 \nL 45.40625 9.625 \nQ 42.625 4.78125 38.28125 2.390625 \nQ 33.9375 0 27.875 0 \nQ 17.828125 0 11.671875 7.65625 \nQ 5.515625 15.328125 5.515625 27.984375 \nQ 5.515625 40.671875 11.671875 48.328125 \nQ 17.828125 56 27.875 56 \nQ 33.9375 56 38.28125 53.609375 \nQ 42.625 51.21875 45.40625 46.390625 \nL 45.40625 54.6875 \nL 54.390625 54.6875 \nz\n\" id=\"DejaVuSans-103\"/>\n      </defs>\n      <use xlink:href=\"#DejaVuSans-110\"/>\n      <use x=\"63.378906\" xlink:href=\"#DejaVuSans-101\"/>\n      <use x=\"124.902344\" xlink:href=\"#DejaVuSans-103\"/>\n     </g>\n    </g>\n    <g id=\"patch_21\">\n     <path d=\"M 623.532812 53.594687 \nL 643.532812 53.594687 \nL 643.532812 46.594687 \nL 623.532812 46.594687 \nz\n\" style=\"fill:#ff7f0e;\"/>\n    </g>\n    <g id=\"text_13\">\n     <!-- neu -->\n     <g transform=\"translate(651.532812 53.594687)scale(0.1 -0.1)\">\n      <defs>\n       <path d=\"M 8.5 21.578125 \nL 8.5 54.6875 \nL 17.484375 54.6875 \nL 17.484375 21.921875 \nQ 17.484375 14.15625 20.5 10.265625 \nQ 23.53125 6.390625 29.59375 6.390625 \nQ 36.859375 6.390625 41.078125 11.03125 \nQ 45.3125 15.671875 45.3125 23.6875 \nL 45.3125 54.6875 \nL 54.296875 54.6875 \nL 54.296875 0 \nL 45.3125 0 \nL 45.3125 8.40625 \nQ 42.046875 3.421875 37.71875 1 \nQ 33.40625 -1.421875 27.6875 -1.421875 \nQ 18.265625 -1.421875 13.375 4.4375 \nQ 8.5 10.296875 8.5 21.578125 \nz\nM 31.109375 56 \nz\n\" id=\"DejaVuSans-117\"/>\n      </defs>\n      <use xlink:href=\"#DejaVuSans-110\"/>\n      <use x=\"63.378906\" xlink:href=\"#DejaVuSans-101\"/>\n      <use x=\"124.902344\" xlink:href=\"#DejaVuSans-117\"/>\n     </g>\n    </g>\n    <g id=\"patch_22\">\n     <path d=\"M 623.532812 68.272812 \nL 643.532812 68.272812 \nL 643.532812 61.272812 \nL 623.532812 61.272812 \nz\n\" style=\"fill:#2ca02c;\"/>\n    </g>\n    <g id=\"text_14\">\n     <!-- pos -->\n     <g transform=\"translate(651.532812 68.272812)scale(0.1 -0.1)\">\n      <defs>\n       <path d=\"M 18.109375 8.203125 \nL 18.109375 -20.796875 \nL 9.078125 -20.796875 \nL 9.078125 54.6875 \nL 18.109375 54.6875 \nL 18.109375 46.390625 \nQ 20.953125 51.265625 25.265625 53.625 \nQ 29.59375 56 35.59375 56 \nQ 45.5625 56 51.78125 48.09375 \nQ 58.015625 40.1875 58.015625 27.296875 \nQ 58.015625 14.40625 51.78125 6.484375 \nQ 45.5625 -1.421875 35.59375 -1.421875 \nQ 29.59375 -1.421875 25.265625 0.953125 \nQ 20.953125 3.328125 18.109375 8.203125 \nz\nM 48.6875 27.296875 \nQ 48.6875 37.203125 44.609375 42.84375 \nQ 40.53125 48.484375 33.40625 48.484375 \nQ 26.265625 48.484375 22.1875 42.84375 \nQ 18.109375 37.203125 18.109375 27.296875 \nQ 18.109375 17.390625 22.1875 11.75 \nQ 26.265625 6.109375 33.40625 6.109375 \nQ 40.53125 6.109375 44.609375 11.75 \nQ 48.6875 17.390625 48.6875 27.296875 \nz\n\" id=\"DejaVuSans-112\"/>\n       <path d=\"M 30.609375 48.390625 \nQ 23.390625 48.390625 19.1875 42.75 \nQ 14.984375 37.109375 14.984375 27.296875 \nQ 14.984375 17.484375 19.15625 11.84375 \nQ 23.34375 6.203125 30.609375 6.203125 \nQ 37.796875 6.203125 41.984375 11.859375 \nQ 46.1875 17.53125 46.1875 27.296875 \nQ 46.1875 37.015625 41.984375 42.703125 \nQ 37.796875 48.390625 30.609375 48.390625 \nz\nM 30.609375 56 \nQ 42.328125 56 49.015625 48.375 \nQ 55.71875 40.765625 55.71875 27.296875 \nQ 55.71875 13.875 49.015625 6.21875 \nQ 42.328125 -1.421875 30.609375 -1.421875 \nQ 18.84375 -1.421875 12.171875 6.21875 \nQ 5.515625 13.875 5.515625 27.296875 \nQ 5.515625 40.765625 12.171875 48.375 \nQ 18.84375 56 30.609375 56 \nz\n\" id=\"DejaVuSans-111\"/>\n      </defs>\n      <use xlink:href=\"#DejaVuSans-112\"/>\n      <use x=\"63.476562\" xlink:href=\"#DejaVuSans-111\"/>\n      <use x=\"124.658203\" xlink:href=\"#DejaVuSans-115\"/>\n     </g>\n    </g>\n    <g id=\"patch_23\">\n     <path d=\"M 623.532812 82.950937 \nL 643.532812 82.950937 \nL 643.532812 75.950937 \nL 623.532812 75.950937 \nz\n\" style=\"fill:#d62728;\"/>\n    </g>\n    <g id=\"text_15\">\n     <!-- compound -->\n     <g transform=\"translate(651.532812 82.950937)scale(0.1 -0.1)\">\n      <defs>\n       <path d=\"M 45.40625 46.390625 \nL 45.40625 75.984375 \nL 54.390625 75.984375 \nL 54.390625 0 \nL 45.40625 0 \nL 45.40625 8.203125 \nQ 42.578125 3.328125 38.25 0.953125 \nQ 33.9375 -1.421875 27.875 -1.421875 \nQ 17.96875 -1.421875 11.734375 6.484375 \nQ 5.515625 14.40625 5.515625 27.296875 \nQ 5.515625 40.1875 11.734375 48.09375 \nQ 17.96875 56 27.875 56 \nQ 33.9375 56 38.25 53.625 \nQ 42.578125 51.265625 45.40625 46.390625 \nz\nM 14.796875 27.296875 \nQ 14.796875 17.390625 18.875 11.75 \nQ 22.953125 6.109375 30.078125 6.109375 \nQ 37.203125 6.109375 41.296875 11.75 \nQ 45.40625 17.390625 45.40625 27.296875 \nQ 45.40625 37.203125 41.296875 42.84375 \nQ 37.203125 48.484375 30.078125 48.484375 \nQ 22.953125 48.484375 18.875 42.84375 \nQ 14.796875 37.203125 14.796875 27.296875 \nz\n\" id=\"DejaVuSans-100\"/>\n      </defs>\n      <use xlink:href=\"#DejaVuSans-99\"/>\n      <use x=\"54.980469\" xlink:href=\"#DejaVuSans-111\"/>\n      <use x=\"116.162109\" xlink:href=\"#DejaVuSans-109\"/>\n      <use x=\"213.574219\" xlink:href=\"#DejaVuSans-112\"/>\n      <use x=\"277.050781\" xlink:href=\"#DejaVuSans-111\"/>\n      <use x=\"338.232422\" xlink:href=\"#DejaVuSans-117\"/>\n      <use x=\"401.611328\" xlink:href=\"#DejaVuSans-110\"/>\n      <use x=\"464.990234\" xlink:href=\"#DejaVuSans-100\"/>\n     </g>\n    </g>\n   </g>\n  </g>\n </g>\n <defs>\n  <clipPath id=\"p9761d6ebd1\">\n   <rect height=\"326.16\" width=\"669.6\" x=\"43.78125\" y=\"22.318125\"/>\n  </clipPath>\n </defs>\n</svg>\n",
      "image/png": "[encoded data removed]"
     },
     "metadata": {
      "needs_background": "light"
     }
    }
   ],
   "source": [
    "sentiment_combined.plot.bar(figsize=(12,6),title='Sentiment Analysis',ylabel='sentiment', rot=0)"
   ]
  },
  {
   "cell_type": "code",
   "execution_count": null,
   "metadata": {},
   "outputs": [],
   "source": []
  }
 ]
}